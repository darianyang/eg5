{
 "cells": [
  {
   "cell_type": "markdown",
   "id": "f9a01327",
   "metadata": {},
   "source": [
    "## haMSM for Eg5-ADP WT Unbinding WE Simulation Data\n",
    "---\n",
    "Testing different bin configs and how much iteration info I can use."
   ]
  },
  {
   "cell_type": "code",
   "execution_count": 57,
   "id": "44d37f80",
   "metadata": {},
   "outputs": [],
   "source": [
    "import numpy as np\n",
    "import matplotlib.pyplot as plt\n",
    "import h5py\n",
    "import tqdm.auto"
   ]
  },
  {
   "cell_type": "code",
   "execution_count": 58,
   "id": "42a5216e",
   "metadata": {},
   "outputs": [
    {
     "data": {
      "text/plain": [
       "'/ix/lchong/dty7/eg5/h2p-we/multi-mab_nomon_v01/haMSM'"
      ]
     },
     "execution_count": 58,
     "metadata": {},
     "output_type": "execute_result"
    }
   ],
   "source": [
    "pwd"
   ]
  },
  {
   "cell_type": "code",
   "execution_count": 59,
   "id": "51c1f051",
   "metadata": {},
   "outputs": [],
   "source": [
    "from msm_we import msm_we\n",
    "import mdtraj as md"
   ]
  },
  {
   "cell_type": "code",
   "execution_count": 62,
   "id": "0e26c4a2",
   "metadata": {},
   "outputs": [
    {
     "name": "stderr",
     "output_type": "stream",
     "text": [
      "2023-09-01 16:51:29,530\tINFO worker.py:1616 -- Started a local Ray instance. View the dashboard at \u001b[1m\u001b[32m127.0.0.1:8266 \u001b[39m\u001b[22m\n"
     ]
    },
    {
     "data": {
      "text/html": [
       "<div>\n",
       "    <div style=\"margin-left: 50px;display: flex;flex-direction: row;align-items: center\">\n",
       "        <h3 style=\"color: var(--jp-ui-font-color0)\">Ray</h3>\n",
       "        <svg version=\"1.1\" id=\"ray\" width=\"3em\" viewBox=\"0 0 144.5 144.6\" style=\"margin-left: 3em;margin-right: 3em\">\n",
       "            <g id=\"layer-1\">\n",
       "                <path fill=\"#00a2e9\" class=\"st0\" d=\"M97.3,77.2c-3.8-1.1-6.2,0.9-8.3,5.1c-3.5,6.8-9.9,9.9-17.4,9.6S58,88.1,54.8,81.2c-1.4-3-3-4-6.3-4.1\n",
       "                    c-5.6-0.1-9.9,0.1-13.1,6.4c-3.8,7.6-13.6,10.2-21.8,7.6C5.2,88.4-0.4,80.5,0,71.7c0.1-8.4,5.7-15.8,13.8-18.2\n",
       "                    c8.4-2.6,17.5,0.7,22.3,8c1.3,1.9,1.3,5.2,3.6,5.6c3.9,0.6,8,0.2,12,0.2c1.8,0,1.9-1.6,2.4-2.8c3.5-7.8,9.7-11.8,18-11.9\n",
       "                    c8.2-0.1,14.4,3.9,17.8,11.4c1.3,2.8,2.9,3.6,5.7,3.3c1-0.1,2,0.1,3,0c2.8-0.5,6.4,1.7,8.1-2.7s-2.3-5.5-4.1-7.5\n",
       "                    c-5.1-5.7-10.9-10.8-16.1-16.3C84,38,81.9,37.1,78,38.3C66.7,42,56.2,35.7,53,24.1C50.3,14,57.3,2.8,67.7,0.5\n",
       "                    C78.4-2,89,4.7,91.5,15.3c0.1,0.3,0.1,0.5,0.2,0.8c0.7,3.4,0.7,6.9-0.8,9.8c-1.7,3.2-0.8,5,1.5,7.2c6.7,6.5,13.3,13,19.8,19.7\n",
       "                    c1.8,1.8,3,2.1,5.5,1.2c9.1-3.4,17.9-0.6,23.4,7c4.8,6.9,4.6,16.1-0.4,22.9c-5.4,7.2-14.2,9.9-23.1,6.5c-2.3-0.9-3.5-0.6-5.1,1.1\n",
       "                    c-6.7,6.9-13.6,13.7-20.5,20.4c-1.8,1.8-2.5,3.2-1.4,5.9c3.5,8.7,0.3,18.6-7.7,23.6c-7.9,5-18.2,3.8-24.8-2.9\n",
       "                    c-6.4-6.4-7.4-16.2-2.5-24.3c4.9-7.8,14.5-11,23.1-7.8c3,1.1,4.7,0.5,6.9-1.7C91.7,98.4,98,92.3,104.2,86c1.6-1.6,4.1-2.7,2.6-6.2\n",
       "                    c-1.4-3.3-3.8-2.5-6.2-2.6C99.8,77.2,98.9,77.2,97.3,77.2z M72.1,29.7c5.5,0.1,9.9-4.3,10-9.8c0-0.1,0-0.2,0-0.3\n",
       "                    C81.8,14,77,9.8,71.5,10.2c-5,0.3-9,4.2-9.3,9.2c-0.2,5.5,4,10.1,9.5,10.3C71.8,29.7,72,29.7,72.1,29.7z M72.3,62.3\n",
       "                    c-5.4-0.1-9.9,4.2-10.1,9.7c0,0.2,0,0.3,0,0.5c0.2,5.4,4.5,9.7,9.9,10c5.1,0.1,9.9-4.7,10.1-9.8c0.2-5.5-4-10-9.5-10.3\n",
       "                    C72.6,62.3,72.4,62.3,72.3,62.3z M115,72.5c0.1,5.4,4.5,9.7,9.8,9.9c5.6-0.2,10-4.8,10-10.4c-0.2-5.4-4.6-9.7-10-9.7\n",
       "                    c-5.3-0.1-9.8,4.2-9.9,9.5C115,72.1,115,72.3,115,72.5z M19.5,62.3c-5.4,0.1-9.8,4.4-10,9.8c-0.1,5.1,5.2,10.4,10.2,10.3\n",
       "                    c5.6-0.2,10-4.9,9.8-10.5c-0.1-5.4-4.5-9.7-9.9-9.6C19.6,62.3,19.5,62.3,19.5,62.3z M71.8,134.6c5.9,0.2,10.3-3.9,10.4-9.6\n",
       "                    c0.5-5.5-3.6-10.4-9.1-10.8c-5.5-0.5-10.4,3.6-10.8,9.1c0,0.5,0,0.9,0,1.4c-0.2,5.3,4,9.8,9.3,10\n",
       "                    C71.6,134.6,71.7,134.6,71.8,134.6z\"/>\n",
       "            </g>\n",
       "        </svg>\n",
       "        <table>\n",
       "            <tr>\n",
       "                <td style=\"text-align: left\"><b>Python version:</b></td>\n",
       "                <td style=\"text-align: left\"><b>3.10.11</b></td>\n",
       "            </tr>\n",
       "            <tr>\n",
       "                <td style=\"text-align: left\"><b>Ray version:</b></td>\n",
       "                <td style=\"text-align: left\"><b> 2.4.0</b></td>\n",
       "            </tr>\n",
       "            <tr>\n",
       "    <td style=\"text-align: left\"><b>Dashboard:</b></td>\n",
       "    <td style=\"text-align: left\"><b><a href=\"http://127.0.0.1:8266\" target=\"_blank\">http://127.0.0.1:8266</a></b></td>\n",
       "</tr>\n",
       "\n",
       "        </table>\n",
       "    </div>\n",
       "</div>\n"
      ],
      "text/plain": [
       "RayContext(dashboard_url='127.0.0.1:8266', python_version='3.10.11', ray_version='2.4.0', ray_commit='4479f66d4db967d3c9dd0af2572061276ba926ba', address_info={'node_ip_address': '10.201.3.123', 'raylet_ip_address': '10.201.3.123', 'redis_address': None, 'object_store_address': '/scratch/slurm-35746/ray/session_2023-09-01_16-51-08_998051_73894/sockets/plasma_store', 'raylet_socket_name': '/scratch/slurm-35746/ray/session_2023-09-01_16-51-08_998051_73894/sockets/raylet', 'webui_url': '127.0.0.1:8266', 'session_dir': '/scratch/slurm-35746/ray/session_2023-09-01_16-51-08_998051_73894', 'metrics_export_port': 63987, 'gcs_address': '10.201.3.123:49420', 'address': '10.201.3.123:49420', 'dashboard_agent_listen_port': 52365, 'node_id': '1bfdb0822f2e6c08ed31d7d856b5bf5365c115f953afefcf29af7f5e'})"
      ]
     },
     "execution_count": 62,
     "metadata": {},
     "output_type": "execute_result"
    }
   ],
   "source": [
    "import ray\n",
    "ray.init(num_cpus=8)\n",
    "#ray.init()"
   ]
  },
  {
   "cell_type": "code",
   "execution_count": 63,
   "id": "59a51e6c",
   "metadata": {},
   "outputs": [],
   "source": [
    "#ray.shutdown()"
   ]
  },
  {
   "cell_type": "markdown",
   "id": "847a6ce9",
   "metadata": {},
   "source": [
    "Model Name"
   ]
  },
  {
   "cell_type": "code",
   "execution_count": 64,
   "id": "5a1f2135",
   "metadata": {},
   "outputs": [],
   "source": [
    "model_name = 'Eg5_WT_bin_opt'"
   ]
  },
  {
   "cell_type": "code",
   "execution_count": 65,
   "id": "09a47f09",
   "metadata": {},
   "outputs": [],
   "source": [
    "import logging\n",
    "from rich.logging import RichHandler\n",
    "log = logging.getLogger()\n",
    "log.addHandler(RichHandler())\n",
    "\n",
    "msm_log = logging.getLogger(\"msm_we.msm_we\")"
   ]
  },
  {
   "cell_type": "code",
   "execution_count": 66,
   "id": "2bfdb16d",
   "metadata": {},
   "outputs": [],
   "source": [
    "def processCoordinates(self, coords):\n",
    "    log.debug(\"Processing coordinates\")\n",
    "\n",
    "    if self.dimReduceMethod == \"none\":\n",
    "        xt = md.Trajectory(xyz=coords, topology=None)\n",
    "        indCA = self.reference_structure.topology.select(\"name CA\")\n",
    "        indAlign = self.reference_structure.topology.select(\"name CA\")\n",
    "        x2 = xt.superpose(self.reference_structure,atom_indices=indAlign)\n",
    "        coords = x2._xyz.astype('float64')\n",
    "        nA = np.shape(indCA)[0]\n",
    "        nC = np.shape(coords)[0]\n",
    "        new_coords = coords[:,tuple(indCA),:]\n",
    "        #new_coords = numpy.double(new_coords)\n",
    "        #new_coords = coords[:, :923, :]\n",
    "        data = new_coords.reshape(nC, 3 * nA)\n",
    "        model.nAtoms = nA\n",
    "        return data\n",
    "\n",
    "    if self.dimReduceMethod == \"pca\" or self.dimReduceMethod == \"vamp\":\n",
    "\n",
    "        # Dimensionality reduction\n",
    "        \n",
    "        xt = md.Trajectory(xyz=coords, topology=None)\n",
    "        # ADP heavy atoms\n",
    "        indADP = self.reference_structure.topology.select(\"not type H and resid 370\")\n",
    "        # CA atoms of loop 5\n",
    "        indCA = self.reference_structure.topology.select(\"name CA and resid 116 to 133\")\n",
    "        # CA atoms of Eg5 (non-flexible termini)\n",
    "        #indCA = self.reference_structure.topology.select(\"name CA and resid 18 to 364\")\n",
    "        # calc distance matrix\n",
    "        pair1, pair2 = np.meshgrid(indADP, indCA, indexing=\"xy\")\n",
    "        \n",
    "        ### for 2D distance matrices ###\n",
    "        #pair1, pair2 = np.meshgrid(indCA, indCA, indexing=\"xy\")\n",
    "        #indUT = np.where(np.triu(pair1, k=1) > 0)\n",
    "        #pairs = np.transpose(np.array([pair1[indUT], pair2[indUT]])).astype(int)\n",
    "        #dist = md.compute_distances(xt, pairs, periodic=True, opt=True)\n",
    "        \n",
    "        ### special for 1D distance matrix of ADP-Eg5 ###\n",
    "        # make pair array\n",
    "        pairs = np.array((pair1, pair2))\n",
    "        # reduce dim to 2\n",
    "        pairs = pairs.squeeze()\n",
    "        # convert to shape (n_pairs, 2) where row items are the atom index pair vals\n",
    "        pairs = np.rot90(pairs, k=-1)\n",
    "        #indUT = np.where(np.triu(pair1, k=1) > 0)\n",
    "        #pairs = np.transpose(np.array([pair1[indUT], pair2[indUT]])).astype(int)\n",
    "        dist = md.compute_distances(xt, pairs, periodic=True, opt=True)\n",
    "\n",
    "        return dist\n",
    "\n",
    "# Monkey-patch, i.e. replace the placeholder processCoordinates method in msm_we.modelWE\n",
    "msm_we.modelWE.processCoordinates = processCoordinates"
   ]
  },
  {
   "cell_type": "markdown",
   "id": "bfb8f611",
   "metadata": {},
   "source": [
    "Testing different `processCoordinates` code. Needs to be adjusted to handle non-2D distance matrix type data."
   ]
  },
  {
   "cell_type": "code",
   "execution_count": 9,
   "id": "5b267d67",
   "metadata": {},
   "outputs": [],
   "source": [
    "#xt = md.load(\"eg5_2022_dry.pdb\", top=\"eg5_2022_dry.pdb\")\n",
    "#xt = md.Trajectory(xyz=coords, topology=None)\n",
    "# ADP heavy atoms\n",
    "#indADP = xt.topology.select(\"not type H and resid 370\")\n",
    "# CA atoms of Eg5 (non-flexible termini)\n",
    "#indCA = xt.topology.select(\"name CA and resid 18 to 364\")\n",
    "\n",
    "#pair1, pair2 = np.meshgrid(indADP, indCA, indexing=\"xy\")\n",
    "#pair1, pair2 = np.meshgrid(indCA, indCA, indexing=\"xy\")\n",
    "\n",
    "# make pair array\n",
    "#pairs = np.array((pair1, pair2))\n",
    "# reduce dim to 2\n",
    "#pairs = pairs.squeeze()\n",
    "# convert to shape (n_pairs, 2) where row items are the atom index pair vals\n",
    "#pairs = np.rot90(pairs, k=-1)\n",
    "#indUT = np.where(np.triu(pair1, k=1) > 0)\n",
    "#pairs = np.transpose(np.array([pair1[indUT], pair2[indUT]])).astype(int)\n",
    "#dist = md.compute_distances(xt, pairs, periodic=True, opt=True)"
   ]
  },
  {
   "cell_type": "markdown",
   "id": "dd2ad058",
   "metadata": {},
   "source": [
    "Applying sigmoidal transform:"
   ]
  },
  {
   "cell_type": "markdown",
   "id": "3a55e1ed",
   "metadata": {},
   "source": [
    "Trying it with 10A cutoff since using ADP to L5 distances."
   ]
  },
  {
   "cell_type": "code",
   "execution_count": 10,
   "id": "0c416ec2",
   "metadata": {},
   "outputs": [],
   "source": [
    "def sigmoidal(x, cutoff=10):\n",
    "    \"\"\"\n",
    "    $f(x) = 1 - \\frac{1}{1 + \\exp\\frac{-(x-cutoff)}{0.75}}$\n",
    "    \n",
    "    Parameters\n",
    "    ----------\n",
    "    x : input float\n",
    "    \n",
    "    Returns\n",
    "    -------\n",
    "    f(x) : sigmoidal function transformed float\n",
    "    \"\"\"\n",
    "    return 1 - (1 / (1 + np.exp(-(x - cutoff) / 0.75)))"
   ]
  },
  {
   "cell_type": "code",
   "execution_count": 11,
   "id": "5df78484",
   "metadata": {},
   "outputs": [],
   "source": [
    "# vectorize sigmoid function to apply to entire dmat\n",
    "# this should work to apply to multi-dimensional arrays\n",
    "vf = np.vectorize(sigmoidal)"
   ]
  },
  {
   "cell_type": "code",
   "execution_count": 12,
   "id": "7a8f5adc",
   "metadata": {},
   "outputs": [],
   "source": [
    "def processCoordinates(self, coords):\n",
    "    log.debug(\"Processing coordinates\")\n",
    "\n",
    "    if self.dimReduceMethod == \"none\":\n",
    "        xt = md.Trajectory(xyz=coords, topology=None)\n",
    "        indCA = self.reference_structure.topology.select(\"name CA\")\n",
    "        indAlign = self.reference_structure.topology.select(\"name CA\")\n",
    "        x2 = xt.superpose(self.reference_structure,atom_indices=indAlign)\n",
    "        coords = x2._xyz.astype('float64')\n",
    "        nA = np.shape(indCA)[0]\n",
    "        nC = np.shape(coords)[0]\n",
    "        new_coords = coords[:,tuple(indCA),:]\n",
    "        #new_coords = numpy.double(new_coords)\n",
    "        #new_coords = coords[:, :923, :]\n",
    "        data = new_coords.reshape(nC, 3 * nA)\n",
    "        model.nAtoms = nA\n",
    "        return data\n",
    "\n",
    "    if self.dimReduceMethod == \"pca\" or self.dimReduceMethod == \"vamp\":\n",
    "\n",
    "        # Dimensionality reduction\n",
    "        \n",
    "        xt = md.Trajectory(xyz=coords, topology=None)\n",
    "        # ADP heavy atoms\n",
    "        indADP = self.reference_structure.topology.select(\"not type H and resid 370\")\n",
    "        # CA atoms of loop 5\n",
    "        indCA = self.reference_structure.topology.select(\"name CA and resid 116 to 133\")\n",
    "        # CA atoms of Eg5 (non-flexible termini)\n",
    "        #indCA = self.reference_structure.topology.select(\"name CA and resid 18 to 364\")\n",
    "        # calc distance matrix\n",
    "        pair1, pair2 = np.meshgrid(indADP, indCA, indexing=\"xy\")\n",
    "        \n",
    "        ### for 2D distance matrices ###\n",
    "        #pair1, pair2 = np.meshgrid(indCA, indCA, indexing=\"xy\")\n",
    "        #indUT = np.where(np.triu(pair1, k=1) > 0)\n",
    "        #pairs = np.transpose(np.array([pair1[indUT], pair2[indUT]])).astype(int)\n",
    "        #dist = md.compute_distances(xt, pairs, periodic=True, opt=True)\n",
    "        \n",
    "        ### special for 1D distance matrix of ADP-Eg5 ###\n",
    "        # make pair array\n",
    "        pairs = np.array((pair1, pair2))\n",
    "        # reduce dim to 2\n",
    "        pairs = pairs.squeeze()\n",
    "        # convert to shape (n_pairs, 2) where row items are the atom index pair vals\n",
    "        pairs = np.rot90(pairs, k=-1)\n",
    "        #indUT = np.where(np.triu(pair1, k=1) > 0)\n",
    "        #pairs = np.transpose(np.array([pair1[indUT], pair2[indUT]])).astype(int)\n",
    "        dist = md.compute_distances(xt, pairs, periodic=True, opt=True)\n",
    "\n",
    "        return vf(dist)\n",
    "\n",
    "# Monkey-patch, i.e. replace the placeholder processCoordinates method in msm_we.modelWE\n",
    "msm_we.modelWE.processCoordinates = processCoordinates"
   ]
  },
  {
   "cell_type": "markdown",
   "id": "3c2f05c5",
   "metadata": {},
   "source": [
    "### Building block-wise haMSM\n",
    "---"
   ]
  },
  {
   "cell_type": "code",
   "execution_count": 13,
   "id": "575f1642",
   "metadata": {},
   "outputs": [
    {
     "name": "stdout",
     "output_type": "stream",
     "text": [
      "unbound 12 1 6.1 6.1\r\n"
     ]
    }
   ],
   "source": [
    "cat ../tstate.file"
   ]
  },
  {
   "cell_type": "markdown",
   "id": "36d77cae",
   "metadata": {},
   "source": [
    "Create the model object and initialize it"
   ]
  },
  {
   "cell_type": "code",
   "execution_count": 14,
   "id": "a2e2c5d9",
   "metadata": {},
   "outputs": [],
   "source": [
    "model =  msm_we.modelWE()\n",
    "model.initialize(\n",
    "    fileSpecifier=['west-packopt.h5'], \n",
    "    refPDBfile = 'eg5_2022_dry.pdb',\n",
    "    modelName = model_name,\n",
    "    basis_pcoord_bounds  = [[0,10], [100,np.inf], [0,6], [0,6]],\n",
    "    target_pcoord_bounds = [[12,np.inf], [-np.inf,100], [6,np.inf], [6,np.inf]],\n",
    "    dim_reduce_method = 'pca',\n",
    "    tau = 50e-12,\n",
    "    pcoord_ndim = 4,\n",
    ")"
   ]
  },
  {
   "cell_type": "markdown",
   "id": "af2d5e84",
   "metadata": {},
   "source": [
    "Load all coords and pcoords up to the last iteration you want to use for analysis with:\n",
    "\n",
    "TODO: try using larger coord set (entire 1-585?)"
   ]
  },
  {
   "cell_type": "code",
   "execution_count": 15,
   "id": "56a20fab",
   "metadata": {},
   "outputs": [],
   "source": [
    "first_iter = 400\n",
    "last_iter = 585"
   ]
  },
  {
   "cell_type": "code",
   "execution_count": 16,
   "id": "97b5a69c",
   "metadata": {},
   "outputs": [
    {
     "data": {
      "application/vnd.jupyter.widget-view+json": {
       "model_id": "7260d98b9603478cbc418a1ed69b9c3a",
       "version_major": 2,
       "version_minor": 0
      },
      "text/plain": [
       "Output()"
      ]
     },
     "metadata": {},
     "output_type": "display_data"
    },
    {
     "data": {
      "text/html": [
       "<pre style=\"white-space:pre;overflow-x:auto;line-height:normal;font-family:Menlo,'DejaVu Sans Mono',consolas,'Courier New',monospace\"></pre>\n"
      ],
      "text/plain": []
     },
     "metadata": {},
     "output_type": "display_data"
    },
    {
     "data": {
      "text/html": [
       "<pre style=\"white-space:pre;overflow-x:auto;line-height:normal;font-family:Menlo,'DejaVu Sans Mono',consolas,'Courier New',monospace\">\n",
       "</pre>\n"
      ],
      "text/plain": [
       "\n"
      ]
     },
     "metadata": {},
     "output_type": "display_data"
    }
   ],
   "source": [
    "model.get_iterations()\n",
    "# use up to n last_iter iterations\n",
    "model.get_coordSet(last_iter=last_iter, streaming=True)"
   ]
  },
  {
   "cell_type": "markdown",
   "id": "ecfcebd6",
   "metadata": {},
   "source": [
    "Prepare dimensionality reduction transformer by running"
   ]
  },
  {
   "cell_type": "code",
   "execution_count": 17,
   "id": "fa49a686",
   "metadata": {
    "scrolled": true
   },
   "outputs": [
    {
     "data": {
      "application/vnd.jupyter.widget-view+json": {
       "model_id": "f6ce6b8ba9634effa71f38d7bbbc51b8",
       "version_major": 2,
       "version_minor": 0
      },
      "text/plain": [
       "Output()"
      ]
     },
     "metadata": {},
     "output_type": "display_data"
    },
    {
     "data": {
      "text/html": [
       "<pre style=\"white-space:pre;overflow-x:auto;line-height:normal;font-family:Menlo,'DejaVu Sans Mono',consolas,'Courier New',monospace\"></pre>\n"
      ],
      "text/plain": []
     },
     "metadata": {},
     "output_type": "display_data"
    },
    {
     "data": {
      "text/html": [
       "<pre style=\"white-space:pre;overflow-x:auto;line-height:normal;font-family:Menlo,'DejaVu Sans Mono',consolas,'Courier New',monospace\">\n",
       "</pre>\n"
      ],
      "text/plain": [
       "\n"
      ]
     },
     "metadata": {},
     "output_type": "display_data"
    }
   ],
   "source": [
    "model.dimReduce()"
   ]
  },
  {
   "cell_type": "code",
   "execution_count": 67,
   "id": "e92d94a5",
   "metadata": {},
   "outputs": [],
   "source": [
    "# For loading the clustered model data\n",
    "from pickle import load\n",
    "with open(f'{model_name}_postPCA.pickle', 'rb') as f:\n",
    "    model = load(f)"
   ]
  },
  {
   "cell_type": "code",
   "execution_count": 18,
   "id": "e91bf62e",
   "metadata": {},
   "outputs": [],
   "source": [
    "# For saving the clustered model data\n",
    "from pickle import dump\n",
    "with open(f'{model_name}_postPCA.pickle', 'wb') as f:\n",
    "    dump(model, f)"
   ]
  },
  {
   "cell_type": "markdown",
   "id": "587355ab",
   "metadata": {},
   "source": [
    "Get WE bin mapper for cluster stratification (using updated bins, from looking at clustering results and from looking at evolution plots)."
   ]
  },
  {
   "cell_type": "code",
   "execution_count": 68,
   "id": "837c22f2",
   "metadata": {},
   "outputs": [],
   "source": [
    "import westpa\n",
    "from westpa.core.binning import RectilinearBinMapper\n",
    "\n",
    "# 1) ADP-Mg RMSD\n",
    "# 2) ADP-Mg and Eg5 IntEne\n",
    "# 3) ADP and Eg5 min dist\n",
    "# 4) ADP-PO4 and Eg5 min dist\n",
    "new_mapper = RectilinearBinMapper([[0, 2, 6, 11, 13, 15, \n",
    "                                    17, 20, 30, np.inf],\n",
    "                                   [-np.inf, -200, -100, -50, 0,\n",
    "                                    50, 100, 200, 270, np.inf],\n",
    "                                   [0, 3, 6, np.inf],\n",
    "                                   [0, 3, 6, np.inf],\n",
    "                                  ])"
   ]
  },
  {
   "cell_type": "markdown",
   "id": "b706fb43",
   "metadata": {},
   "source": [
    "Cluster and store original clustering"
   ]
  },
  {
   "cell_type": "code",
   "execution_count": 69,
   "id": "42dbbf3b",
   "metadata": {
    "scrolled": true
   },
   "outputs": [
    {
     "data": {
      "text/html": [
       "<pre style=\"white-space:pre;overflow-x:auto;line-height:normal;font-family:Menlo,'DejaVu Sans Mono',consolas,'Courier New',monospace\"><span style=\"color: #7fbfbf; text-decoration-color: #7fbfbf\">[09/01/23 16:51:37] </span><span style=\"color: #000080; text-decoration-color: #000080\">INFO    </span> Be aware: Number of cluster centers is an important parameter, and  <a href=\"file:///ihome/lchong/dty7/Apps/msm_we/msm_we/_hamsm/_clustering.py\" target=\"_blank\"><span style=\"color: #7f7f7f; text-decoration-color: #7f7f7f\">_clustering.py</span></a><span style=\"color: #7f7f7f; text-decoration-color: #7f7f7f\">:</span><a href=\"file:///ihome/lchong/dty7/Apps/msm_we/msm_we/_hamsm/_clustering.py#160\" target=\"_blank\"><span style=\"color: #7f7f7f; text-decoration-color: #7f7f7f\">160</span></a>\n",
       "<span style=\"color: #7fbfbf; text-decoration-color: #7fbfbf\">                    </span>         can drastically affect model quality. We recommend examining        <span style=\"color: #7f7f7f; text-decoration-color: #7f7f7f\">                  </span>\n",
       "<span style=\"color: #7fbfbf; text-decoration-color: #7fbfbf\">                    </span>         block-validation results with a range of numbers of clusters, to    <span style=\"color: #7f7f7f; text-decoration-color: #7f7f7f\">                  </span>\n",
       "<span style=\"color: #7fbfbf; text-decoration-color: #7fbfbf\">                    </span>         check for overfitting.                                              <span style=\"color: #7f7f7f; text-decoration-color: #7f7f7f\">                  </span>\n",
       "</pre>\n"
      ],
      "text/plain": [
       "\u001b[2;36m[09/01/23 16:51:37]\u001b[0m\u001b[2;36m \u001b[0m\u001b[34mINFO    \u001b[0m Be aware: Number of cluster centers is an important parameter, and  \u001b]8;id=615595;file:///ihome/lchong/dty7/Apps/msm_we/msm_we/_hamsm/_clustering.py\u001b\\\u001b[2m_clustering.py\u001b[0m\u001b]8;;\u001b\\\u001b[2m:\u001b[0m\u001b]8;id=508740;file:///ihome/lchong/dty7/Apps/msm_we/msm_we/_hamsm/_clustering.py#160\u001b\\\u001b[2m160\u001b[0m\u001b]8;;\u001b\\\n",
       "\u001b[2;36m                    \u001b[0m         can drastically affect model quality. We recommend examining        \u001b[2m                  \u001b[0m\n",
       "\u001b[2;36m                    \u001b[0m         block-validation results with a range of numbers of clusters, to    \u001b[2m                  \u001b[0m\n",
       "\u001b[2;36m                    \u001b[0m         check for overfitting.                                              \u001b[2m                  \u001b[0m\n"
      ]
     },
     "metadata": {},
     "output_type": "display_data"
    },
    {
     "data": {
      "text/html": [
       "<pre style=\"white-space:pre;overflow-x:auto;line-height:normal;font-family:Menlo,'DejaVu Sans Mono',consolas,'Courier New',monospace\"><span style=\"color: #7fbfbf; text-decoration-color: #7fbfbf\">                    </span><span style=\"color: #000080; text-decoration-color: #000080\">INFO    </span> Loading user-specified bin mapper for stratified clustering.        <a href=\"file:///ihome/lchong/dty7/Apps/msm_we/msm_we/_hamsm/_clustering.py\" target=\"_blank\"><span style=\"color: #7f7f7f; text-decoration-color: #7f7f7f\">_clustering.py</span></a><span style=\"color: #7f7f7f; text-decoration-color: #7f7f7f\">:</span><a href=\"file:///ihome/lchong/dty7/Apps/msm_we/msm_we/_hamsm/_clustering.py#585\" target=\"_blank\"><span style=\"color: #7f7f7f; text-decoration-color: #7f7f7f\">585</span></a>\n",
       "</pre>\n"
      ],
      "text/plain": [
       "\u001b[2;36m                   \u001b[0m\u001b[2;36m \u001b[0m\u001b[34mINFO    \u001b[0m Loading user-specified bin mapper for stratified clustering.        \u001b]8;id=954139;file:///ihome/lchong/dty7/Apps/msm_we/msm_we/_hamsm/_clustering.py\u001b\\\u001b[2m_clustering.py\u001b[0m\u001b]8;;\u001b\\\u001b[2m:\u001b[0m\u001b]8;id=704853;file:///ihome/lchong/dty7/Apps/msm_we/msm_we/_hamsm/_clustering.py#585\u001b\\\u001b[2m585\u001b[0m\u001b]8;;\u001b\\\n"
      ]
     },
     "metadata": {},
     "output_type": "display_data"
    },
    {
     "data": {
      "text/html": [
       "<pre style=\"white-space:pre;overflow-x:auto;line-height:normal;font-family:Menlo,'DejaVu Sans Mono',consolas,'Courier New',monospace\"><span style=\"color: #7fbfbf; text-decoration-color: #7fbfbf\">                    </span><span style=\"color: #000080; text-decoration-color: #000080\">INFO    </span> Doing stratified clustering with <span style=\"color: #008080; text-decoration-color: #008080; font-weight: bold\">7290</span> total clusters       <a href=\"file:///ihome/lchong/dty7/Apps/msm_we/msm_we/stratified_clustering.py\" target=\"_blank\"><span style=\"color: #7f7f7f; text-decoration-color: #7f7f7f\">stratified_clustering.py</span></a><span style=\"color: #7f7f7f; text-decoration-color: #7f7f7f\">:</span><a href=\"file:///ihome/lchong/dty7/Apps/msm_we/msm_we/stratified_clustering.py#66\" target=\"_blank\"><span style=\"color: #7f7f7f; text-decoration-color: #7f7f7f\">66</span></a>\n",
       "</pre>\n"
      ],
      "text/plain": [
       "\u001b[2;36m                   \u001b[0m\u001b[2;36m \u001b[0m\u001b[34mINFO    \u001b[0m Doing stratified clustering with \u001b[1;36m7290\u001b[0m total clusters       \u001b]8;id=234396;file:///ihome/lchong/dty7/Apps/msm_we/msm_we/stratified_clustering.py\u001b\\\u001b[2mstratified_clustering.py\u001b[0m\u001b]8;;\u001b\\\u001b[2m:\u001b[0m\u001b]8;id=563514;file:///ihome/lchong/dty7/Apps/msm_we/msm_we/stratified_clustering.py#66\u001b\\\u001b[2m66\u001b[0m\u001b]8;;\u001b\\\n"
      ]
     },
     "metadata": {},
     "output_type": "display_data"
    },
    {
     "data": {
      "application/vnd.jupyter.widget-view+json": {
       "model_id": "ffe9955a3a074ff0953e4cc4b27442bc",
       "version_major": 2,
       "version_minor": 0
      },
      "text/plain": [
       "Output()"
      ]
     },
     "metadata": {},
     "output_type": "display_data"
    },
    {
     "data": {
      "text/html": [
       "<pre style=\"white-space:pre;overflow-x:auto;line-height:normal;font-family:Menlo,'DejaVu Sans Mono',consolas,'Courier New',monospace\"></pre>\n"
      ],
      "text/plain": []
     },
     "metadata": {},
     "output_type": "display_data"
    },
    {
     "data": {
      "text/html": [
       "<pre style=\"white-space:pre;overflow-x:auto;line-height:normal;font-family:Menlo,'DejaVu Sans Mono',consolas,'Courier New',monospace\">\n",
       "</pre>\n"
      ],
      "text/plain": [
       "\n"
      ]
     },
     "metadata": {},
     "output_type": "display_data"
    }
   ],
   "source": [
    "model.cluster_coordinates(n_clusters = 10, \n",
    "                          stratified = True,\n",
    "                          tol = 1e-5, \n",
    "                          streaming = True, \n",
    "                          use_ray = True, \n",
    "                          first_cluster_iter = first_iter,\n",
    "                          user_bin_mapper = new_mapper, \n",
    "                          store_validation_model = True)"
   ]
  },
  {
   "cell_type": "code",
   "execution_count": 14,
   "id": "88c7785e",
   "metadata": {},
   "outputs": [],
   "source": [
    "# For loading the clustered model data\n",
    "from pickle import load\n",
    "with open(f'{model_name}_{first_iter}-{last_iter}_4Dmap.pickle', 'rb') as f:\n",
    "    model = load(f)"
   ]
  },
  {
   "cell_type": "code",
   "execution_count": 70,
   "id": "9a9298b2",
   "metadata": {},
   "outputs": [],
   "source": [
    "# For saving the clustered model data\n",
    "from pickle import dump\n",
    "with open(f'{model_name}_{first_iter}-{last_iter}_4Dmap.pickle', 'wb') as f:\n",
    "    dump(model, f)"
   ]
  },
  {
   "cell_type": "code",
   "execution_count": 71,
   "id": "e1764e57",
   "metadata": {},
   "outputs": [
    {
     "data": {
      "text/plain": [
       "7290"
      ]
     },
     "execution_count": 71,
     "metadata": {},
     "output_type": "execute_result"
    }
   ],
   "source": [
    "model.n_clusters"
   ]
  },
  {
   "cell_type": "markdown",
   "id": "f50a302a",
   "metadata": {},
   "source": [
    "Create the flux matrix with"
   ]
  },
  {
   "cell_type": "code",
   "execution_count": 72,
   "id": "bbc13c86",
   "metadata": {
    "scrolled": true
   },
   "outputs": [
    {
     "data": {
      "application/vnd.jupyter.widget-view+json": {
       "model_id": "fbca3299285349cf894d1b872531800f",
       "version_major": 2,
       "version_minor": 0
      },
      "text/plain": [
       "Output()"
      ]
     },
     "metadata": {},
     "output_type": "display_data"
    },
    {
     "data": {
      "text/html": [
       "<pre style=\"white-space:pre;overflow-x:auto;line-height:normal;font-family:Menlo,'DejaVu Sans Mono',consolas,'Courier New',monospace\"></pre>\n"
      ],
      "text/plain": []
     },
     "metadata": {},
     "output_type": "display_data"
    },
    {
     "data": {
      "text/html": [
       "<pre style=\"white-space:pre;overflow-x:auto;line-height:normal;font-family:Menlo,'DejaVu Sans Mono',consolas,'Courier New',monospace\">\n",
       "</pre>\n"
      ],
      "text/plain": [
       "\n"
      ]
     },
     "metadata": {},
     "output_type": "display_data"
    }
   ],
   "source": [
    "model.get_fluxMatrix(n_lag=0, first_iter=first_iter, last_iter=last_iter, use_ray=True)"
   ]
  },
  {
   "cell_type": "code",
   "execution_count": 73,
   "id": "c1d069de",
   "metadata": {},
   "outputs": [],
   "source": [
    "model.fluxMatrix"
   ]
  },
  {
   "cell_type": "code",
   "execution_count": 8,
   "id": "bdcadac1",
   "metadata": {},
   "outputs": [],
   "source": [
    "# For loading the clustered model data\n",
    "from pickle import load\n",
    "with open(f'{model_name}_{first_iter}-{last_iter}_4Dmap_postfluxget.pickle', 'rb') as f:\n",
    "    model = load(f)"
   ]
  },
  {
   "cell_type": "code",
   "execution_count": 74,
   "id": "d6256ce8",
   "metadata": {},
   "outputs": [],
   "source": [
    "# For saving the clustered model data\n",
    "from pickle import dump\n",
    "with open(f'{model_name}_{first_iter}-{last_iter}_4Dmap_postfluxget.pickle', 'wb') as f:\n",
    "    dump(model, f)"
   ]
  },
  {
   "cell_type": "markdown",
   "id": "2e4760a1",
   "metadata": {},
   "source": [
    "Clean disconnected states and sort the flux matrix with"
   ]
  },
  {
   "cell_type": "code",
   "execution_count": 75,
   "id": "fcfa3aaa",
   "metadata": {},
   "outputs": [],
   "source": [
    "# optionally could adjust this cluster class attribute for pcoord sorting selection (default=0)\n",
    "#model.pcoord_to_use = 0"
   ]
  },
  {
   "cell_type": "code",
   "execution_count": 76,
   "id": "ec8e98f4",
   "metadata": {
    "scrolled": false
   },
   "outputs": [
    {
     "data": {
      "text/html": [
       "<pre style=\"white-space:pre;overflow-x:auto;line-height:normal;font-family:Menlo,'DejaVu Sans Mono',consolas,'Courier New',monospace\"><span style=\"color: #7fbfbf; text-decoration-color: #7fbfbf\">[09/01/23 17:45:39] </span><span style=\"color: #000080; text-decoration-color: #000080\">INFO    </span> Started with <span style=\"color: #008080; text-decoration-color: #008080; font-weight: bold\">7290</span> clusters, and removed <span style=\"color: #008080; text-decoration-color: #008080; font-weight: bold\">6590</span>                       <a href=\"file:///ihome/lchong/dty7/Apps/msm_we/msm_we/_hamsm/_clustering.py\" target=\"_blank\"><span style=\"color: #7f7f7f; text-decoration-color: #7f7f7f\">_clustering.py</span></a><span style=\"color: #7f7f7f; text-decoration-color: #7f7f7f\">:</span><a href=\"file:///ihome/lchong/dty7/Apps/msm_we/msm_we/_hamsm/_clustering.py#1050\" target=\"_blank\"><span style=\"color: #7f7f7f; text-decoration-color: #7f7f7f\">1050</span></a>\n",
       "</pre>\n"
      ],
      "text/plain": [
       "\u001b[2;36m[09/01/23 17:45:39]\u001b[0m\u001b[2;36m \u001b[0m\u001b[34mINFO    \u001b[0m Started with \u001b[1;36m7290\u001b[0m clusters, and removed \u001b[1;36m6590\u001b[0m                       \u001b]8;id=87533;file:///ihome/lchong/dty7/Apps/msm_we/msm_we/_hamsm/_clustering.py\u001b\\\u001b[2m_clustering.py\u001b[0m\u001b]8;;\u001b\\\u001b[2m:\u001b[0m\u001b]8;id=486882;file:///ihome/lchong/dty7/Apps/msm_we/msm_we/_hamsm/_clustering.py#1050\u001b\\\u001b[2m1050\u001b[0m\u001b]8;;\u001b\\\n"
      ]
     },
     "metadata": {},
     "output_type": "display_data"
    },
    {
     "data": {
      "text/html": [
       "<pre style=\"white-space:pre;overflow-x:auto;line-height:normal;font-family:Menlo,'DejaVu Sans Mono',consolas,'Courier New',monospace\"><span style=\"color: #7fbfbf; text-decoration-color: #7fbfbf\">                    </span><span style=\"color: #800000; text-decoration-color: #800000\">WARNING </span> All clusters were cleaned from bins <span style=\"font-weight: bold\">{</span><span style=\"color: #008080; text-decoration-color: #008080; font-weight: bold\">0</span>, <span style=\"color: #008080; text-decoration-color: #008080; font-weight: bold\">1</span>, <span style=\"color: #008080; text-decoration-color: #008080; font-weight: bold\">2</span>, <span style=\"color: #008080; text-decoration-color: #008080; font-weight: bold\">3</span>, <span style=\"color: #008080; text-decoration-color: #008080; font-weight: bold\">4</span>, <span style=\"color: #008080; text-decoration-color: #008080; font-weight: bold\">5</span>, <span style=\"color: #008080; text-decoration-color: #008080; font-weight: bold\">6</span>, <span style=\"color: #008080; text-decoration-color: #008080; font-weight: bold\">7</span>, <span style=\"color: #008080; text-decoration-color: #008080; font-weight: bold\">8</span>, <span style=\"color: #008080; text-decoration-color: #008080; font-weight: bold\">9</span>, <a href=\"file:///ihome/lchong/dty7/Apps/msm_we/msm_we/_hamsm/_clustering.py\" target=\"_blank\"><span style=\"color: #7f7f7f; text-decoration-color: #7f7f7f\">_clustering.py</span></a><span style=\"color: #7f7f7f; text-decoration-color: #7f7f7f\">:</span><a href=\"file:///ihome/lchong/dty7/Apps/msm_we/msm_we/_hamsm/_clustering.py#1067\" target=\"_blank\"><span style=\"color: #7f7f7f; text-decoration-color: #7f7f7f\">1067</span></a>\n",
       "<span style=\"color: #7fbfbf; text-decoration-color: #7fbfbf\">                    </span>         <span style=\"color: #008080; text-decoration-color: #008080; font-weight: bold\">10</span>, <span style=\"color: #008080; text-decoration-color: #008080; font-weight: bold\">11</span>, <span style=\"color: #008080; text-decoration-color: #008080; font-weight: bold\">12</span>, <span style=\"color: #008080; text-decoration-color: #008080; font-weight: bold\">13</span>, <span style=\"color: #008080; text-decoration-color: #008080; font-weight: bold\">14</span>, <span style=\"color: #008080; text-decoration-color: #008080; font-weight: bold\">15</span>, <span style=\"color: #008080; text-decoration-color: #008080; font-weight: bold\">16</span>, <span style=\"color: #008080; text-decoration-color: #008080; font-weight: bold\">17</span>, <span style=\"color: #008080; text-decoration-color: #008080; font-weight: bold\">18</span>, <span style=\"color: #008080; text-decoration-color: #008080; font-weight: bold\">19</span>, <span style=\"color: #008080; text-decoration-color: #008080; font-weight: bold\">20</span>, <span style=\"color: #008080; text-decoration-color: #008080; font-weight: bold\">21</span>, <span style=\"color: #008080; text-decoration-color: #008080; font-weight: bold\">22</span>, <span style=\"color: #008080; text-decoration-color: #008080; font-weight: bold\">23</span>, <span style=\"color: #008080; text-decoration-color: #008080; font-weight: bold\">24</span>, <span style=\"color: #008080; text-decoration-color: #008080; font-weight: bold\">25</span>,    <span style=\"color: #7f7f7f; text-decoration-color: #7f7f7f\">                   </span>\n",
       "<span style=\"color: #7fbfbf; text-decoration-color: #7fbfbf\">                    </span>         <span style=\"color: #008080; text-decoration-color: #008080; font-weight: bold\">26</span>, <span style=\"color: #008080; text-decoration-color: #008080; font-weight: bold\">27</span>, <span style=\"color: #008080; text-decoration-color: #008080; font-weight: bold\">28</span>, <span style=\"color: #008080; text-decoration-color: #008080; font-weight: bold\">29</span>, <span style=\"color: #008080; text-decoration-color: #008080; font-weight: bold\">30</span>, <span style=\"color: #008080; text-decoration-color: #008080; font-weight: bold\">31</span>, <span style=\"color: #008080; text-decoration-color: #008080; font-weight: bold\">32</span>, <span style=\"color: #008080; text-decoration-color: #008080; font-weight: bold\">33</span>, <span style=\"color: #008080; text-decoration-color: #008080; font-weight: bold\">34</span>, <span style=\"color: #008080; text-decoration-color: #008080; font-weight: bold\">35</span>, <span style=\"color: #008080; text-decoration-color: #008080; font-weight: bold\">36</span>, <span style=\"color: #008080; text-decoration-color: #008080; font-weight: bold\">37</span>, <span style=\"color: #008080; text-decoration-color: #008080; font-weight: bold\">38</span>, <span style=\"color: #008080; text-decoration-color: #008080; font-weight: bold\">39</span>, <span style=\"color: #008080; text-decoration-color: #008080; font-weight: bold\">40</span>, <span style=\"color: #008080; text-decoration-color: #008080; font-weight: bold\">41</span>,    <span style=\"color: #7f7f7f; text-decoration-color: #7f7f7f\">                   </span>\n",
       "<span style=\"color: #7fbfbf; text-decoration-color: #7fbfbf\">                    </span>         <span style=\"color: #008080; text-decoration-color: #008080; font-weight: bold\">42</span>, <span style=\"color: #008080; text-decoration-color: #008080; font-weight: bold\">43</span>, <span style=\"color: #008080; text-decoration-color: #008080; font-weight: bold\">44</span>, <span style=\"color: #008080; text-decoration-color: #008080; font-weight: bold\">45</span>, <span style=\"color: #008080; text-decoration-color: #008080; font-weight: bold\">46</span>, <span style=\"color: #008080; text-decoration-color: #008080; font-weight: bold\">47</span>, <span style=\"color: #008080; text-decoration-color: #008080; font-weight: bold\">48</span>, <span style=\"color: #008080; text-decoration-color: #008080; font-weight: bold\">49</span>, <span style=\"color: #008080; text-decoration-color: #008080; font-weight: bold\">50</span>, <span style=\"color: #008080; text-decoration-color: #008080; font-weight: bold\">51</span>, <span style=\"color: #008080; text-decoration-color: #008080; font-weight: bold\">52</span>, <span style=\"color: #008080; text-decoration-color: #008080; font-weight: bold\">53</span>, <span style=\"color: #008080; text-decoration-color: #008080; font-weight: bold\">54</span>, <span style=\"color: #008080; text-decoration-color: #008080; font-weight: bold\">55</span>, <span style=\"color: #008080; text-decoration-color: #008080; font-weight: bold\">56</span>, <span style=\"color: #008080; text-decoration-color: #008080; font-weight: bold\">57</span>,    <span style=\"color: #7f7f7f; text-decoration-color: #7f7f7f\">                   </span>\n",
       "<span style=\"color: #7fbfbf; text-decoration-color: #7fbfbf\">                    </span>         <span style=\"color: #008080; text-decoration-color: #008080; font-weight: bold\">58</span>, <span style=\"color: #008080; text-decoration-color: #008080; font-weight: bold\">59</span>, <span style=\"color: #008080; text-decoration-color: #008080; font-weight: bold\">60</span>, <span style=\"color: #008080; text-decoration-color: #008080; font-weight: bold\">61</span>, <span style=\"color: #008080; text-decoration-color: #008080; font-weight: bold\">62</span>, <span style=\"color: #008080; text-decoration-color: #008080; font-weight: bold\">63</span>, <span style=\"color: #008080; text-decoration-color: #008080; font-weight: bold\">64</span>, <span style=\"color: #008080; text-decoration-color: #008080; font-weight: bold\">65</span>, <span style=\"color: #008080; text-decoration-color: #008080; font-weight: bold\">66</span>, <span style=\"color: #008080; text-decoration-color: #008080; font-weight: bold\">67</span>, <span style=\"color: #008080; text-decoration-color: #008080; font-weight: bold\">68</span>, <span style=\"color: #008080; text-decoration-color: #008080; font-weight: bold\">69</span>, <span style=\"color: #008080; text-decoration-color: #008080; font-weight: bold\">70</span>, <span style=\"color: #008080; text-decoration-color: #008080; font-weight: bold\">71</span>, <span style=\"color: #008080; text-decoration-color: #008080; font-weight: bold\">72</span>, <span style=\"color: #008080; text-decoration-color: #008080; font-weight: bold\">73</span>,    <span style=\"color: #7f7f7f; text-decoration-color: #7f7f7f\">                   </span>\n",
       "<span style=\"color: #7fbfbf; text-decoration-color: #7fbfbf\">                    </span>         <span style=\"color: #008080; text-decoration-color: #008080; font-weight: bold\">74</span>, <span style=\"color: #008080; text-decoration-color: #008080; font-weight: bold\">75</span>, <span style=\"color: #008080; text-decoration-color: #008080; font-weight: bold\">76</span>, <span style=\"color: #008080; text-decoration-color: #008080; font-weight: bold\">77</span>, <span style=\"color: #008080; text-decoration-color: #008080; font-weight: bold\">78</span>, <span style=\"color: #008080; text-decoration-color: #008080; font-weight: bold\">79</span>, <span style=\"color: #008080; text-decoration-color: #008080; font-weight: bold\">80</span>, <span style=\"color: #008080; text-decoration-color: #008080; font-weight: bold\">81</span>, <span style=\"color: #008080; text-decoration-color: #008080; font-weight: bold\">82</span>, <span style=\"color: #008080; text-decoration-color: #008080; font-weight: bold\">83</span>, <span style=\"color: #008080; text-decoration-color: #008080; font-weight: bold\">84</span>, <span style=\"color: #008080; text-decoration-color: #008080; font-weight: bold\">85</span>, <span style=\"color: #008080; text-decoration-color: #008080; font-weight: bold\">86</span>, <span style=\"color: #008080; text-decoration-color: #008080; font-weight: bold\">87</span>, <span style=\"color: #008080; text-decoration-color: #008080; font-weight: bold\">88</span>, <span style=\"color: #008080; text-decoration-color: #008080; font-weight: bold\">89</span>,    <span style=\"color: #7f7f7f; text-decoration-color: #7f7f7f\">                   </span>\n",
       "<span style=\"color: #7fbfbf; text-decoration-color: #7fbfbf\">                    </span>         <span style=\"color: #008080; text-decoration-color: #008080; font-weight: bold\">90</span>, <span style=\"color: #008080; text-decoration-color: #008080; font-weight: bold\">91</span>, <span style=\"color: #008080; text-decoration-color: #008080; font-weight: bold\">92</span>, <span style=\"color: #008080; text-decoration-color: #008080; font-weight: bold\">93</span>, <span style=\"color: #008080; text-decoration-color: #008080; font-weight: bold\">94</span>, <span style=\"color: #008080; text-decoration-color: #008080; font-weight: bold\">95</span>, <span style=\"color: #008080; text-decoration-color: #008080; font-weight: bold\">96</span>, <span style=\"color: #008080; text-decoration-color: #008080; font-weight: bold\">97</span>, <span style=\"color: #008080; text-decoration-color: #008080; font-weight: bold\">98</span>, <span style=\"color: #008080; text-decoration-color: #008080; font-weight: bold\">99</span>, <span style=\"color: #008080; text-decoration-color: #008080; font-weight: bold\">100</span>, <span style=\"color: #008080; text-decoration-color: #008080; font-weight: bold\">101</span>, <span style=\"color: #008080; text-decoration-color: #008080; font-weight: bold\">102</span>, <span style=\"color: #008080; text-decoration-color: #008080; font-weight: bold\">103</span>, <span style=\"color: #008080; text-decoration-color: #008080; font-weight: bold\">104</span>,   <span style=\"color: #7f7f7f; text-decoration-color: #7f7f7f\">                   </span>\n",
       "<span style=\"color: #7fbfbf; text-decoration-color: #7fbfbf\">                    </span>         <span style=\"color: #008080; text-decoration-color: #008080; font-weight: bold\">105</span>, <span style=\"color: #008080; text-decoration-color: #008080; font-weight: bold\">106</span>, <span style=\"color: #008080; text-decoration-color: #008080; font-weight: bold\">107</span>, <span style=\"color: #008080; text-decoration-color: #008080; font-weight: bold\">108</span>, <span style=\"color: #008080; text-decoration-color: #008080; font-weight: bold\">109</span>, <span style=\"color: #008080; text-decoration-color: #008080; font-weight: bold\">110</span>, <span style=\"color: #008080; text-decoration-color: #008080; font-weight: bold\">111</span>, <span style=\"color: #008080; text-decoration-color: #008080; font-weight: bold\">112</span>, <span style=\"color: #008080; text-decoration-color: #008080; font-weight: bold\">113</span>, <span style=\"color: #008080; text-decoration-color: #008080; font-weight: bold\">114</span>, <span style=\"color: #008080; text-decoration-color: #008080; font-weight: bold\">115</span>, <span style=\"color: #008080; text-decoration-color: #008080; font-weight: bold\">116</span>, <span style=\"color: #008080; text-decoration-color: #008080; font-weight: bold\">117</span>,   <span style=\"color: #7f7f7f; text-decoration-color: #7f7f7f\">                   </span>\n",
       "<span style=\"color: #7fbfbf; text-decoration-color: #7fbfbf\">                    </span>         <span style=\"color: #008080; text-decoration-color: #008080; font-weight: bold\">119</span>, <span style=\"color: #008080; text-decoration-color: #008080; font-weight: bold\">120</span>, <span style=\"color: #008080; text-decoration-color: #008080; font-weight: bold\">121</span>, <span style=\"color: #008080; text-decoration-color: #008080; font-weight: bold\">122</span>, <span style=\"color: #008080; text-decoration-color: #008080; font-weight: bold\">123</span>, <span style=\"color: #008080; text-decoration-color: #008080; font-weight: bold\">124</span>, <span style=\"color: #008080; text-decoration-color: #008080; font-weight: bold\">125</span>, <span style=\"color: #008080; text-decoration-color: #008080; font-weight: bold\">127</span>, <span style=\"color: #008080; text-decoration-color: #008080; font-weight: bold\">128</span>, <span style=\"color: #008080; text-decoration-color: #008080; font-weight: bold\">129</span>, <span style=\"color: #008080; text-decoration-color: #008080; font-weight: bold\">130</span>, <span style=\"color: #008080; text-decoration-color: #008080; font-weight: bold\">131</span>, <span style=\"color: #008080; text-decoration-color: #008080; font-weight: bold\">132</span>,   <span style=\"color: #7f7f7f; text-decoration-color: #7f7f7f\">                   </span>\n",
       "<span style=\"color: #7fbfbf; text-decoration-color: #7fbfbf\">                    </span>         <span style=\"color: #008080; text-decoration-color: #008080; font-weight: bold\">133</span>, <span style=\"color: #008080; text-decoration-color: #008080; font-weight: bold\">134</span>, <span style=\"color: #008080; text-decoration-color: #008080; font-weight: bold\">135</span>, <span style=\"color: #008080; text-decoration-color: #008080; font-weight: bold\">136</span>, <span style=\"color: #008080; text-decoration-color: #008080; font-weight: bold\">137</span>, <span style=\"color: #008080; text-decoration-color: #008080; font-weight: bold\">138</span>, <span style=\"color: #008080; text-decoration-color: #008080; font-weight: bold\">139</span>, <span style=\"color: #008080; text-decoration-color: #008080; font-weight: bold\">140</span>, <span style=\"color: #008080; text-decoration-color: #008080; font-weight: bold\">141</span>, <span style=\"color: #008080; text-decoration-color: #008080; font-weight: bold\">142</span>, <span style=\"color: #008080; text-decoration-color: #008080; font-weight: bold\">143</span>, <span style=\"color: #008080; text-decoration-color: #008080; font-weight: bold\">144</span>, <span style=\"color: #008080; text-decoration-color: #008080; font-weight: bold\">145</span>,   <span style=\"color: #7f7f7f; text-decoration-color: #7f7f7f\">                   </span>\n",
       "<span style=\"color: #7fbfbf; text-decoration-color: #7fbfbf\">                    </span>         <span style=\"color: #008080; text-decoration-color: #008080; font-weight: bold\">146</span>, <span style=\"color: #008080; text-decoration-color: #008080; font-weight: bold\">147</span>, <span style=\"color: #008080; text-decoration-color: #008080; font-weight: bold\">148</span>, <span style=\"color: #008080; text-decoration-color: #008080; font-weight: bold\">149</span>, <span style=\"color: #008080; text-decoration-color: #008080; font-weight: bold\">150</span>, <span style=\"color: #008080; text-decoration-color: #008080; font-weight: bold\">151</span>, <span style=\"color: #008080; text-decoration-color: #008080; font-weight: bold\">152</span>, <span style=\"color: #008080; text-decoration-color: #008080; font-weight: bold\">153</span>, <span style=\"color: #008080; text-decoration-color: #008080; font-weight: bold\">154</span>, <span style=\"color: #008080; text-decoration-color: #008080; font-weight: bold\">155</span>, <span style=\"color: #008080; text-decoration-color: #008080; font-weight: bold\">156</span>, <span style=\"color: #008080; text-decoration-color: #008080; font-weight: bold\">157</span>, <span style=\"color: #008080; text-decoration-color: #008080; font-weight: bold\">158</span>,   <span style=\"color: #7f7f7f; text-decoration-color: #7f7f7f\">                   </span>\n",
       "<span style=\"color: #7fbfbf; text-decoration-color: #7fbfbf\">                    </span>         <span style=\"color: #008080; text-decoration-color: #008080; font-weight: bold\">159</span>, <span style=\"color: #008080; text-decoration-color: #008080; font-weight: bold\">160</span>, <span style=\"color: #008080; text-decoration-color: #008080; font-weight: bold\">161</span>, <span style=\"color: #008080; text-decoration-color: #008080; font-weight: bold\">162</span>, <span style=\"color: #008080; text-decoration-color: #008080; font-weight: bold\">163</span>, <span style=\"color: #008080; text-decoration-color: #008080; font-weight: bold\">164</span>, <span style=\"color: #008080; text-decoration-color: #008080; font-weight: bold\">165</span>, <span style=\"color: #008080; text-decoration-color: #008080; font-weight: bold\">166</span>, <span style=\"color: #008080; text-decoration-color: #008080; font-weight: bold\">167</span>, <span style=\"color: #008080; text-decoration-color: #008080; font-weight: bold\">168</span>, <span style=\"color: #008080; text-decoration-color: #008080; font-weight: bold\">169</span>, <span style=\"color: #008080; text-decoration-color: #008080; font-weight: bold\">170</span>, <span style=\"color: #008080; text-decoration-color: #008080; font-weight: bold\">172</span>,   <span style=\"color: #7f7f7f; text-decoration-color: #7f7f7f\">                   </span>\n",
       "<span style=\"color: #7fbfbf; text-decoration-color: #7fbfbf\">                    </span>         <span style=\"color: #008080; text-decoration-color: #008080; font-weight: bold\">173</span>, <span style=\"color: #008080; text-decoration-color: #008080; font-weight: bold\">174</span>, <span style=\"color: #008080; text-decoration-color: #008080; font-weight: bold\">175</span>, <span style=\"color: #008080; text-decoration-color: #008080; font-weight: bold\">176</span>, <span style=\"color: #008080; text-decoration-color: #008080; font-weight: bold\">177</span>, <span style=\"color: #008080; text-decoration-color: #008080; font-weight: bold\">178</span>, <span style=\"color: #008080; text-decoration-color: #008080; font-weight: bold\">179</span>, <span style=\"color: #008080; text-decoration-color: #008080; font-weight: bold\">181</span>, <span style=\"color: #008080; text-decoration-color: #008080; font-weight: bold\">182</span>, <span style=\"color: #008080; text-decoration-color: #008080; font-weight: bold\">183</span>, <span style=\"color: #008080; text-decoration-color: #008080; font-weight: bold\">184</span>, <span style=\"color: #008080; text-decoration-color: #008080; font-weight: bold\">185</span>, <span style=\"color: #008080; text-decoration-color: #008080; font-weight: bold\">186</span>,   <span style=\"color: #7f7f7f; text-decoration-color: #7f7f7f\">                   </span>\n",
       "<span style=\"color: #7fbfbf; text-decoration-color: #7fbfbf\">                    </span>         <span style=\"color: #008080; text-decoration-color: #008080; font-weight: bold\">187</span>, <span style=\"color: #008080; text-decoration-color: #008080; font-weight: bold\">188</span>, <span style=\"color: #008080; text-decoration-color: #008080; font-weight: bold\">191</span>, <span style=\"color: #008080; text-decoration-color: #008080; font-weight: bold\">192</span>, <span style=\"color: #008080; text-decoration-color: #008080; font-weight: bold\">195</span>, <span style=\"color: #008080; text-decoration-color: #008080; font-weight: bold\">196</span>, <span style=\"color: #008080; text-decoration-color: #008080; font-weight: bold\">197</span>, <span style=\"color: #008080; text-decoration-color: #008080; font-weight: bold\">201</span>, <span style=\"color: #008080; text-decoration-color: #008080; font-weight: bold\">204</span>, <span style=\"color: #008080; text-decoration-color: #008080; font-weight: bold\">205</span>, <span style=\"color: #008080; text-decoration-color: #008080; font-weight: bold\">206</span>, <span style=\"color: #008080; text-decoration-color: #008080; font-weight: bold\">209</span>, <span style=\"color: #008080; text-decoration-color: #008080; font-weight: bold\">210</span>,   <span style=\"color: #7f7f7f; text-decoration-color: #7f7f7f\">                   </span>\n",
       "<span style=\"color: #7fbfbf; text-decoration-color: #7fbfbf\">                    </span>         <span style=\"color: #008080; text-decoration-color: #008080; font-weight: bold\">213</span>, <span style=\"color: #008080; text-decoration-color: #008080; font-weight: bold\">214</span>, <span style=\"color: #008080; text-decoration-color: #008080; font-weight: bold\">215</span>, <span style=\"color: #008080; text-decoration-color: #008080; font-weight: bold\">218</span>, <span style=\"color: #008080; text-decoration-color: #008080; font-weight: bold\">219</span>, <span style=\"color: #008080; text-decoration-color: #008080; font-weight: bold\">221</span>, <span style=\"color: #008080; text-decoration-color: #008080; font-weight: bold\">222</span>, <span style=\"color: #008080; text-decoration-color: #008080; font-weight: bold\">223</span>, <span style=\"color: #008080; text-decoration-color: #008080; font-weight: bold\">224</span>, <span style=\"color: #008080; text-decoration-color: #008080; font-weight: bold\">226</span>, <span style=\"color: #008080; text-decoration-color: #008080; font-weight: bold\">227</span>, <span style=\"color: #008080; text-decoration-color: #008080; font-weight: bold\">228</span>, <span style=\"color: #008080; text-decoration-color: #008080; font-weight: bold\">229</span>,   <span style=\"color: #7f7f7f; text-decoration-color: #7f7f7f\">                   </span>\n",
       "<span style=\"color: #7fbfbf; text-decoration-color: #7fbfbf\">                    </span>         <span style=\"color: #008080; text-decoration-color: #008080; font-weight: bold\">230</span>, <span style=\"color: #008080; text-decoration-color: #008080; font-weight: bold\">231</span>, <span style=\"color: #008080; text-decoration-color: #008080; font-weight: bold\">232</span>, <span style=\"color: #008080; text-decoration-color: #008080; font-weight: bold\">233</span>, <span style=\"color: #008080; text-decoration-color: #008080; font-weight: bold\">235</span>, <span style=\"color: #008080; text-decoration-color: #008080; font-weight: bold\">236</span>, <span style=\"color: #008080; text-decoration-color: #008080; font-weight: bold\">237</span>, <span style=\"color: #008080; text-decoration-color: #008080; font-weight: bold\">238</span>, <span style=\"color: #008080; text-decoration-color: #008080; font-weight: bold\">239</span>, <span style=\"color: #008080; text-decoration-color: #008080; font-weight: bold\">240</span>, <span style=\"color: #008080; text-decoration-color: #008080; font-weight: bold\">241</span>, <span style=\"color: #008080; text-decoration-color: #008080; font-weight: bold\">242</span>, <span style=\"color: #008080; text-decoration-color: #008080; font-weight: bold\">243</span>,   <span style=\"color: #7f7f7f; text-decoration-color: #7f7f7f\">                   </span>\n",
       "<span style=\"color: #7fbfbf; text-decoration-color: #7fbfbf\">                    </span>         <span style=\"color: #008080; text-decoration-color: #008080; font-weight: bold\">244</span>, <span style=\"color: #008080; text-decoration-color: #008080; font-weight: bold\">245</span>, <span style=\"color: #008080; text-decoration-color: #008080; font-weight: bold\">246</span>, <span style=\"color: #008080; text-decoration-color: #008080; font-weight: bold\">247</span>, <span style=\"color: #008080; text-decoration-color: #008080; font-weight: bold\">248</span>, <span style=\"color: #008080; text-decoration-color: #008080; font-weight: bold\">249</span>, <span style=\"color: #008080; text-decoration-color: #008080; font-weight: bold\">250</span>, <span style=\"color: #008080; text-decoration-color: #008080; font-weight: bold\">251</span>, <span style=\"color: #008080; text-decoration-color: #008080; font-weight: bold\">254</span>, <span style=\"color: #008080; text-decoration-color: #008080; font-weight: bold\">255</span>, <span style=\"color: #008080; text-decoration-color: #008080; font-weight: bold\">257</span>, <span style=\"color: #008080; text-decoration-color: #008080; font-weight: bold\">258</span>, <span style=\"color: #008080; text-decoration-color: #008080; font-weight: bold\">259</span>,   <span style=\"color: #7f7f7f; text-decoration-color: #7f7f7f\">                   </span>\n",
       "<span style=\"color: #7fbfbf; text-decoration-color: #7fbfbf\">                    </span>         <span style=\"color: #008080; text-decoration-color: #008080; font-weight: bold\">260</span>, <span style=\"color: #008080; text-decoration-color: #008080; font-weight: bold\">263</span>, <span style=\"color: #008080; text-decoration-color: #008080; font-weight: bold\">264</span>, <span style=\"color: #008080; text-decoration-color: #008080; font-weight: bold\">266</span>, <span style=\"color: #008080; text-decoration-color: #008080; font-weight: bold\">267</span>, <span style=\"color: #008080; text-decoration-color: #008080; font-weight: bold\">268</span>, <span style=\"color: #008080; text-decoration-color: #008080; font-weight: bold\">269</span>, <span style=\"color: #008080; text-decoration-color: #008080; font-weight: bold\">272</span>, <span style=\"color: #008080; text-decoration-color: #008080; font-weight: bold\">273</span>, <span style=\"color: #008080; text-decoration-color: #008080; font-weight: bold\">276</span>, <span style=\"color: #008080; text-decoration-color: #008080; font-weight: bold\">277</span>, <span style=\"color: #008080; text-decoration-color: #008080; font-weight: bold\">278</span>, <span style=\"color: #008080; text-decoration-color: #008080; font-weight: bold\">281</span>,   <span style=\"color: #7f7f7f; text-decoration-color: #7f7f7f\">                   </span>\n",
       "<span style=\"color: #7fbfbf; text-decoration-color: #7fbfbf\">                    </span>         <span style=\"color: #008080; text-decoration-color: #008080; font-weight: bold\">282</span>, <span style=\"color: #008080; text-decoration-color: #008080; font-weight: bold\">285</span>, <span style=\"color: #008080; text-decoration-color: #008080; font-weight: bold\">286</span>, <span style=\"color: #008080; text-decoration-color: #008080; font-weight: bold\">287</span>, <span style=\"color: #008080; text-decoration-color: #008080; font-weight: bold\">290</span>, <span style=\"color: #008080; text-decoration-color: #008080; font-weight: bold\">291</span>, <span style=\"color: #008080; text-decoration-color: #008080; font-weight: bold\">293</span>, <span style=\"color: #008080; text-decoration-color: #008080; font-weight: bold\">294</span>, <span style=\"color: #008080; text-decoration-color: #008080; font-weight: bold\">295</span>, <span style=\"color: #008080; text-decoration-color: #008080; font-weight: bold\">296</span>, <span style=\"color: #008080; text-decoration-color: #008080; font-weight: bold\">299</span>, <span style=\"color: #008080; text-decoration-color: #008080; font-weight: bold\">300</span>, <span style=\"color: #008080; text-decoration-color: #008080; font-weight: bold\">301</span>,   <span style=\"color: #7f7f7f; text-decoration-color: #7f7f7f\">                   </span>\n",
       "<span style=\"color: #7fbfbf; text-decoration-color: #7fbfbf\">                    </span>         <span style=\"color: #008080; text-decoration-color: #008080; font-weight: bold\">302</span>, <span style=\"color: #008080; text-decoration-color: #008080; font-weight: bold\">303</span>, <span style=\"color: #008080; text-decoration-color: #008080; font-weight: bold\">304</span>, <span style=\"color: #008080; text-decoration-color: #008080; font-weight: bold\">305</span>, <span style=\"color: #008080; text-decoration-color: #008080; font-weight: bold\">307</span>, <span style=\"color: #008080; text-decoration-color: #008080; font-weight: bold\">308</span>, <span style=\"color: #008080; text-decoration-color: #008080; font-weight: bold\">309</span>, <span style=\"color: #008080; text-decoration-color: #008080; font-weight: bold\">310</span>, <span style=\"color: #008080; text-decoration-color: #008080; font-weight: bold\">311</span>, <span style=\"color: #008080; text-decoration-color: #008080; font-weight: bold\">312</span>, <span style=\"color: #008080; text-decoration-color: #008080; font-weight: bold\">313</span>, <span style=\"color: #008080; text-decoration-color: #008080; font-weight: bold\">314</span>, <span style=\"color: #008080; text-decoration-color: #008080; font-weight: bold\">316</span>,   <span style=\"color: #7f7f7f; text-decoration-color: #7f7f7f\">                   </span>\n",
       "<span style=\"color: #7fbfbf; text-decoration-color: #7fbfbf\">                    </span>         <span style=\"color: #008080; text-decoration-color: #008080; font-weight: bold\">317</span>, <span style=\"color: #008080; text-decoration-color: #008080; font-weight: bold\">318</span>, <span style=\"color: #008080; text-decoration-color: #008080; font-weight: bold\">319</span>, <span style=\"color: #008080; text-decoration-color: #008080; font-weight: bold\">320</span>, <span style=\"color: #008080; text-decoration-color: #008080; font-weight: bold\">321</span>, <span style=\"color: #008080; text-decoration-color: #008080; font-weight: bold\">322</span>, <span style=\"color: #008080; text-decoration-color: #008080; font-weight: bold\">323</span>, <span style=\"color: #008080; text-decoration-color: #008080; font-weight: bold\">324</span>, <span style=\"color: #008080; text-decoration-color: #008080; font-weight: bold\">325</span>, <span style=\"color: #008080; text-decoration-color: #008080; font-weight: bold\">326</span>, <span style=\"color: #008080; text-decoration-color: #008080; font-weight: bold\">327</span>, <span style=\"color: #008080; text-decoration-color: #008080; font-weight: bold\">328</span>, <span style=\"color: #008080; text-decoration-color: #008080; font-weight: bold\">329</span>,   <span style=\"color: #7f7f7f; text-decoration-color: #7f7f7f\">                   </span>\n",
       "<span style=\"color: #7fbfbf; text-decoration-color: #7fbfbf\">                    </span>         <span style=\"color: #008080; text-decoration-color: #008080; font-weight: bold\">330</span>, <span style=\"color: #008080; text-decoration-color: #008080; font-weight: bold\">331</span>, <span style=\"color: #008080; text-decoration-color: #008080; font-weight: bold\">332</span>, <span style=\"color: #008080; text-decoration-color: #008080; font-weight: bold\">335</span>, <span style=\"color: #008080; text-decoration-color: #008080; font-weight: bold\">336</span>, <span style=\"color: #008080; text-decoration-color: #008080; font-weight: bold\">338</span>, <span style=\"color: #008080; text-decoration-color: #008080; font-weight: bold\">339</span>, <span style=\"color: #008080; text-decoration-color: #008080; font-weight: bold\">340</span>, <span style=\"color: #008080; text-decoration-color: #008080; font-weight: bold\">341</span>, <span style=\"color: #008080; text-decoration-color: #008080; font-weight: bold\">344</span>, <span style=\"color: #008080; text-decoration-color: #008080; font-weight: bold\">345</span>, <span style=\"color: #008080; text-decoration-color: #008080; font-weight: bold\">347</span>, <span style=\"color: #008080; text-decoration-color: #008080; font-weight: bold\">348</span>,   <span style=\"color: #7f7f7f; text-decoration-color: #7f7f7f\">                   </span>\n",
       "<span style=\"color: #7fbfbf; text-decoration-color: #7fbfbf\">                    </span>         <span style=\"color: #008080; text-decoration-color: #008080; font-weight: bold\">349</span>, <span style=\"color: #008080; text-decoration-color: #008080; font-weight: bold\">350</span>, <span style=\"color: #008080; text-decoration-color: #008080; font-weight: bold\">353</span>, <span style=\"color: #008080; text-decoration-color: #008080; font-weight: bold\">354</span>, <span style=\"color: #008080; text-decoration-color: #008080; font-weight: bold\">357</span>, <span style=\"color: #008080; text-decoration-color: #008080; font-weight: bold\">358</span>, <span style=\"color: #008080; text-decoration-color: #008080; font-weight: bold\">359</span>, <span style=\"color: #008080; text-decoration-color: #008080; font-weight: bold\">362</span>, <span style=\"color: #008080; text-decoration-color: #008080; font-weight: bold\">363</span>, <span style=\"color: #008080; text-decoration-color: #008080; font-weight: bold\">366</span>, <span style=\"color: #008080; text-decoration-color: #008080; font-weight: bold\">367</span>, <span style=\"color: #008080; text-decoration-color: #008080; font-weight: bold\">368</span>, <span style=\"color: #008080; text-decoration-color: #008080; font-weight: bold\">370</span>,   <span style=\"color: #7f7f7f; text-decoration-color: #7f7f7f\">                   </span>\n",
       "<span style=\"color: #7fbfbf; text-decoration-color: #7fbfbf\">                    </span>         <span style=\"color: #008080; text-decoration-color: #008080; font-weight: bold\">371</span>, <span style=\"color: #008080; text-decoration-color: #008080; font-weight: bold\">372</span>, <span style=\"color: #008080; text-decoration-color: #008080; font-weight: bold\">373</span>, <span style=\"color: #008080; text-decoration-color: #008080; font-weight: bold\">374</span>, <span style=\"color: #008080; text-decoration-color: #008080; font-weight: bold\">375</span>, <span style=\"color: #008080; text-decoration-color: #008080; font-weight: bold\">376</span>, <span style=\"color: #008080; text-decoration-color: #008080; font-weight: bold\">377</span>, <span style=\"color: #008080; text-decoration-color: #008080; font-weight: bold\">379</span>, <span style=\"color: #008080; text-decoration-color: #008080; font-weight: bold\">380</span>, <span style=\"color: #008080; text-decoration-color: #008080; font-weight: bold\">381</span>, <span style=\"color: #008080; text-decoration-color: #008080; font-weight: bold\">382</span>, <span style=\"color: #008080; text-decoration-color: #008080; font-weight: bold\">383</span>, <span style=\"color: #008080; text-decoration-color: #008080; font-weight: bold\">384</span>,   <span style=\"color: #7f7f7f; text-decoration-color: #7f7f7f\">                   </span>\n",
       "<span style=\"color: #7fbfbf; text-decoration-color: #7fbfbf\">                    </span>         <span style=\"color: #008080; text-decoration-color: #008080; font-weight: bold\">385</span>, <span style=\"color: #008080; text-decoration-color: #008080; font-weight: bold\">386</span>, <span style=\"color: #008080; text-decoration-color: #008080; font-weight: bold\">387</span>, <span style=\"color: #008080; text-decoration-color: #008080; font-weight: bold\">388</span>, <span style=\"color: #008080; text-decoration-color: #008080; font-weight: bold\">389</span>, <span style=\"color: #008080; text-decoration-color: #008080; font-weight: bold\">390</span>, <span style=\"color: #008080; text-decoration-color: #008080; font-weight: bold\">391</span>, <span style=\"color: #008080; text-decoration-color: #008080; font-weight: bold\">392</span>, <span style=\"color: #008080; text-decoration-color: #008080; font-weight: bold\">393</span>, <span style=\"color: #008080; text-decoration-color: #008080; font-weight: bold\">394</span>, <span style=\"color: #008080; text-decoration-color: #008080; font-weight: bold\">395</span>, <span style=\"color: #008080; text-decoration-color: #008080; font-weight: bold\">396</span>, <span style=\"color: #008080; text-decoration-color: #008080; font-weight: bold\">397</span>,   <span style=\"color: #7f7f7f; text-decoration-color: #7f7f7f\">                   </span>\n",
       "<span style=\"color: #7fbfbf; text-decoration-color: #7fbfbf\">                    </span>         <span style=\"color: #008080; text-decoration-color: #008080; font-weight: bold\">398</span>, <span style=\"color: #008080; text-decoration-color: #008080; font-weight: bold\">399</span>, <span style=\"color: #008080; text-decoration-color: #008080; font-weight: bold\">400</span>, <span style=\"color: #008080; text-decoration-color: #008080; font-weight: bold\">401</span>, <span style=\"color: #008080; text-decoration-color: #008080; font-weight: bold\">402</span>, <span style=\"color: #008080; text-decoration-color: #008080; font-weight: bold\">403</span>, <span style=\"color: #008080; text-decoration-color: #008080; font-weight: bold\">404</span>, <span style=\"color: #008080; text-decoration-color: #008080; font-weight: bold\">405</span>, <span style=\"color: #008080; text-decoration-color: #008080; font-weight: bold\">406</span>, <span style=\"color: #008080; text-decoration-color: #008080; font-weight: bold\">407</span>, <span style=\"color: #008080; text-decoration-color: #008080; font-weight: bold\">408</span>, <span style=\"color: #008080; text-decoration-color: #008080; font-weight: bold\">409</span>, <span style=\"color: #008080; text-decoration-color: #008080; font-weight: bold\">410</span>,   <span style=\"color: #7f7f7f; text-decoration-color: #7f7f7f\">                   </span>\n",
       "<span style=\"color: #7fbfbf; text-decoration-color: #7fbfbf\">                    </span>         <span style=\"color: #008080; text-decoration-color: #008080; font-weight: bold\">411</span>, <span style=\"color: #008080; text-decoration-color: #008080; font-weight: bold\">412</span>, <span style=\"color: #008080; text-decoration-color: #008080; font-weight: bold\">413</span>, <span style=\"color: #008080; text-decoration-color: #008080; font-weight: bold\">416</span>, <span style=\"color: #008080; text-decoration-color: #008080; font-weight: bold\">417</span>, <span style=\"color: #008080; text-decoration-color: #008080; font-weight: bold\">419</span>, <span style=\"color: #008080; text-decoration-color: #008080; font-weight: bold\">420</span>, <span style=\"color: #008080; text-decoration-color: #008080; font-weight: bold\">421</span>, <span style=\"color: #008080; text-decoration-color: #008080; font-weight: bold\">422</span>, <span style=\"color: #008080; text-decoration-color: #008080; font-weight: bold\">425</span>, <span style=\"color: #008080; text-decoration-color: #008080; font-weight: bold\">426</span>, <span style=\"color: #008080; text-decoration-color: #008080; font-weight: bold\">429</span>, <span style=\"color: #008080; text-decoration-color: #008080; font-weight: bold\">430</span>,   <span style=\"color: #7f7f7f; text-decoration-color: #7f7f7f\">                   </span>\n",
       "<span style=\"color: #7fbfbf; text-decoration-color: #7fbfbf\">                    </span>         <span style=\"color: #008080; text-decoration-color: #008080; font-weight: bold\">431</span>, <span style=\"color: #008080; text-decoration-color: #008080; font-weight: bold\">434</span>, <span style=\"color: #008080; text-decoration-color: #008080; font-weight: bold\">435</span>, <span style=\"color: #008080; text-decoration-color: #008080; font-weight: bold\">438</span>, <span style=\"color: #008080; text-decoration-color: #008080; font-weight: bold\">439</span>, <span style=\"color: #008080; text-decoration-color: #008080; font-weight: bold\">440</span>, <span style=\"color: #008080; text-decoration-color: #008080; font-weight: bold\">444</span>, <span style=\"color: #008080; text-decoration-color: #008080; font-weight: bold\">447</span>, <span style=\"color: #008080; text-decoration-color: #008080; font-weight: bold\">448</span>, <span style=\"color: #008080; text-decoration-color: #008080; font-weight: bold\">449</span>, <span style=\"color: #008080; text-decoration-color: #008080; font-weight: bold\">450</span>, <span style=\"color: #008080; text-decoration-color: #008080; font-weight: bold\">451</span>, <span style=\"color: #008080; text-decoration-color: #008080; font-weight: bold\">452</span>,   <span style=\"color: #7f7f7f; text-decoration-color: #7f7f7f\">                   </span>\n",
       "<span style=\"color: #7fbfbf; text-decoration-color: #7fbfbf\">                    </span>         <span style=\"color: #008080; text-decoration-color: #008080; font-weight: bold\">453</span>, <span style=\"color: #008080; text-decoration-color: #008080; font-weight: bold\">455</span>, <span style=\"color: #008080; text-decoration-color: #008080; font-weight: bold\">456</span>, <span style=\"color: #008080; text-decoration-color: #008080; font-weight: bold\">457</span>, <span style=\"color: #008080; text-decoration-color: #008080; font-weight: bold\">458</span>, <span style=\"color: #008080; text-decoration-color: #008080; font-weight: bold\">459</span>, <span style=\"color: #008080; text-decoration-color: #008080; font-weight: bold\">460</span>, <span style=\"color: #008080; text-decoration-color: #008080; font-weight: bold\">461</span>, <span style=\"color: #008080; text-decoration-color: #008080; font-weight: bold\">462</span>, <span style=\"color: #008080; text-decoration-color: #008080; font-weight: bold\">463</span>, <span style=\"color: #008080; text-decoration-color: #008080; font-weight: bold\">464</span>, <span style=\"color: #008080; text-decoration-color: #008080; font-weight: bold\">465</span>, <span style=\"color: #008080; text-decoration-color: #008080; font-weight: bold\">466</span>,   <span style=\"color: #7f7f7f; text-decoration-color: #7f7f7f\">                   </span>\n",
       "<span style=\"color: #7fbfbf; text-decoration-color: #7fbfbf\">                    </span>         <span style=\"color: #008080; text-decoration-color: #008080; font-weight: bold\">467</span>, <span style=\"color: #008080; text-decoration-color: #008080; font-weight: bold\">468</span>, <span style=\"color: #008080; text-decoration-color: #008080; font-weight: bold\">469</span>, <span style=\"color: #008080; text-decoration-color: #008080; font-weight: bold\">470</span>, <span style=\"color: #008080; text-decoration-color: #008080; font-weight: bold\">471</span>, <span style=\"color: #008080; text-decoration-color: #008080; font-weight: bold\">472</span>, <span style=\"color: #008080; text-decoration-color: #008080; font-weight: bold\">473</span>, <span style=\"color: #008080; text-decoration-color: #008080; font-weight: bold\">474</span>, <span style=\"color: #008080; text-decoration-color: #008080; font-weight: bold\">475</span>, <span style=\"color: #008080; text-decoration-color: #008080; font-weight: bold\">476</span>, <span style=\"color: #008080; text-decoration-color: #008080; font-weight: bold\">477</span>, <span style=\"color: #008080; text-decoration-color: #008080; font-weight: bold\">478</span>, <span style=\"color: #008080; text-decoration-color: #008080; font-weight: bold\">479</span>,   <span style=\"color: #7f7f7f; text-decoration-color: #7f7f7f\">                   </span>\n",
       "<span style=\"color: #7fbfbf; text-decoration-color: #7fbfbf\">                    </span>         <span style=\"color: #008080; text-decoration-color: #008080; font-weight: bold\">480</span>, <span style=\"color: #008080; text-decoration-color: #008080; font-weight: bold\">481</span>, <span style=\"color: #008080; text-decoration-color: #008080; font-weight: bold\">482</span>, <span style=\"color: #008080; text-decoration-color: #008080; font-weight: bold\">483</span>, <span style=\"color: #008080; text-decoration-color: #008080; font-weight: bold\">484</span>, <span style=\"color: #008080; text-decoration-color: #008080; font-weight: bold\">485</span>, <span style=\"color: #008080; text-decoration-color: #008080; font-weight: bold\">486</span>, <span style=\"color: #008080; text-decoration-color: #008080; font-weight: bold\">487</span>, <span style=\"color: #008080; text-decoration-color: #008080; font-weight: bold\">488</span>, <span style=\"color: #008080; text-decoration-color: #008080; font-weight: bold\">489</span>, <span style=\"color: #008080; text-decoration-color: #008080; font-weight: bold\">490</span>, <span style=\"color: #008080; text-decoration-color: #008080; font-weight: bold\">491</span>, <span style=\"color: #008080; text-decoration-color: #008080; font-weight: bold\">492</span>,   <span style=\"color: #7f7f7f; text-decoration-color: #7f7f7f\">                   </span>\n",
       "<span style=\"color: #7fbfbf; text-decoration-color: #7fbfbf\">                    </span>         <span style=\"color: #008080; text-decoration-color: #008080; font-weight: bold\">493</span>, <span style=\"color: #008080; text-decoration-color: #008080; font-weight: bold\">494</span>, <span style=\"color: #008080; text-decoration-color: #008080; font-weight: bold\">497</span>, <span style=\"color: #008080; text-decoration-color: #008080; font-weight: bold\">498</span>, <span style=\"color: #008080; text-decoration-color: #008080; font-weight: bold\">500</span>, <span style=\"color: #008080; text-decoration-color: #008080; font-weight: bold\">501</span>, <span style=\"color: #008080; text-decoration-color: #008080; font-weight: bold\">502</span>, <span style=\"color: #008080; text-decoration-color: #008080; font-weight: bold\">503</span>, <span style=\"color: #008080; text-decoration-color: #008080; font-weight: bold\">504</span>, <span style=\"color: #008080; text-decoration-color: #008080; font-weight: bold\">506</span>, <span style=\"color: #008080; text-decoration-color: #008080; font-weight: bold\">507</span>, <span style=\"color: #008080; text-decoration-color: #008080; font-weight: bold\">510</span>, <span style=\"color: #008080; text-decoration-color: #008080; font-weight: bold\">511</span>,   <span style=\"color: #7f7f7f; text-decoration-color: #7f7f7f\">                   </span>\n",
       "<span style=\"color: #7fbfbf; text-decoration-color: #7fbfbf\">                    </span>         <span style=\"color: #008080; text-decoration-color: #008080; font-weight: bold\">512</span>, <span style=\"color: #008080; text-decoration-color: #008080; font-weight: bold\">513</span>, <span style=\"color: #008080; text-decoration-color: #008080; font-weight: bold\">515</span>, <span style=\"color: #008080; text-decoration-color: #008080; font-weight: bold\">516</span>, <span style=\"color: #008080; text-decoration-color: #008080; font-weight: bold\">519</span>, <span style=\"color: #008080; text-decoration-color: #008080; font-weight: bold\">520</span>, <span style=\"color: #008080; text-decoration-color: #008080; font-weight: bold\">521</span>, <span style=\"color: #008080; text-decoration-color: #008080; font-weight: bold\">522</span>, <span style=\"color: #008080; text-decoration-color: #008080; font-weight: bold\">524</span>, <span style=\"color: #008080; text-decoration-color: #008080; font-weight: bold\">525</span>, <span style=\"color: #008080; text-decoration-color: #008080; font-weight: bold\">528</span>, <span style=\"color: #008080; text-decoration-color: #008080; font-weight: bold\">529</span>, <span style=\"color: #008080; text-decoration-color: #008080; font-weight: bold\">530</span>,   <span style=\"color: #7f7f7f; text-decoration-color: #7f7f7f\">                   </span>\n",
       "<span style=\"color: #7fbfbf; text-decoration-color: #7fbfbf\">                    </span>         <span style=\"color: #008080; text-decoration-color: #008080; font-weight: bold\">531</span>, <span style=\"color: #008080; text-decoration-color: #008080; font-weight: bold\">532</span>, <span style=\"color: #008080; text-decoration-color: #008080; font-weight: bold\">533</span>, <span style=\"color: #008080; text-decoration-color: #008080; font-weight: bold\">534</span>, <span style=\"color: #008080; text-decoration-color: #008080; font-weight: bold\">537</span>, <span style=\"color: #008080; text-decoration-color: #008080; font-weight: bold\">538</span>, <span style=\"color: #008080; text-decoration-color: #008080; font-weight: bold\">539</span>, <span style=\"color: #008080; text-decoration-color: #008080; font-weight: bold\">540</span>, <span style=\"color: #008080; text-decoration-color: #008080; font-weight: bold\">541</span>, <span style=\"color: #008080; text-decoration-color: #008080; font-weight: bold\">542</span>, <span style=\"color: #008080; text-decoration-color: #008080; font-weight: bold\">543</span>, <span style=\"color: #008080; text-decoration-color: #008080; font-weight: bold\">544</span>, <span style=\"color: #008080; text-decoration-color: #008080; font-weight: bold\">545</span>,   <span style=\"color: #7f7f7f; text-decoration-color: #7f7f7f\">                   </span>\n",
       "<span style=\"color: #7fbfbf; text-decoration-color: #7fbfbf\">                    </span>         <span style=\"color: #008080; text-decoration-color: #008080; font-weight: bold\">546</span>, <span style=\"color: #008080; text-decoration-color: #008080; font-weight: bold\">547</span>, <span style=\"color: #008080; text-decoration-color: #008080; font-weight: bold\">548</span>, <span style=\"color: #008080; text-decoration-color: #008080; font-weight: bold\">549</span>, <span style=\"color: #008080; text-decoration-color: #008080; font-weight: bold\">550</span>, <span style=\"color: #008080; text-decoration-color: #008080; font-weight: bold\">551</span>, <span style=\"color: #008080; text-decoration-color: #008080; font-weight: bold\">552</span>, <span style=\"color: #008080; text-decoration-color: #008080; font-weight: bold\">553</span>, <span style=\"color: #008080; text-decoration-color: #008080; font-weight: bold\">554</span>, <span style=\"color: #008080; text-decoration-color: #008080; font-weight: bold\">555</span>, <span style=\"color: #008080; text-decoration-color: #008080; font-weight: bold\">556</span>, <span style=\"color: #008080; text-decoration-color: #008080; font-weight: bold\">557</span>, <span style=\"color: #008080; text-decoration-color: #008080; font-weight: bold\">558</span>,   <span style=\"color: #7f7f7f; text-decoration-color: #7f7f7f\">                   </span>\n",
       "<span style=\"color: #7fbfbf; text-decoration-color: #7fbfbf\">                    </span>         <span style=\"color: #008080; text-decoration-color: #008080; font-weight: bold\">559</span>, <span style=\"color: #008080; text-decoration-color: #008080; font-weight: bold\">560</span>, <span style=\"color: #008080; text-decoration-color: #008080; font-weight: bold\">561</span>, <span style=\"color: #008080; text-decoration-color: #008080; font-weight: bold\">562</span>, <span style=\"color: #008080; text-decoration-color: #008080; font-weight: bold\">563</span>, <span style=\"color: #008080; text-decoration-color: #008080; font-weight: bold\">564</span>, <span style=\"color: #008080; text-decoration-color: #008080; font-weight: bold\">565</span>, <span style=\"color: #008080; text-decoration-color: #008080; font-weight: bold\">566</span>, <span style=\"color: #008080; text-decoration-color: #008080; font-weight: bold\">567</span>, <span style=\"color: #008080; text-decoration-color: #008080; font-weight: bold\">568</span>, <span style=\"color: #008080; text-decoration-color: #008080; font-weight: bold\">569</span>, <span style=\"color: #008080; text-decoration-color: #008080; font-weight: bold\">570</span>, <span style=\"color: #008080; text-decoration-color: #008080; font-weight: bold\">572</span>,   <span style=\"color: #7f7f7f; text-decoration-color: #7f7f7f\">                   </span>\n",
       "<span style=\"color: #7fbfbf; text-decoration-color: #7fbfbf\">                    </span>         <span style=\"color: #008080; text-decoration-color: #008080; font-weight: bold\">573</span>, <span style=\"color: #008080; text-decoration-color: #008080; font-weight: bold\">574</span>, <span style=\"color: #008080; text-decoration-color: #008080; font-weight: bold\">575</span>, <span style=\"color: #008080; text-decoration-color: #008080; font-weight: bold\">576</span>, <span style=\"color: #008080; text-decoration-color: #008080; font-weight: bold\">578</span>, <span style=\"color: #008080; text-decoration-color: #008080; font-weight: bold\">579</span>, <span style=\"color: #008080; text-decoration-color: #008080; font-weight: bold\">581</span>, <span style=\"color: #008080; text-decoration-color: #008080; font-weight: bold\">582</span>, <span style=\"color: #008080; text-decoration-color: #008080; font-weight: bold\">583</span>, <span style=\"color: #008080; text-decoration-color: #008080; font-weight: bold\">584</span>, <span style=\"color: #008080; text-decoration-color: #008080; font-weight: bold\">585</span>, <span style=\"color: #008080; text-decoration-color: #008080; font-weight: bold\">586</span>, <span style=\"color: #008080; text-decoration-color: #008080; font-weight: bold\">587</span>,   <span style=\"color: #7f7f7f; text-decoration-color: #7f7f7f\">                   </span>\n",
       "<span style=\"color: #7fbfbf; text-decoration-color: #7fbfbf\">                    </span>         <span style=\"color: #008080; text-decoration-color: #008080; font-weight: bold\">588</span>, <span style=\"color: #008080; text-decoration-color: #008080; font-weight: bold\">591</span>, <span style=\"color: #008080; text-decoration-color: #008080; font-weight: bold\">592</span>, <span style=\"color: #008080; text-decoration-color: #008080; font-weight: bold\">593</span>, <span style=\"color: #008080; text-decoration-color: #008080; font-weight: bold\">596</span>, <span style=\"color: #008080; text-decoration-color: #008080; font-weight: bold\">597</span>, <span style=\"color: #008080; text-decoration-color: #008080; font-weight: bold\">600</span>, <span style=\"color: #008080; text-decoration-color: #008080; font-weight: bold\">601</span>, <span style=\"color: #008080; text-decoration-color: #008080; font-weight: bold\">602</span>, <span style=\"color: #008080; text-decoration-color: #008080; font-weight: bold\">605</span>, <span style=\"color: #008080; text-decoration-color: #008080; font-weight: bold\">606</span>, <span style=\"color: #008080; text-decoration-color: #008080; font-weight: bold\">609</span>, <span style=\"color: #008080; text-decoration-color: #008080; font-weight: bold\">610</span>,   <span style=\"color: #7f7f7f; text-decoration-color: #7f7f7f\">                   </span>\n",
       "<span style=\"color: #7fbfbf; text-decoration-color: #7fbfbf\">                    </span>         <span style=\"color: #008080; text-decoration-color: #008080; font-weight: bold\">611</span>, <span style=\"color: #008080; text-decoration-color: #008080; font-weight: bold\">612</span>, <span style=\"color: #008080; text-decoration-color: #008080; font-weight: bold\">613</span>, <span style=\"color: #008080; text-decoration-color: #008080; font-weight: bold\">614</span>, <span style=\"color: #008080; text-decoration-color: #008080; font-weight: bold\">615</span>, <span style=\"color: #008080; text-decoration-color: #008080; font-weight: bold\">617</span>, <span style=\"color: #008080; text-decoration-color: #008080; font-weight: bold\">618</span>, <span style=\"color: #008080; text-decoration-color: #008080; font-weight: bold\">619</span>, <span style=\"color: #008080; text-decoration-color: #008080; font-weight: bold\">620</span>, <span style=\"color: #008080; text-decoration-color: #008080; font-weight: bold\">621</span>, <span style=\"color: #008080; text-decoration-color: #008080; font-weight: bold\">622</span>, <span style=\"color: #008080; text-decoration-color: #008080; font-weight: bold\">623</span>, <span style=\"color: #008080; text-decoration-color: #008080; font-weight: bold\">624</span>,   <span style=\"color: #7f7f7f; text-decoration-color: #7f7f7f\">                   </span>\n",
       "<span style=\"color: #7fbfbf; text-decoration-color: #7fbfbf\">                    </span>         <span style=\"color: #008080; text-decoration-color: #008080; font-weight: bold\">625</span>, <span style=\"color: #008080; text-decoration-color: #008080; font-weight: bold\">626</span>, <span style=\"color: #008080; text-decoration-color: #008080; font-weight: bold\">627</span>, <span style=\"color: #008080; text-decoration-color: #008080; font-weight: bold\">628</span>, <span style=\"color: #008080; text-decoration-color: #008080; font-weight: bold\">629</span>, <span style=\"color: #008080; text-decoration-color: #008080; font-weight: bold\">630</span>, <span style=\"color: #008080; text-decoration-color: #008080; font-weight: bold\">631</span>, <span style=\"color: #008080; text-decoration-color: #008080; font-weight: bold\">632</span>, <span style=\"color: #008080; text-decoration-color: #008080; font-weight: bold\">633</span>, <span style=\"color: #008080; text-decoration-color: #008080; font-weight: bold\">634</span>, <span style=\"color: #008080; text-decoration-color: #008080; font-weight: bold\">635</span>, <span style=\"color: #008080; text-decoration-color: #008080; font-weight: bold\">636</span>, <span style=\"color: #008080; text-decoration-color: #008080; font-weight: bold\">637</span>,   <span style=\"color: #7f7f7f; text-decoration-color: #7f7f7f\">                   </span>\n",
       "<span style=\"color: #7fbfbf; text-decoration-color: #7fbfbf\">                    </span>         <span style=\"color: #008080; text-decoration-color: #008080; font-weight: bold\">638</span>, <span style=\"color: #008080; text-decoration-color: #008080; font-weight: bold\">639</span>, <span style=\"color: #008080; text-decoration-color: #008080; font-weight: bold\">640</span>, <span style=\"color: #008080; text-decoration-color: #008080; font-weight: bold\">641</span>, <span style=\"color: #008080; text-decoration-color: #008080; font-weight: bold\">642</span>, <span style=\"color: #008080; text-decoration-color: #008080; font-weight: bold\">643</span>, <span style=\"color: #008080; text-decoration-color: #008080; font-weight: bold\">644</span>, <span style=\"color: #008080; text-decoration-color: #008080; font-weight: bold\">645</span>, <span style=\"color: #008080; text-decoration-color: #008080; font-weight: bold\">646</span>, <span style=\"color: #008080; text-decoration-color: #008080; font-weight: bold\">647</span>, <span style=\"color: #008080; text-decoration-color: #008080; font-weight: bold\">648</span>, <span style=\"color: #008080; text-decoration-color: #008080; font-weight: bold\">649</span>, <span style=\"color: #008080; text-decoration-color: #008080; font-weight: bold\">650</span>,   <span style=\"color: #7f7f7f; text-decoration-color: #7f7f7f\">                   </span>\n",
       "<span style=\"color: #7fbfbf; text-decoration-color: #7fbfbf\">                    </span>         <span style=\"color: #008080; text-decoration-color: #008080; font-weight: bold\">651</span>, <span style=\"color: #008080; text-decoration-color: #008080; font-weight: bold\">652</span>, <span style=\"color: #008080; text-decoration-color: #008080; font-weight: bold\">653</span>, <span style=\"color: #008080; text-decoration-color: #008080; font-weight: bold\">654</span>, <span style=\"color: #008080; text-decoration-color: #008080; font-weight: bold\">655</span>, <span style=\"color: #008080; text-decoration-color: #008080; font-weight: bold\">656</span>, <span style=\"color: #008080; text-decoration-color: #008080; font-weight: bold\">657</span>, <span style=\"color: #008080; text-decoration-color: #008080; font-weight: bold\">658</span>, <span style=\"color: #008080; text-decoration-color: #008080; font-weight: bold\">659</span>, <span style=\"color: #008080; text-decoration-color: #008080; font-weight: bold\">660</span>, <span style=\"color: #008080; text-decoration-color: #008080; font-weight: bold\">661</span>, <span style=\"color: #008080; text-decoration-color: #008080; font-weight: bold\">662</span>, <span style=\"color: #008080; text-decoration-color: #008080; font-weight: bold\">663</span>,   <span style=\"color: #7f7f7f; text-decoration-color: #7f7f7f\">                   </span>\n",
       "<span style=\"color: #7fbfbf; text-decoration-color: #7fbfbf\">                    </span>         <span style=\"color: #008080; text-decoration-color: #008080; font-weight: bold\">664</span>, <span style=\"color: #008080; text-decoration-color: #008080; font-weight: bold\">665</span>, <span style=\"color: #008080; text-decoration-color: #008080; font-weight: bold\">666</span>, <span style=\"color: #008080; text-decoration-color: #008080; font-weight: bold\">667</span>, <span style=\"color: #008080; text-decoration-color: #008080; font-weight: bold\">668</span>, <span style=\"color: #008080; text-decoration-color: #008080; font-weight: bold\">669</span>, <span style=\"color: #008080; text-decoration-color: #008080; font-weight: bold\">671</span>, <span style=\"color: #008080; text-decoration-color: #008080; font-weight: bold\">672</span>, <span style=\"color: #008080; text-decoration-color: #008080; font-weight: bold\">673</span>, <span style=\"color: #008080; text-decoration-color: #008080; font-weight: bold\">674</span>, <span style=\"color: #008080; text-decoration-color: #008080; font-weight: bold\">675</span>, <span style=\"color: #008080; text-decoration-color: #008080; font-weight: bold\">677</span>, <span style=\"color: #008080; text-decoration-color: #008080; font-weight: bold\">678</span>,   <span style=\"color: #7f7f7f; text-decoration-color: #7f7f7f\">                   </span>\n",
       "<span style=\"color: #7fbfbf; text-decoration-color: #7fbfbf\">                    </span>         <span style=\"color: #008080; text-decoration-color: #008080; font-weight: bold\">680</span>, <span style=\"color: #008080; text-decoration-color: #008080; font-weight: bold\">681</span>, <span style=\"color: #008080; text-decoration-color: #008080; font-weight: bold\">682</span>, <span style=\"color: #008080; text-decoration-color: #008080; font-weight: bold\">683</span>, <span style=\"color: #008080; text-decoration-color: #008080; font-weight: bold\">684</span>, <span style=\"color: #008080; text-decoration-color: #008080; font-weight: bold\">686</span>, <span style=\"color: #008080; text-decoration-color: #008080; font-weight: bold\">687</span>, <span style=\"color: #008080; text-decoration-color: #008080; font-weight: bold\">689</span>, <span style=\"color: #008080; text-decoration-color: #008080; font-weight: bold\">690</span>, <span style=\"color: #008080; text-decoration-color: #008080; font-weight: bold\">691</span>, <span style=\"color: #008080; text-decoration-color: #008080; font-weight: bold\">692</span>, <span style=\"color: #008080; text-decoration-color: #008080; font-weight: bold\">693</span>, <span style=\"color: #008080; text-decoration-color: #008080; font-weight: bold\">694</span>,   <span style=\"color: #7f7f7f; text-decoration-color: #7f7f7f\">                   </span>\n",
       "<span style=\"color: #7fbfbf; text-decoration-color: #7fbfbf\">                    </span>         <span style=\"color: #008080; text-decoration-color: #008080; font-weight: bold\">695</span>, <span style=\"color: #008080; text-decoration-color: #008080; font-weight: bold\">696</span>, <span style=\"color: #008080; text-decoration-color: #008080; font-weight: bold\">698</span>, <span style=\"color: #008080; text-decoration-color: #008080; font-weight: bold\">699</span>, <span style=\"color: #008080; text-decoration-color: #008080; font-weight: bold\">700</span>, <span style=\"color: #008080; text-decoration-color: #008080; font-weight: bold\">701</span>, <span style=\"color: #008080; text-decoration-color: #008080; font-weight: bold\">702</span>, <span style=\"color: #008080; text-decoration-color: #008080; font-weight: bold\">703</span>, <span style=\"color: #008080; text-decoration-color: #008080; font-weight: bold\">704</span>, <span style=\"color: #008080; text-decoration-color: #008080; font-weight: bold\">705</span>, <span style=\"color: #008080; text-decoration-color: #008080; font-weight: bold\">706</span>, <span style=\"color: #008080; text-decoration-color: #008080; font-weight: bold\">707</span>, <span style=\"color: #008080; text-decoration-color: #008080; font-weight: bold\">708</span>,   <span style=\"color: #7f7f7f; text-decoration-color: #7f7f7f\">                   </span>\n",
       "<span style=\"color: #7fbfbf; text-decoration-color: #7fbfbf\">                    </span>         <span style=\"color: #008080; text-decoration-color: #008080; font-weight: bold\">709</span>, <span style=\"color: #008080; text-decoration-color: #008080; font-weight: bold\">710</span>, <span style=\"color: #008080; text-decoration-color: #008080; font-weight: bold\">711</span>, <span style=\"color: #008080; text-decoration-color: #008080; font-weight: bold\">712</span>, <span style=\"color: #008080; text-decoration-color: #008080; font-weight: bold\">713</span>, <span style=\"color: #008080; text-decoration-color: #008080; font-weight: bold\">714</span>, <span style=\"color: #008080; text-decoration-color: #008080; font-weight: bold\">715</span>, <span style=\"color: #008080; text-decoration-color: #008080; font-weight: bold\">716</span>, <span style=\"color: #008080; text-decoration-color: #008080; font-weight: bold\">717</span>, <span style=\"color: #008080; text-decoration-color: #008080; font-weight: bold\">718</span>, <span style=\"color: #008080; text-decoration-color: #008080; font-weight: bold\">719</span>, <span style=\"color: #008080; text-decoration-color: #008080; font-weight: bold\">720</span>, <span style=\"color: #008080; text-decoration-color: #008080; font-weight: bold\">721</span>,   <span style=\"color: #7f7f7f; text-decoration-color: #7f7f7f\">                   </span>\n",
       "<span style=\"color: #7fbfbf; text-decoration-color: #7fbfbf\">                    </span>         <span style=\"color: #008080; text-decoration-color: #008080; font-weight: bold\">722</span>, <span style=\"color: #008080; text-decoration-color: #008080; font-weight: bold\">723</span>, <span style=\"color: #008080; text-decoration-color: #008080; font-weight: bold\">724</span>, <span style=\"color: #008080; text-decoration-color: #008080; font-weight: bold\">725</span>, <span style=\"color: #008080; text-decoration-color: #008080; font-weight: bold\">726</span>, <span style=\"color: #008080; text-decoration-color: #008080; font-weight: bold\">727</span>, <span style=\"color: #008080; text-decoration-color: #008080; font-weight: bold\">728</span><span style=\"font-weight: bold\">}</span> <span style=\"font-weight: bold\">(</span>This is normal for the         <span style=\"color: #7f7f7f; text-decoration-color: #7f7f7f\">                   </span>\n",
       "<span style=\"color: #7fbfbf; text-decoration-color: #7fbfbf\">                    </span>         source/target WE bins, and this can be ignored if only those are   <span style=\"color: #7f7f7f; text-decoration-color: #7f7f7f\">                   </span>\n",
       "<span style=\"color: #7fbfbf; text-decoration-color: #7fbfbf\">                    </span>         listed here.<span style=\"font-weight: bold\">)</span>                                                      <span style=\"color: #7f7f7f; text-decoration-color: #7f7f7f\">                   </span>\n",
       "</pre>\n"
      ],
      "text/plain": [
       "\u001b[2;36m                   \u001b[0m\u001b[2;36m \u001b[0m\u001b[31mWARNING \u001b[0m All clusters were cleaned from bins \u001b[1m{\u001b[0m\u001b[1;36m0\u001b[0m, \u001b[1;36m1\u001b[0m, \u001b[1;36m2\u001b[0m, \u001b[1;36m3\u001b[0m, \u001b[1;36m4\u001b[0m, \u001b[1;36m5\u001b[0m, \u001b[1;36m6\u001b[0m, \u001b[1;36m7\u001b[0m, \u001b[1;36m8\u001b[0m, \u001b[1;36m9\u001b[0m, \u001b]8;id=650544;file:///ihome/lchong/dty7/Apps/msm_we/msm_we/_hamsm/_clustering.py\u001b\\\u001b[2m_clustering.py\u001b[0m\u001b]8;;\u001b\\\u001b[2m:\u001b[0m\u001b]8;id=762829;file:///ihome/lchong/dty7/Apps/msm_we/msm_we/_hamsm/_clustering.py#1067\u001b\\\u001b[2m1067\u001b[0m\u001b]8;;\u001b\\\n",
       "\u001b[2;36m                    \u001b[0m         \u001b[1;36m10\u001b[0m, \u001b[1;36m11\u001b[0m, \u001b[1;36m12\u001b[0m, \u001b[1;36m13\u001b[0m, \u001b[1;36m14\u001b[0m, \u001b[1;36m15\u001b[0m, \u001b[1;36m16\u001b[0m, \u001b[1;36m17\u001b[0m, \u001b[1;36m18\u001b[0m, \u001b[1;36m19\u001b[0m, \u001b[1;36m20\u001b[0m, \u001b[1;36m21\u001b[0m, \u001b[1;36m22\u001b[0m, \u001b[1;36m23\u001b[0m, \u001b[1;36m24\u001b[0m, \u001b[1;36m25\u001b[0m,    \u001b[2m                   \u001b[0m\n",
       "\u001b[2;36m                    \u001b[0m         \u001b[1;36m26\u001b[0m, \u001b[1;36m27\u001b[0m, \u001b[1;36m28\u001b[0m, \u001b[1;36m29\u001b[0m, \u001b[1;36m30\u001b[0m, \u001b[1;36m31\u001b[0m, \u001b[1;36m32\u001b[0m, \u001b[1;36m33\u001b[0m, \u001b[1;36m34\u001b[0m, \u001b[1;36m35\u001b[0m, \u001b[1;36m36\u001b[0m, \u001b[1;36m37\u001b[0m, \u001b[1;36m38\u001b[0m, \u001b[1;36m39\u001b[0m, \u001b[1;36m40\u001b[0m, \u001b[1;36m41\u001b[0m,    \u001b[2m                   \u001b[0m\n",
       "\u001b[2;36m                    \u001b[0m         \u001b[1;36m42\u001b[0m, \u001b[1;36m43\u001b[0m, \u001b[1;36m44\u001b[0m, \u001b[1;36m45\u001b[0m, \u001b[1;36m46\u001b[0m, \u001b[1;36m47\u001b[0m, \u001b[1;36m48\u001b[0m, \u001b[1;36m49\u001b[0m, \u001b[1;36m50\u001b[0m, \u001b[1;36m51\u001b[0m, \u001b[1;36m52\u001b[0m, \u001b[1;36m53\u001b[0m, \u001b[1;36m54\u001b[0m, \u001b[1;36m55\u001b[0m, \u001b[1;36m56\u001b[0m, \u001b[1;36m57\u001b[0m,    \u001b[2m                   \u001b[0m\n",
       "\u001b[2;36m                    \u001b[0m         \u001b[1;36m58\u001b[0m, \u001b[1;36m59\u001b[0m, \u001b[1;36m60\u001b[0m, \u001b[1;36m61\u001b[0m, \u001b[1;36m62\u001b[0m, \u001b[1;36m63\u001b[0m, \u001b[1;36m64\u001b[0m, \u001b[1;36m65\u001b[0m, \u001b[1;36m66\u001b[0m, \u001b[1;36m67\u001b[0m, \u001b[1;36m68\u001b[0m, \u001b[1;36m69\u001b[0m, \u001b[1;36m70\u001b[0m, \u001b[1;36m71\u001b[0m, \u001b[1;36m72\u001b[0m, \u001b[1;36m73\u001b[0m,    \u001b[2m                   \u001b[0m\n",
       "\u001b[2;36m                    \u001b[0m         \u001b[1;36m74\u001b[0m, \u001b[1;36m75\u001b[0m, \u001b[1;36m76\u001b[0m, \u001b[1;36m77\u001b[0m, \u001b[1;36m78\u001b[0m, \u001b[1;36m79\u001b[0m, \u001b[1;36m80\u001b[0m, \u001b[1;36m81\u001b[0m, \u001b[1;36m82\u001b[0m, \u001b[1;36m83\u001b[0m, \u001b[1;36m84\u001b[0m, \u001b[1;36m85\u001b[0m, \u001b[1;36m86\u001b[0m, \u001b[1;36m87\u001b[0m, \u001b[1;36m88\u001b[0m, \u001b[1;36m89\u001b[0m,    \u001b[2m                   \u001b[0m\n",
       "\u001b[2;36m                    \u001b[0m         \u001b[1;36m90\u001b[0m, \u001b[1;36m91\u001b[0m, \u001b[1;36m92\u001b[0m, \u001b[1;36m93\u001b[0m, \u001b[1;36m94\u001b[0m, \u001b[1;36m95\u001b[0m, \u001b[1;36m96\u001b[0m, \u001b[1;36m97\u001b[0m, \u001b[1;36m98\u001b[0m, \u001b[1;36m99\u001b[0m, \u001b[1;36m100\u001b[0m, \u001b[1;36m101\u001b[0m, \u001b[1;36m102\u001b[0m, \u001b[1;36m103\u001b[0m, \u001b[1;36m104\u001b[0m,   \u001b[2m                   \u001b[0m\n",
       "\u001b[2;36m                    \u001b[0m         \u001b[1;36m105\u001b[0m, \u001b[1;36m106\u001b[0m, \u001b[1;36m107\u001b[0m, \u001b[1;36m108\u001b[0m, \u001b[1;36m109\u001b[0m, \u001b[1;36m110\u001b[0m, \u001b[1;36m111\u001b[0m, \u001b[1;36m112\u001b[0m, \u001b[1;36m113\u001b[0m, \u001b[1;36m114\u001b[0m, \u001b[1;36m115\u001b[0m, \u001b[1;36m116\u001b[0m, \u001b[1;36m117\u001b[0m,   \u001b[2m                   \u001b[0m\n",
       "\u001b[2;36m                    \u001b[0m         \u001b[1;36m119\u001b[0m, \u001b[1;36m120\u001b[0m, \u001b[1;36m121\u001b[0m, \u001b[1;36m122\u001b[0m, \u001b[1;36m123\u001b[0m, \u001b[1;36m124\u001b[0m, \u001b[1;36m125\u001b[0m, \u001b[1;36m127\u001b[0m, \u001b[1;36m128\u001b[0m, \u001b[1;36m129\u001b[0m, \u001b[1;36m130\u001b[0m, \u001b[1;36m131\u001b[0m, \u001b[1;36m132\u001b[0m,   \u001b[2m                   \u001b[0m\n",
       "\u001b[2;36m                    \u001b[0m         \u001b[1;36m133\u001b[0m, \u001b[1;36m134\u001b[0m, \u001b[1;36m135\u001b[0m, \u001b[1;36m136\u001b[0m, \u001b[1;36m137\u001b[0m, \u001b[1;36m138\u001b[0m, \u001b[1;36m139\u001b[0m, \u001b[1;36m140\u001b[0m, \u001b[1;36m141\u001b[0m, \u001b[1;36m142\u001b[0m, \u001b[1;36m143\u001b[0m, \u001b[1;36m144\u001b[0m, \u001b[1;36m145\u001b[0m,   \u001b[2m                   \u001b[0m\n",
       "\u001b[2;36m                    \u001b[0m         \u001b[1;36m146\u001b[0m, \u001b[1;36m147\u001b[0m, \u001b[1;36m148\u001b[0m, \u001b[1;36m149\u001b[0m, \u001b[1;36m150\u001b[0m, \u001b[1;36m151\u001b[0m, \u001b[1;36m152\u001b[0m, \u001b[1;36m153\u001b[0m, \u001b[1;36m154\u001b[0m, \u001b[1;36m155\u001b[0m, \u001b[1;36m156\u001b[0m, \u001b[1;36m157\u001b[0m, \u001b[1;36m158\u001b[0m,   \u001b[2m                   \u001b[0m\n",
       "\u001b[2;36m                    \u001b[0m         \u001b[1;36m159\u001b[0m, \u001b[1;36m160\u001b[0m, \u001b[1;36m161\u001b[0m, \u001b[1;36m162\u001b[0m, \u001b[1;36m163\u001b[0m, \u001b[1;36m164\u001b[0m, \u001b[1;36m165\u001b[0m, \u001b[1;36m166\u001b[0m, \u001b[1;36m167\u001b[0m, \u001b[1;36m168\u001b[0m, \u001b[1;36m169\u001b[0m, \u001b[1;36m170\u001b[0m, \u001b[1;36m172\u001b[0m,   \u001b[2m                   \u001b[0m\n",
       "\u001b[2;36m                    \u001b[0m         \u001b[1;36m173\u001b[0m, \u001b[1;36m174\u001b[0m, \u001b[1;36m175\u001b[0m, \u001b[1;36m176\u001b[0m, \u001b[1;36m177\u001b[0m, \u001b[1;36m178\u001b[0m, \u001b[1;36m179\u001b[0m, \u001b[1;36m181\u001b[0m, \u001b[1;36m182\u001b[0m, \u001b[1;36m183\u001b[0m, \u001b[1;36m184\u001b[0m, \u001b[1;36m185\u001b[0m, \u001b[1;36m186\u001b[0m,   \u001b[2m                   \u001b[0m\n",
       "\u001b[2;36m                    \u001b[0m         \u001b[1;36m187\u001b[0m, \u001b[1;36m188\u001b[0m, \u001b[1;36m191\u001b[0m, \u001b[1;36m192\u001b[0m, \u001b[1;36m195\u001b[0m, \u001b[1;36m196\u001b[0m, \u001b[1;36m197\u001b[0m, \u001b[1;36m201\u001b[0m, \u001b[1;36m204\u001b[0m, \u001b[1;36m205\u001b[0m, \u001b[1;36m206\u001b[0m, \u001b[1;36m209\u001b[0m, \u001b[1;36m210\u001b[0m,   \u001b[2m                   \u001b[0m\n",
       "\u001b[2;36m                    \u001b[0m         \u001b[1;36m213\u001b[0m, \u001b[1;36m214\u001b[0m, \u001b[1;36m215\u001b[0m, \u001b[1;36m218\u001b[0m, \u001b[1;36m219\u001b[0m, \u001b[1;36m221\u001b[0m, \u001b[1;36m222\u001b[0m, \u001b[1;36m223\u001b[0m, \u001b[1;36m224\u001b[0m, \u001b[1;36m226\u001b[0m, \u001b[1;36m227\u001b[0m, \u001b[1;36m228\u001b[0m, \u001b[1;36m229\u001b[0m,   \u001b[2m                   \u001b[0m\n",
       "\u001b[2;36m                    \u001b[0m         \u001b[1;36m230\u001b[0m, \u001b[1;36m231\u001b[0m, \u001b[1;36m232\u001b[0m, \u001b[1;36m233\u001b[0m, \u001b[1;36m235\u001b[0m, \u001b[1;36m236\u001b[0m, \u001b[1;36m237\u001b[0m, \u001b[1;36m238\u001b[0m, \u001b[1;36m239\u001b[0m, \u001b[1;36m240\u001b[0m, \u001b[1;36m241\u001b[0m, \u001b[1;36m242\u001b[0m, \u001b[1;36m243\u001b[0m,   \u001b[2m                   \u001b[0m\n",
       "\u001b[2;36m                    \u001b[0m         \u001b[1;36m244\u001b[0m, \u001b[1;36m245\u001b[0m, \u001b[1;36m246\u001b[0m, \u001b[1;36m247\u001b[0m, \u001b[1;36m248\u001b[0m, \u001b[1;36m249\u001b[0m, \u001b[1;36m250\u001b[0m, \u001b[1;36m251\u001b[0m, \u001b[1;36m254\u001b[0m, \u001b[1;36m255\u001b[0m, \u001b[1;36m257\u001b[0m, \u001b[1;36m258\u001b[0m, \u001b[1;36m259\u001b[0m,   \u001b[2m                   \u001b[0m\n",
       "\u001b[2;36m                    \u001b[0m         \u001b[1;36m260\u001b[0m, \u001b[1;36m263\u001b[0m, \u001b[1;36m264\u001b[0m, \u001b[1;36m266\u001b[0m, \u001b[1;36m267\u001b[0m, \u001b[1;36m268\u001b[0m, \u001b[1;36m269\u001b[0m, \u001b[1;36m272\u001b[0m, \u001b[1;36m273\u001b[0m, \u001b[1;36m276\u001b[0m, \u001b[1;36m277\u001b[0m, \u001b[1;36m278\u001b[0m, \u001b[1;36m281\u001b[0m,   \u001b[2m                   \u001b[0m\n",
       "\u001b[2;36m                    \u001b[0m         \u001b[1;36m282\u001b[0m, \u001b[1;36m285\u001b[0m, \u001b[1;36m286\u001b[0m, \u001b[1;36m287\u001b[0m, \u001b[1;36m290\u001b[0m, \u001b[1;36m291\u001b[0m, \u001b[1;36m293\u001b[0m, \u001b[1;36m294\u001b[0m, \u001b[1;36m295\u001b[0m, \u001b[1;36m296\u001b[0m, \u001b[1;36m299\u001b[0m, \u001b[1;36m300\u001b[0m, \u001b[1;36m301\u001b[0m,   \u001b[2m                   \u001b[0m\n",
       "\u001b[2;36m                    \u001b[0m         \u001b[1;36m302\u001b[0m, \u001b[1;36m303\u001b[0m, \u001b[1;36m304\u001b[0m, \u001b[1;36m305\u001b[0m, \u001b[1;36m307\u001b[0m, \u001b[1;36m308\u001b[0m, \u001b[1;36m309\u001b[0m, \u001b[1;36m310\u001b[0m, \u001b[1;36m311\u001b[0m, \u001b[1;36m312\u001b[0m, \u001b[1;36m313\u001b[0m, \u001b[1;36m314\u001b[0m, \u001b[1;36m316\u001b[0m,   \u001b[2m                   \u001b[0m\n",
       "\u001b[2;36m                    \u001b[0m         \u001b[1;36m317\u001b[0m, \u001b[1;36m318\u001b[0m, \u001b[1;36m319\u001b[0m, \u001b[1;36m320\u001b[0m, \u001b[1;36m321\u001b[0m, \u001b[1;36m322\u001b[0m, \u001b[1;36m323\u001b[0m, \u001b[1;36m324\u001b[0m, \u001b[1;36m325\u001b[0m, \u001b[1;36m326\u001b[0m, \u001b[1;36m327\u001b[0m, \u001b[1;36m328\u001b[0m, \u001b[1;36m329\u001b[0m,   \u001b[2m                   \u001b[0m\n",
       "\u001b[2;36m                    \u001b[0m         \u001b[1;36m330\u001b[0m, \u001b[1;36m331\u001b[0m, \u001b[1;36m332\u001b[0m, \u001b[1;36m335\u001b[0m, \u001b[1;36m336\u001b[0m, \u001b[1;36m338\u001b[0m, \u001b[1;36m339\u001b[0m, \u001b[1;36m340\u001b[0m, \u001b[1;36m341\u001b[0m, \u001b[1;36m344\u001b[0m, \u001b[1;36m345\u001b[0m, \u001b[1;36m347\u001b[0m, \u001b[1;36m348\u001b[0m,   \u001b[2m                   \u001b[0m\n",
       "\u001b[2;36m                    \u001b[0m         \u001b[1;36m349\u001b[0m, \u001b[1;36m350\u001b[0m, \u001b[1;36m353\u001b[0m, \u001b[1;36m354\u001b[0m, \u001b[1;36m357\u001b[0m, \u001b[1;36m358\u001b[0m, \u001b[1;36m359\u001b[0m, \u001b[1;36m362\u001b[0m, \u001b[1;36m363\u001b[0m, \u001b[1;36m366\u001b[0m, \u001b[1;36m367\u001b[0m, \u001b[1;36m368\u001b[0m, \u001b[1;36m370\u001b[0m,   \u001b[2m                   \u001b[0m\n",
       "\u001b[2;36m                    \u001b[0m         \u001b[1;36m371\u001b[0m, \u001b[1;36m372\u001b[0m, \u001b[1;36m373\u001b[0m, \u001b[1;36m374\u001b[0m, \u001b[1;36m375\u001b[0m, \u001b[1;36m376\u001b[0m, \u001b[1;36m377\u001b[0m, \u001b[1;36m379\u001b[0m, \u001b[1;36m380\u001b[0m, \u001b[1;36m381\u001b[0m, \u001b[1;36m382\u001b[0m, \u001b[1;36m383\u001b[0m, \u001b[1;36m384\u001b[0m,   \u001b[2m                   \u001b[0m\n",
       "\u001b[2;36m                    \u001b[0m         \u001b[1;36m385\u001b[0m, \u001b[1;36m386\u001b[0m, \u001b[1;36m387\u001b[0m, \u001b[1;36m388\u001b[0m, \u001b[1;36m389\u001b[0m, \u001b[1;36m390\u001b[0m, \u001b[1;36m391\u001b[0m, \u001b[1;36m392\u001b[0m, \u001b[1;36m393\u001b[0m, \u001b[1;36m394\u001b[0m, \u001b[1;36m395\u001b[0m, \u001b[1;36m396\u001b[0m, \u001b[1;36m397\u001b[0m,   \u001b[2m                   \u001b[0m\n",
       "\u001b[2;36m                    \u001b[0m         \u001b[1;36m398\u001b[0m, \u001b[1;36m399\u001b[0m, \u001b[1;36m400\u001b[0m, \u001b[1;36m401\u001b[0m, \u001b[1;36m402\u001b[0m, \u001b[1;36m403\u001b[0m, \u001b[1;36m404\u001b[0m, \u001b[1;36m405\u001b[0m, \u001b[1;36m406\u001b[0m, \u001b[1;36m407\u001b[0m, \u001b[1;36m408\u001b[0m, \u001b[1;36m409\u001b[0m, \u001b[1;36m410\u001b[0m,   \u001b[2m                   \u001b[0m\n",
       "\u001b[2;36m                    \u001b[0m         \u001b[1;36m411\u001b[0m, \u001b[1;36m412\u001b[0m, \u001b[1;36m413\u001b[0m, \u001b[1;36m416\u001b[0m, \u001b[1;36m417\u001b[0m, \u001b[1;36m419\u001b[0m, \u001b[1;36m420\u001b[0m, \u001b[1;36m421\u001b[0m, \u001b[1;36m422\u001b[0m, \u001b[1;36m425\u001b[0m, \u001b[1;36m426\u001b[0m, \u001b[1;36m429\u001b[0m, \u001b[1;36m430\u001b[0m,   \u001b[2m                   \u001b[0m\n",
       "\u001b[2;36m                    \u001b[0m         \u001b[1;36m431\u001b[0m, \u001b[1;36m434\u001b[0m, \u001b[1;36m435\u001b[0m, \u001b[1;36m438\u001b[0m, \u001b[1;36m439\u001b[0m, \u001b[1;36m440\u001b[0m, \u001b[1;36m444\u001b[0m, \u001b[1;36m447\u001b[0m, \u001b[1;36m448\u001b[0m, \u001b[1;36m449\u001b[0m, \u001b[1;36m450\u001b[0m, \u001b[1;36m451\u001b[0m, \u001b[1;36m452\u001b[0m,   \u001b[2m                   \u001b[0m\n",
       "\u001b[2;36m                    \u001b[0m         \u001b[1;36m453\u001b[0m, \u001b[1;36m455\u001b[0m, \u001b[1;36m456\u001b[0m, \u001b[1;36m457\u001b[0m, \u001b[1;36m458\u001b[0m, \u001b[1;36m459\u001b[0m, \u001b[1;36m460\u001b[0m, \u001b[1;36m461\u001b[0m, \u001b[1;36m462\u001b[0m, \u001b[1;36m463\u001b[0m, \u001b[1;36m464\u001b[0m, \u001b[1;36m465\u001b[0m, \u001b[1;36m466\u001b[0m,   \u001b[2m                   \u001b[0m\n",
       "\u001b[2;36m                    \u001b[0m         \u001b[1;36m467\u001b[0m, \u001b[1;36m468\u001b[0m, \u001b[1;36m469\u001b[0m, \u001b[1;36m470\u001b[0m, \u001b[1;36m471\u001b[0m, \u001b[1;36m472\u001b[0m, \u001b[1;36m473\u001b[0m, \u001b[1;36m474\u001b[0m, \u001b[1;36m475\u001b[0m, \u001b[1;36m476\u001b[0m, \u001b[1;36m477\u001b[0m, \u001b[1;36m478\u001b[0m, \u001b[1;36m479\u001b[0m,   \u001b[2m                   \u001b[0m\n",
       "\u001b[2;36m                    \u001b[0m         \u001b[1;36m480\u001b[0m, \u001b[1;36m481\u001b[0m, \u001b[1;36m482\u001b[0m, \u001b[1;36m483\u001b[0m, \u001b[1;36m484\u001b[0m, \u001b[1;36m485\u001b[0m, \u001b[1;36m486\u001b[0m, \u001b[1;36m487\u001b[0m, \u001b[1;36m488\u001b[0m, \u001b[1;36m489\u001b[0m, \u001b[1;36m490\u001b[0m, \u001b[1;36m491\u001b[0m, \u001b[1;36m492\u001b[0m,   \u001b[2m                   \u001b[0m\n",
       "\u001b[2;36m                    \u001b[0m         \u001b[1;36m493\u001b[0m, \u001b[1;36m494\u001b[0m, \u001b[1;36m497\u001b[0m, \u001b[1;36m498\u001b[0m, \u001b[1;36m500\u001b[0m, \u001b[1;36m501\u001b[0m, \u001b[1;36m502\u001b[0m, \u001b[1;36m503\u001b[0m, \u001b[1;36m504\u001b[0m, \u001b[1;36m506\u001b[0m, \u001b[1;36m507\u001b[0m, \u001b[1;36m510\u001b[0m, \u001b[1;36m511\u001b[0m,   \u001b[2m                   \u001b[0m\n",
       "\u001b[2;36m                    \u001b[0m         \u001b[1;36m512\u001b[0m, \u001b[1;36m513\u001b[0m, \u001b[1;36m515\u001b[0m, \u001b[1;36m516\u001b[0m, \u001b[1;36m519\u001b[0m, \u001b[1;36m520\u001b[0m, \u001b[1;36m521\u001b[0m, \u001b[1;36m522\u001b[0m, \u001b[1;36m524\u001b[0m, \u001b[1;36m525\u001b[0m, \u001b[1;36m528\u001b[0m, \u001b[1;36m529\u001b[0m, \u001b[1;36m530\u001b[0m,   \u001b[2m                   \u001b[0m\n",
       "\u001b[2;36m                    \u001b[0m         \u001b[1;36m531\u001b[0m, \u001b[1;36m532\u001b[0m, \u001b[1;36m533\u001b[0m, \u001b[1;36m534\u001b[0m, \u001b[1;36m537\u001b[0m, \u001b[1;36m538\u001b[0m, \u001b[1;36m539\u001b[0m, \u001b[1;36m540\u001b[0m, \u001b[1;36m541\u001b[0m, \u001b[1;36m542\u001b[0m, \u001b[1;36m543\u001b[0m, \u001b[1;36m544\u001b[0m, \u001b[1;36m545\u001b[0m,   \u001b[2m                   \u001b[0m\n",
       "\u001b[2;36m                    \u001b[0m         \u001b[1;36m546\u001b[0m, \u001b[1;36m547\u001b[0m, \u001b[1;36m548\u001b[0m, \u001b[1;36m549\u001b[0m, \u001b[1;36m550\u001b[0m, \u001b[1;36m551\u001b[0m, \u001b[1;36m552\u001b[0m, \u001b[1;36m553\u001b[0m, \u001b[1;36m554\u001b[0m, \u001b[1;36m555\u001b[0m, \u001b[1;36m556\u001b[0m, \u001b[1;36m557\u001b[0m, \u001b[1;36m558\u001b[0m,   \u001b[2m                   \u001b[0m\n",
       "\u001b[2;36m                    \u001b[0m         \u001b[1;36m559\u001b[0m, \u001b[1;36m560\u001b[0m, \u001b[1;36m561\u001b[0m, \u001b[1;36m562\u001b[0m, \u001b[1;36m563\u001b[0m, \u001b[1;36m564\u001b[0m, \u001b[1;36m565\u001b[0m, \u001b[1;36m566\u001b[0m, \u001b[1;36m567\u001b[0m, \u001b[1;36m568\u001b[0m, \u001b[1;36m569\u001b[0m, \u001b[1;36m570\u001b[0m, \u001b[1;36m572\u001b[0m,   \u001b[2m                   \u001b[0m\n",
       "\u001b[2;36m                    \u001b[0m         \u001b[1;36m573\u001b[0m, \u001b[1;36m574\u001b[0m, \u001b[1;36m575\u001b[0m, \u001b[1;36m576\u001b[0m, \u001b[1;36m578\u001b[0m, \u001b[1;36m579\u001b[0m, \u001b[1;36m581\u001b[0m, \u001b[1;36m582\u001b[0m, \u001b[1;36m583\u001b[0m, \u001b[1;36m584\u001b[0m, \u001b[1;36m585\u001b[0m, \u001b[1;36m586\u001b[0m, \u001b[1;36m587\u001b[0m,   \u001b[2m                   \u001b[0m\n",
       "\u001b[2;36m                    \u001b[0m         \u001b[1;36m588\u001b[0m, \u001b[1;36m591\u001b[0m, \u001b[1;36m592\u001b[0m, \u001b[1;36m593\u001b[0m, \u001b[1;36m596\u001b[0m, \u001b[1;36m597\u001b[0m, \u001b[1;36m600\u001b[0m, \u001b[1;36m601\u001b[0m, \u001b[1;36m602\u001b[0m, \u001b[1;36m605\u001b[0m, \u001b[1;36m606\u001b[0m, \u001b[1;36m609\u001b[0m, \u001b[1;36m610\u001b[0m,   \u001b[2m                   \u001b[0m\n",
       "\u001b[2;36m                    \u001b[0m         \u001b[1;36m611\u001b[0m, \u001b[1;36m612\u001b[0m, \u001b[1;36m613\u001b[0m, \u001b[1;36m614\u001b[0m, \u001b[1;36m615\u001b[0m, \u001b[1;36m617\u001b[0m, \u001b[1;36m618\u001b[0m, \u001b[1;36m619\u001b[0m, \u001b[1;36m620\u001b[0m, \u001b[1;36m621\u001b[0m, \u001b[1;36m622\u001b[0m, \u001b[1;36m623\u001b[0m, \u001b[1;36m624\u001b[0m,   \u001b[2m                   \u001b[0m\n",
       "\u001b[2;36m                    \u001b[0m         \u001b[1;36m625\u001b[0m, \u001b[1;36m626\u001b[0m, \u001b[1;36m627\u001b[0m, \u001b[1;36m628\u001b[0m, \u001b[1;36m629\u001b[0m, \u001b[1;36m630\u001b[0m, \u001b[1;36m631\u001b[0m, \u001b[1;36m632\u001b[0m, \u001b[1;36m633\u001b[0m, \u001b[1;36m634\u001b[0m, \u001b[1;36m635\u001b[0m, \u001b[1;36m636\u001b[0m, \u001b[1;36m637\u001b[0m,   \u001b[2m                   \u001b[0m\n",
       "\u001b[2;36m                    \u001b[0m         \u001b[1;36m638\u001b[0m, \u001b[1;36m639\u001b[0m, \u001b[1;36m640\u001b[0m, \u001b[1;36m641\u001b[0m, \u001b[1;36m642\u001b[0m, \u001b[1;36m643\u001b[0m, \u001b[1;36m644\u001b[0m, \u001b[1;36m645\u001b[0m, \u001b[1;36m646\u001b[0m, \u001b[1;36m647\u001b[0m, \u001b[1;36m648\u001b[0m, \u001b[1;36m649\u001b[0m, \u001b[1;36m650\u001b[0m,   \u001b[2m                   \u001b[0m\n",
       "\u001b[2;36m                    \u001b[0m         \u001b[1;36m651\u001b[0m, \u001b[1;36m652\u001b[0m, \u001b[1;36m653\u001b[0m, \u001b[1;36m654\u001b[0m, \u001b[1;36m655\u001b[0m, \u001b[1;36m656\u001b[0m, \u001b[1;36m657\u001b[0m, \u001b[1;36m658\u001b[0m, \u001b[1;36m659\u001b[0m, \u001b[1;36m660\u001b[0m, \u001b[1;36m661\u001b[0m, \u001b[1;36m662\u001b[0m, \u001b[1;36m663\u001b[0m,   \u001b[2m                   \u001b[0m\n",
       "\u001b[2;36m                    \u001b[0m         \u001b[1;36m664\u001b[0m, \u001b[1;36m665\u001b[0m, \u001b[1;36m666\u001b[0m, \u001b[1;36m667\u001b[0m, \u001b[1;36m668\u001b[0m, \u001b[1;36m669\u001b[0m, \u001b[1;36m671\u001b[0m, \u001b[1;36m672\u001b[0m, \u001b[1;36m673\u001b[0m, \u001b[1;36m674\u001b[0m, \u001b[1;36m675\u001b[0m, \u001b[1;36m677\u001b[0m, \u001b[1;36m678\u001b[0m,   \u001b[2m                   \u001b[0m\n",
       "\u001b[2;36m                    \u001b[0m         \u001b[1;36m680\u001b[0m, \u001b[1;36m681\u001b[0m, \u001b[1;36m682\u001b[0m, \u001b[1;36m683\u001b[0m, \u001b[1;36m684\u001b[0m, \u001b[1;36m686\u001b[0m, \u001b[1;36m687\u001b[0m, \u001b[1;36m689\u001b[0m, \u001b[1;36m690\u001b[0m, \u001b[1;36m691\u001b[0m, \u001b[1;36m692\u001b[0m, \u001b[1;36m693\u001b[0m, \u001b[1;36m694\u001b[0m,   \u001b[2m                   \u001b[0m\n",
       "\u001b[2;36m                    \u001b[0m         \u001b[1;36m695\u001b[0m, \u001b[1;36m696\u001b[0m, \u001b[1;36m698\u001b[0m, \u001b[1;36m699\u001b[0m, \u001b[1;36m700\u001b[0m, \u001b[1;36m701\u001b[0m, \u001b[1;36m702\u001b[0m, \u001b[1;36m703\u001b[0m, \u001b[1;36m704\u001b[0m, \u001b[1;36m705\u001b[0m, \u001b[1;36m706\u001b[0m, \u001b[1;36m707\u001b[0m, \u001b[1;36m708\u001b[0m,   \u001b[2m                   \u001b[0m\n",
       "\u001b[2;36m                    \u001b[0m         \u001b[1;36m709\u001b[0m, \u001b[1;36m710\u001b[0m, \u001b[1;36m711\u001b[0m, \u001b[1;36m712\u001b[0m, \u001b[1;36m713\u001b[0m, \u001b[1;36m714\u001b[0m, \u001b[1;36m715\u001b[0m, \u001b[1;36m716\u001b[0m, \u001b[1;36m717\u001b[0m, \u001b[1;36m718\u001b[0m, \u001b[1;36m719\u001b[0m, \u001b[1;36m720\u001b[0m, \u001b[1;36m721\u001b[0m,   \u001b[2m                   \u001b[0m\n",
       "\u001b[2;36m                    \u001b[0m         \u001b[1;36m722\u001b[0m, \u001b[1;36m723\u001b[0m, \u001b[1;36m724\u001b[0m, \u001b[1;36m725\u001b[0m, \u001b[1;36m726\u001b[0m, \u001b[1;36m727\u001b[0m, \u001b[1;36m728\u001b[0m\u001b[1m}\u001b[0m \u001b[1m(\u001b[0mThis is normal for the         \u001b[2m                   \u001b[0m\n",
       "\u001b[2;36m                    \u001b[0m         source/target WE bins, and this can be ignored if only those are   \u001b[2m                   \u001b[0m\n",
       "\u001b[2;36m                    \u001b[0m         listed here.\u001b[1m)\u001b[0m                                                      \u001b[2m                   \u001b[0m\n"
      ]
     },
     "metadata": {},
     "output_type": "display_data"
    },
    {
     "data": {
      "application/vnd.jupyter.widget-view+json": {
       "model_id": "a81d6363df6c443ba02cfcb536d33d34",
       "version_major": 2,
       "version_minor": 0
      },
      "text/plain": [
       "Output()"
      ]
     },
     "metadata": {},
     "output_type": "display_data"
    },
    {
     "data": {
      "text/html": [
       "<pre style=\"white-space:pre;overflow-x:auto;line-height:normal;font-family:Menlo,'DejaVu Sans Mono',consolas,'Courier New',monospace\"></pre>\n"
      ],
      "text/plain": []
     },
     "metadata": {},
     "output_type": "display_data"
    },
    {
     "data": {
      "text/html": [
       "<pre style=\"white-space:pre;overflow-x:auto;line-height:normal;font-family:Menlo,'DejaVu Sans Mono',consolas,'Courier New',monospace\">\n",
       "</pre>\n"
      ],
      "text/plain": [
       "\n"
      ]
     },
     "metadata": {},
     "output_type": "display_data"
    },
    {
     "data": {
      "application/vnd.jupyter.widget-view+json": {
       "model_id": "14fb6b1c305c47598250972c23c21d00",
       "version_major": 2,
       "version_minor": 0
      },
      "text/plain": [
       "Output()"
      ]
     },
     "metadata": {},
     "output_type": "display_data"
    },
    {
     "data": {
      "text/html": [
       "<pre style=\"white-space:pre;overflow-x:auto;line-height:normal;font-family:Menlo,'DejaVu Sans Mono',consolas,'Courier New',monospace\"></pre>\n"
      ],
      "text/plain": []
     },
     "metadata": {},
     "output_type": "display_data"
    },
    {
     "data": {
      "text/html": [
       "<pre style=\"white-space:pre;overflow-x:auto;line-height:normal;font-family:Menlo,'DejaVu Sans Mono',consolas,'Courier New',monospace\">\n",
       "</pre>\n"
      ],
      "text/plain": [
       "\n"
      ]
     },
     "metadata": {},
     "output_type": "display_data"
    },
    {
     "data": {
      "text/html": [
       "<pre style=\"white-space:pre;overflow-x:auto;line-height:normal;font-family:Menlo,'DejaVu Sans Mono',consolas,'Courier New',monospace\"><span style=\"color: #7fbfbf; text-decoration-color: #7fbfbf\">[09/01/23 18:20:23] </span><span style=\"color: #000080; text-decoration-color: #000080\">INFO    </span> Note: Sorting bins, assuming that pcoord <span style=\"color: #008080; text-decoration-color: #008080; font-weight: bold\">0</span> is meaningful for       <a href=\"file:///ihome/lchong/dty7/Apps/msm_we/msm_we/_hamsm/_clustering.py\" target=\"_blank\"><span style=\"color: #7f7f7f; text-decoration-color: #7f7f7f\">_clustering.py</span></a><span style=\"color: #7f7f7f; text-decoration-color: #7f7f7f\">:</span><a href=\"file:///ihome/lchong/dty7/Apps/msm_we/msm_we/_hamsm/_clustering.py#1643\" target=\"_blank\"><span style=\"color: #7f7f7f; text-decoration-color: #7f7f7f\">1643</span></a>\n",
       "<span style=\"color: #7fbfbf; text-decoration-color: #7fbfbf\">                    </span>         sorting                                                            <span style=\"color: #7f7f7f; text-decoration-color: #7f7f7f\">                   </span>\n",
       "</pre>\n"
      ],
      "text/plain": [
       "\u001b[2;36m[09/01/23 18:20:23]\u001b[0m\u001b[2;36m \u001b[0m\u001b[34mINFO    \u001b[0m Note: Sorting bins, assuming that pcoord \u001b[1;36m0\u001b[0m is meaningful for       \u001b]8;id=11450;file:///ihome/lchong/dty7/Apps/msm_we/msm_we/_hamsm/_clustering.py\u001b\\\u001b[2m_clustering.py\u001b[0m\u001b]8;;\u001b\\\u001b[2m:\u001b[0m\u001b]8;id=406367;file:///ihome/lchong/dty7/Apps/msm_we/msm_we/_hamsm/_clustering.py#1643\u001b\\\u001b[2m1643\u001b[0m\u001b]8;;\u001b\\\n",
       "\u001b[2;36m                    \u001b[0m         sorting                                                            \u001b[2m                   \u001b[0m\n"
      ]
     },
     "metadata": {},
     "output_type": "display_data"
    }
   ],
   "source": [
    "model.organize_fluxMatrix(use_ray=True)"
   ]
  },
  {
   "cell_type": "code",
   "execution_count": 77,
   "id": "13234a3a",
   "metadata": {
    "scrolled": true
   },
   "outputs": [
    {
     "data": {
      "text/plain": [
       "array([[9.66747608e-086, 0.00000000e+000, 0.00000000e+000, ...,\n",
       "        0.00000000e+000, 0.00000000e+000, 0.00000000e+000],\n",
       "       [0.00000000e+000, 1.45012141e-085, 0.00000000e+000, ...,\n",
       "        0.00000000e+000, 0.00000000e+000, 0.00000000e+000],\n",
       "       [0.00000000e+000, 0.00000000e+000, 4.38057510e-086, ...,\n",
       "        0.00000000e+000, 0.00000000e+000, 0.00000000e+000],\n",
       "       ...,\n",
       "       [0.00000000e+000, 0.00000000e+000, 0.00000000e+000, ...,\n",
       "        4.32920247e-108, 0.00000000e+000, 1.80332818e-110],\n",
       "       [0.00000000e+000, 0.00000000e+000, 0.00000000e+000, ...,\n",
       "        0.00000000e+000, 1.00000000e+000, 0.00000000e+000],\n",
       "       [0.00000000e+000, 0.00000000e+000, 0.00000000e+000, ...,\n",
       "        0.00000000e+000, 0.00000000e+000, 7.63145788e-057]])"
      ]
     },
     "execution_count": 77,
     "metadata": {},
     "output_type": "execute_result"
    }
   ],
   "source": [
    "model.fluxMatrix"
   ]
  },
  {
   "cell_type": "code",
   "execution_count": 7,
   "id": "96549d99",
   "metadata": {},
   "outputs": [],
   "source": [
    "# For loading the clustered model data\n",
    "from pickle import load\n",
    "with open(f'{model_name}_{first_iter}-{last_iter}_4Dmap_postfluxorg.pickle', 'rb') as f:\n",
    "    model = load(f)"
   ]
  },
  {
   "cell_type": "code",
   "execution_count": 78,
   "id": "85ac8bcc",
   "metadata": {},
   "outputs": [],
   "source": [
    "# For saving the clustered model data\n",
    "from pickle import dump\n",
    "with open(f'{model_name}_{first_iter}-{last_iter}_4Dmap_postfluxorg.pickle', 'wb') as f:\n",
    "    dump(model, f)"
   ]
  },
  {
   "cell_type": "markdown",
   "id": "08abeecb",
   "metadata": {},
   "source": [
    "### Begin Model Analysis\n",
    "---"
   ]
  },
  {
   "cell_type": "markdown",
   "id": "9117c861",
   "metadata": {},
   "source": [
    "Normalize the flux matrix to produce a transition matrix with"
   ]
  },
  {
   "cell_type": "code",
   "execution_count": 79,
   "id": "109fbbf8",
   "metadata": {
    "scrolled": true
   },
   "outputs": [],
   "source": [
    "model.get_Tmatrix()"
   ]
  },
  {
   "cell_type": "code",
   "execution_count": 80,
   "id": "c5fb64a5",
   "metadata": {},
   "outputs": [
    {
     "data": {
      "text/plain": [
       "array([[0.33333333, 0.        , 0.        , ..., 0.        , 0.        ,\n",
       "        0.        ],\n",
       "       [0.        , 0.33333333, 0.        , ..., 0.        , 0.        ,\n",
       "        0.        ],\n",
       "       [0.        , 0.        , 0.00352198, ..., 0.        , 0.        ,\n",
       "        0.        ],\n",
       "       ...,\n",
       "       [0.        , 0.        , 0.        , ..., 0.41099696, 0.        ,\n",
       "        0.00171201],\n",
       "       [0.        , 0.        , 0.        , ..., 0.        , 1.        ,\n",
       "        0.        ],\n",
       "       [0.        , 0.        , 0.        , ..., 0.        , 1.        ,\n",
       "        0.        ]])"
      ]
     },
     "execution_count": 80,
     "metadata": {},
     "output_type": "execute_result"
    }
   ],
   "source": [
    "model.Tmatrix"
   ]
  },
  {
   "cell_type": "markdown",
   "id": "c919fbca",
   "metadata": {},
   "source": [
    "Obtain steady-state distribution with"
   ]
  },
  {
   "cell_type": "code",
   "execution_count": 81,
   "id": "263b0822",
   "metadata": {},
   "outputs": [
    {
     "data": {
      "text/html": [
       "<pre style=\"white-space:pre;overflow-x:auto;line-height:normal;font-family:Menlo,'DejaVu Sans Mono',consolas,'Courier New',monospace\"><span style=\"color: #7fbfbf; text-decoration-color: #7fbfbf\">[09/01/23 18:20:35] </span><span style=\"color: #000080; text-decoration-color: #000080\">INFO    </span> Negative elements in pSS after normalization, attempting to correct   <a href=\"file:///ihome/lchong/dty7/Apps/msm_we/msm_we/_hamsm/_analysis.py\" target=\"_blank\"><span style=\"color: #7f7f7f; text-decoration-color: #7f7f7f\">_analysis.py</span></a><span style=\"color: #7f7f7f; text-decoration-color: #7f7f7f\">:</span><a href=\"file:///ihome/lchong/dty7/Apps/msm_we/msm_we/_hamsm/_analysis.py#238\" target=\"_blank\"><span style=\"color: #7f7f7f; text-decoration-color: #7f7f7f\">238</span></a>\n",
       "<span style=\"color: #7fbfbf; text-decoration-color: #7fbfbf\">                    </span>         with matrix power method.                                             <span style=\"color: #7f7f7f; text-decoration-color: #7f7f7f\">                </span>\n",
       "</pre>\n"
      ],
      "text/plain": [
       "\u001b[2;36m[09/01/23 18:20:35]\u001b[0m\u001b[2;36m \u001b[0m\u001b[34mINFO    \u001b[0m Negative elements in pSS after normalization, attempting to correct   \u001b]8;id=516223;file:///ihome/lchong/dty7/Apps/msm_we/msm_we/_hamsm/_analysis.py\u001b\\\u001b[2m_analysis.py\u001b[0m\u001b]8;;\u001b\\\u001b[2m:\u001b[0m\u001b]8;id=480304;file:///ihome/lchong/dty7/Apps/msm_we/msm_we/_hamsm/_analysis.py#238\u001b\\\u001b[2m238\u001b[0m\u001b]8;;\u001b\\\n",
       "\u001b[2;36m                    \u001b[0m         with matrix power method.                                             \u001b[2m                \u001b[0m\n"
      ]
     },
     "metadata": {},
     "output_type": "display_data"
    },
    {
     "data": {
      "text/html": [
       "<pre style=\"white-space:pre;overflow-x:auto;line-height:normal;font-family:Menlo,'DejaVu Sans Mono',consolas,'Courier New',monospace\"><span style=\"color: #7fbfbf; text-decoration-color: #7fbfbf\">                    </span><span style=\"color: #800000; text-decoration-color: #800000\">WARNING </span> Power method did NOT obtain semidefinite pSS. Some negative values    <a href=\"file:///ihome/lchong/dty7/Apps/msm_we/msm_we/_hamsm/_analysis.py\" target=\"_blank\"><span style=\"color: #7f7f7f; text-decoration-color: #7f7f7f\">_analysis.py</span></a><span style=\"color: #7f7f7f; text-decoration-color: #7f7f7f\">:</span><a href=\"file:///ihome/lchong/dty7/Apps/msm_we/msm_we/_hamsm/_analysis.py#256\" target=\"_blank\"><span style=\"color: #7f7f7f; text-decoration-color: #7f7f7f\">256</span></a>\n",
       "<span style=\"color: #7fbfbf; text-decoration-color: #7fbfbf\">                    </span>         remain. This is weird, and you should try to figure out why this is   <span style=\"color: #7f7f7f; text-decoration-color: #7f7f7f\">                </span>\n",
       "<span style=\"color: #7fbfbf; text-decoration-color: #7fbfbf\">                    </span>         happening.                                                            <span style=\"color: #7f7f7f; text-decoration-color: #7f7f7f\">                </span>\n",
       "</pre>\n"
      ],
      "text/plain": [
       "\u001b[2;36m                   \u001b[0m\u001b[2;36m \u001b[0m\u001b[31mWARNING \u001b[0m Power method did NOT obtain semidefinite pSS. Some negative values    \u001b]8;id=737550;file:///ihome/lchong/dty7/Apps/msm_we/msm_we/_hamsm/_analysis.py\u001b\\\u001b[2m_analysis.py\u001b[0m\u001b]8;;\u001b\\\u001b[2m:\u001b[0m\u001b]8;id=292367;file:///ihome/lchong/dty7/Apps/msm_we/msm_we/_hamsm/_analysis.py#256\u001b\\\u001b[2m256\u001b[0m\u001b]8;;\u001b\\\n",
       "\u001b[2;36m                    \u001b[0m         remain. This is weird, and you should try to figure out why this is   \u001b[2m                \u001b[0m\n",
       "\u001b[2;36m                    \u001b[0m         happening.                                                            \u001b[2m                \u001b[0m\n"
      ]
     },
     "metadata": {},
     "output_type": "display_data"
    },
    {
     "data": {
      "text/html": [
       "<pre style=\"white-space:pre;overflow-x:auto;line-height:normal;font-family:Menlo,'DejaVu Sans Mono',consolas,'Courier New',monospace\"><span style=\"color: #7fbfbf; text-decoration-color: #7fbfbf\">                    </span><span style=\"color: #800000; text-decoration-color: #800000\">WARNING </span> Some negative  elements in pSS<span style=\"color: #808000; text-decoration-color: #808000\">...</span> Ignoring, and setting model.pSS     <a href=\"file:///ihome/lchong/dty7/Apps/msm_we/msm_we/_hamsm/_analysis.py\" target=\"_blank\"><span style=\"color: #7f7f7f; text-decoration-color: #7f7f7f\">_analysis.py</span></a><span style=\"color: #7f7f7f; text-decoration-color: #7f7f7f\">:</span><a href=\"file:///ihome/lchong/dty7/Apps/msm_we/msm_we/_hamsm/_analysis.py#276\" target=\"_blank\"><span style=\"color: #7f7f7f; text-decoration-color: #7f7f7f\">276</span></a>\n",
       "<span style=\"color: #7fbfbf; text-decoration-color: #7fbfbf\">                    </span>         anyways.                                                              <span style=\"color: #7f7f7f; text-decoration-color: #7f7f7f\">                </span>\n",
       "</pre>\n"
      ],
      "text/plain": [
       "\u001b[2;36m                   \u001b[0m\u001b[2;36m \u001b[0m\u001b[31mWARNING \u001b[0m Some negative  elements in pSS\u001b[33m...\u001b[0m Ignoring, and setting model.pSS     \u001b]8;id=174074;file:///ihome/lchong/dty7/Apps/msm_we/msm_we/_hamsm/_analysis.py\u001b\\\u001b[2m_analysis.py\u001b[0m\u001b]8;;\u001b\\\u001b[2m:\u001b[0m\u001b]8;id=57348;file:///ihome/lchong/dty7/Apps/msm_we/msm_we/_hamsm/_analysis.py#276\u001b\\\u001b[2m276\u001b[0m\u001b]8;;\u001b\\\n",
       "\u001b[2;36m                    \u001b[0m         anyways.                                                              \u001b[2m                \u001b[0m\n"
      ]
     },
     "metadata": {},
     "output_type": "display_data"
    },
    {
     "data": {
      "text/html": [
       "<pre style=\"white-space:pre;overflow-x:auto;line-height:normal;font-family:Menlo,'DejaVu Sans Mono',consolas,'Courier New',monospace\"><span style=\"color: #7fbfbf; text-decoration-color: #7fbfbf\">[09/01/23 18:20:36] </span><span style=\"color: #000080; text-decoration-color: #000080\">INFO    </span>                                                                       <a href=\"file:///ihome/lchong/dty7/Apps/msm_we/msm_we/_hamsm/_analysis.py\" target=\"_blank\"><span style=\"color: #7f7f7f; text-decoration-color: #7f7f7f\">_analysis.py</span></a><span style=\"color: #7f7f7f; text-decoration-color: #7f7f7f\">:</span><a href=\"file:///ihome/lchong/dty7/Apps/msm_we/msm_we/_hamsm/_analysis.py#179\" target=\"_blank\"><span style=\"color: #7f7f7f; text-decoration-color: #7f7f7f\">179</span></a>\n",
       "<span style=\"color: #7fbfbf; text-decoration-color: #7fbfbf\">                    </span>         Flux converged to <span style=\"color: #008080; text-decoration-color: #008080; font-weight: bold\">9.9720e-29</span> after <span style=\"color: #008080; text-decoration-color: #008080; font-weight: bold\">3</span> iterations of inverse iteration. <span style=\"color: #7f7f7f; text-decoration-color: #7f7f7f\">                </span>\n",
       "</pre>\n"
      ],
      "text/plain": [
       "\u001b[2;36m[09/01/23 18:20:36]\u001b[0m\u001b[2;36m \u001b[0m\u001b[34mINFO    \u001b[0m                                                                       \u001b]8;id=677231;file:///ihome/lchong/dty7/Apps/msm_we/msm_we/_hamsm/_analysis.py\u001b\\\u001b[2m_analysis.py\u001b[0m\u001b]8;;\u001b\\\u001b[2m:\u001b[0m\u001b]8;id=34953;file:///ihome/lchong/dty7/Apps/msm_we/msm_we/_hamsm/_analysis.py#179\u001b\\\u001b[2m179\u001b[0m\u001b]8;;\u001b\\\n",
       "\u001b[2;36m                    \u001b[0m         Flux converged to \u001b[1;36m9.9720e-29\u001b[0m after \u001b[1;36m3\u001b[0m iterations of inverse iteration. \u001b[2m                \u001b[0m\n"
      ]
     },
     "metadata": {},
     "output_type": "display_data"
    },
    {
     "name": "stdout",
     "output_type": "stream",
     "text": [
      "(array([101, 165, 221, 249, 259, 274, 283, 379]),)\n"
     ]
    },
    {
     "ename": "AssertionError",
     "evalue": "Negative elements in pSS",
     "output_type": "error",
     "traceback": [
      "\u001b[0;31m---------------------------------------------------------------------------\u001b[0m",
      "\u001b[0;31mAssertionError\u001b[0m                            Traceback (most recent call last)",
      "Cell \u001b[0;32mIn[81], line 1\u001b[0m\n\u001b[0;32m----> 1\u001b[0m \u001b[43mmodel\u001b[49m\u001b[38;5;241;43m.\u001b[39;49m\u001b[43mget_steady_state\u001b[49m\u001b[43m(\u001b[49m\u001b[43m)\u001b[49m\n",
      "File \u001b[0;32m~/Apps/msm_we/msm_we/_hamsm/_analysis.py:189\u001b[0m, in \u001b[0;36mAnalysisMixin.get_steady_state\u001b[0;34m(self, flux_fractional_convergence, max_iters)\u001b[0m\n\u001b[1;32m    187\u001b[0m \u001b[38;5;28mprint\u001b[39m(np\u001b[38;5;241m.\u001b[39mwhere(last_pSS \u001b[38;5;241m<\u001b[39m \u001b[38;5;241m0\u001b[39m))\n\u001b[1;32m    188\u001b[0m \u001b[38;5;28mself\u001b[39m\u001b[38;5;241m.\u001b[39mpSS \u001b[38;5;241m=\u001b[39m last_pSS\n\u001b[0;32m--> 189\u001b[0m \u001b[38;5;28;01massert\u001b[39;00m (last_pSS \u001b[38;5;241m>\u001b[39m\u001b[38;5;241m=\u001b[39m \u001b[38;5;241m0\u001b[39m)\u001b[38;5;241m.\u001b[39mall(), \u001b[38;5;124m\"\u001b[39m\u001b[38;5;124mNegative elements in pSS\u001b[39m\u001b[38;5;124m\"\u001b[39m\n\u001b[1;32m    190\u001b[0m \u001b[38;5;28;01massert\u001b[39;00m last_flux \u001b[38;5;241m>\u001b[39m\u001b[38;5;241m=\u001b[39m \u001b[38;5;241m0\u001b[39m, \u001b[38;5;124m\"\u001b[39m\u001b[38;5;124mNegative flux estimate from this pSS\u001b[39m\u001b[38;5;124m\"\u001b[39m\n\u001b[1;32m    192\u001b[0m log\u001b[38;5;241m.\u001b[39mdebug(\u001b[38;5;124m\"\u001b[39m\u001b[38;5;124mDone with steady-state estimation.\u001b[39m\u001b[38;5;124m\"\u001b[39m)\n",
      "\u001b[0;31mAssertionError\u001b[0m: Negative elements in pSS"
     ]
    }
   ],
   "source": [
    "model.get_steady_state()"
   ]
  },
  {
   "cell_type": "code",
   "execution_count": null,
   "id": "341a5e9e",
   "metadata": {},
   "outputs": [],
   "source": [
    "model.update_cluster_structures()"
   ]
  },
  {
   "cell_type": "code",
   "execution_count": null,
   "id": "84549f2a",
   "metadata": {},
   "outputs": [],
   "source": [
    "model.get_steady_state_target_flux()\n",
    "\n",
    "print(f'Steady-state target rate is {model.JtargetSS:.2e}')"
   ]
  },
  {
   "cell_type": "code",
   "execution_count": 8,
   "id": "30c966ad",
   "metadata": {},
   "outputs": [],
   "source": [
    "# For loading the clustered model data\n",
    "from pickle import load\n",
    "with open(f'{model_name}_{first_iter}-{last_iter}_4Dmap_postsstflux.pickle', 'rb') as f:\n",
    "    model = load(f)"
   ]
  },
  {
   "cell_type": "code",
   "execution_count": null,
   "id": "04e4d685",
   "metadata": {},
   "outputs": [],
   "source": [
    "# For saving the clustered model data\n",
    "from pickle import dump\n",
    "with open(f'{model_name}_{first_iter}-{last_iter}_4Dmap_postsstflux.pickle', 'wb') as f:\n",
    "    dump(model, f)"
   ]
  },
  {
   "cell_type": "markdown",
   "id": "717f22e9",
   "metadata": {},
   "source": [
    "### Begin Model Validation\n",
    "---"
   ]
  },
  {
   "cell_type": "code",
   "execution_count": null,
   "id": "d12b2edf",
   "metadata": {},
   "outputs": [],
   "source": [
    "# shape: clusters, pcoords, min/max\n",
    "model.targetRMSD_minmax.shape"
   ]
  },
  {
   "cell_type": "code",
   "execution_count": null,
   "id": "8bd4b7d6",
   "metadata": {},
   "outputs": [],
   "source": [
    "# For checking just in case your bins are not good.\n",
    "array = model.targetRMSD_minmax[:,0,:]\n",
    "print(array[23],array[50],array[132],array[142],array[148],array[151])"
   ]
  },
  {
   "cell_type": "code",
   "execution_count": null,
   "id": "8f1f1932",
   "metadata": {
    "scrolled": true
   },
   "outputs": [],
   "source": [
    "# one issue here: each pcoord dim is the same values as pcoord 0 \n",
    "# (TODO: update code for grabbing all pcoords)\n",
    "model.targetRMSD_minmax[0]"
   ]
  },
  {
   "cell_type": "code",
   "execution_count": null,
   "id": "61e4af65",
   "metadata": {},
   "outputs": [],
   "source": [
    "model.targetRMSD_minmax[:,0,:].shape"
   ]
  },
  {
   "cell_type": "code",
   "execution_count": null,
   "id": "a9666e05",
   "metadata": {
    "scrolled": false
   },
   "outputs": [],
   "source": [
    "def plot_clusters(pcoord_to_use=0, ax=None):\n",
    "    \"\"\"\n",
    "    MSM Bin coverage plot with sorting based on specified pcoord.\n",
    "    \"\"\"\n",
    "    # sort by pcoord n\n",
    "    model.pcoord_to_use = pcoord_to_use\n",
    "    model.get_cluster_centers()\n",
    "    #model.update_sorted_cluster_centers()\n",
    "\n",
    "    # isolate pcoord min max array\n",
    "    array = model.targetRMSD_minmax[:,pcoord_to_use,:]\n",
    "\n",
    "    # set up plot objects\n",
    "    if ax is None:\n",
    "        fig, ax = plt.subplots(figsize=(10,5))\n",
    "    else:\n",
    "        fig = plt.gcf()\n",
    "    \n",
    "    # len-2 because the last two are NaN (eq simulation; target/basis states)\n",
    "    for idx in range(0,len(array)):\n",
    "        ax.errorbar(array[idx,0], idx,xerr=[[0],[array[idx,1]-array[idx,0]]])\n",
    "        #ax.plot(idx, array[idx,1], 'ro')\n",
    "    ax.set_ylabel('cluster number')\n",
    "    ax.set_xlabel(f'Pcoord {pcoord_to_use}')\n",
    "    ax.set_title('MSM Bins Coverage')"
   ]
  },
  {
   "cell_type": "code",
   "execution_count": null,
   "id": "4f8d85ec",
   "metadata": {},
   "outputs": [],
   "source": [
    "plot_clusters(0)"
   ]
  },
  {
   "cell_type": "code",
   "execution_count": null,
   "id": "aca601ca",
   "metadata": {},
   "outputs": [],
   "source": [
    "plot_clusters(1)"
   ]
  },
  {
   "cell_type": "code",
   "execution_count": null,
   "id": "40187b08",
   "metadata": {
    "scrolled": true
   },
   "outputs": [],
   "source": [
    "# making a 4 panel plot for each pcoord dim\n",
    "fig, ax = plt.subplots(nrows=2, ncols=2, sharey=True, figsize=(10,5))\n",
    "for i, panel in enumerate(ax.reshape(-1)):\n",
    "    plot_clusters(i, panel)\n",
    "    model.draw_basis_target_boundaries(panel, i)\n",
    "ax[0,1].set_ylabel(\"\")\n",
    "ax[1,1].set_ylabel(\"\")\n",
    "ax[1,0].set_title(\"\")\n",
    "ax[1,1].set_title(\"\")\n",
    "plt.subplots_adjust(hspace=0.35)"
   ]
  },
  {
   "cell_type": "markdown",
   "id": "02b1ea07",
   "metadata": {},
   "source": [
    "Had to adjust `_plotting.py` before `plot_flux` worked:\n",
    "``` Python\n",
    "322             binCenters[_model.indTargets] = _model.target_bin_centers[pcoord_to_use]\n",
    "323             binCenters[_model.indBasis] = _model.basis_bin_centers[pcoord_to_use]\n",
    "```"
   ]
  },
  {
   "cell_type": "code",
   "execution_count": null,
   "id": "4d570a9a",
   "metadata": {
    "scrolled": true
   },
   "outputs": [],
   "source": [
    "model.plot_flux(suppress_validation=True, pcoord_to_use=1)"
   ]
  },
  {
   "cell_type": "code",
   "execution_count": null,
   "id": "9ffc3336",
   "metadata": {},
   "outputs": [],
   "source": [
    "# making a 4 panel flux vs pcoord plot for each pcoord dim\n",
    "fig, ax = plt.subplots(nrows=2, ncols=2, sharey=True, figsize=(10,5))\n",
    "for i, panel in enumerate(ax.reshape(-1)):\n",
    "    model.plot_flux(suppress_validation=True, pcoord_to_use=i, ax=panel)\n",
    "    \n",
    "plt.subplots_adjust(hspace=0.35)"
   ]
  },
  {
   "cell_type": "code",
   "execution_count": null,
   "id": "f0c84d5b",
   "metadata": {
    "scrolled": true
   },
   "outputs": [],
   "source": [
    "model.get_committor()"
   ]
  },
  {
   "cell_type": "code",
   "execution_count": null,
   "id": "1694dd6c",
   "metadata": {},
   "outputs": [],
   "source": [
    "# optionally could adjust this cluster class attribute for pcoord to use (default=0)\n",
    "model.pcoord_to_use = 0"
   ]
  },
  {
   "cell_type": "code",
   "execution_count": null,
   "id": "bf19ee50",
   "metadata": {
    "scrolled": true
   },
   "outputs": [],
   "source": [
    "model.plot_committor()"
   ]
  },
  {
   "cell_type": "code",
   "execution_count": null,
   "id": "9a07b536",
   "metadata": {},
   "outputs": [],
   "source": [
    "# making a 4 panel committor plot for each pcoord dim\n",
    "fig, ax = plt.subplots(nrows=2, ncols=2, sharey=True, figsize=(10,5))\n",
    "for i, panel in enumerate(ax.reshape(-1)):\n",
    "    panel.scatter(model.targetRMSD_centers[:,i], model.q, s=15, c='k')\n",
    "    panel.set_xlabel(f\"pcoord {i}\")\n",
    "    model.draw_basis_target_boundaries(panel, i)\n",
    "ax[0,0].set_ylabel(\"pseudocommittor to target\")\n",
    "ax[1,0].set_ylabel(\"pseudocommittor to target\")\n",
    "fig.subplots_adjust(hspace=0.35)\n",
    "#plt.yscale('log')"
   ]
  },
  {
   "cell_type": "code",
   "execution_count": null,
   "id": "0b8b7ec0",
   "metadata": {},
   "outputs": [],
   "source": [
    "# first 3 center datapoints using all pcoord dims\n",
    "model.targetRMSD_centers[:3,:]"
   ]
  },
  {
   "cell_type": "code",
   "execution_count": null,
   "id": "e33d79bc",
   "metadata": {},
   "outputs": [],
   "source": [
    "# q is committor array per cluster\n",
    "model.q.shape"
   ]
  },
  {
   "cell_type": "code",
   "execution_count": null,
   "id": "015d3aa8",
   "metadata": {},
   "outputs": [],
   "source": [
    "model.plot_flux_committor(suppress_validation=True)\n",
    "#plt.gca().set_yscale('linear')\n",
    "#plt.savefig('flux_pseudo_uneven_bin-restart34-t2-c18.png')"
   ]
  },
  {
   "cell_type": "code",
   "execution_count": null,
   "id": "3167ff62",
   "metadata": {
    "scrolled": true
   },
   "outputs": [],
   "source": [
    "# For loading the clustered model data\n",
    "from pickle import load\n",
    "with open(f'{model_name}_{first_iter}-{last_iter}_4Dmap_postvalidation.pickle', 'rb') as f:\n",
    "    model = load(f)"
   ]
  },
  {
   "cell_type": "code",
   "execution_count": null,
   "id": "986eddfc",
   "metadata": {},
   "outputs": [],
   "source": [
    "# For saving the clustered model data\n",
    "from pickle import dump\n",
    "with open(f'{model_name}_{first_iter}-{last_iter}_4Dmap_postvalidation.pickle', 'wb') as f:\n",
    "    dump(model, f)"
   ]
  },
  {
   "cell_type": "markdown",
   "id": "e78ed940",
   "metadata": {},
   "source": [
    "### Post-featurization Steps: Block Validation\n",
    "---"
   ]
  },
  {
   "cell_type": "code",
   "execution_count": null,
   "id": "bdd311e5",
   "metadata": {
    "scrolled": true
   },
   "outputs": [],
   "source": [
    "model.do_block_validation(cross_validation_groups=2, cross_validation_blocks=8, use_ray=True)"
   ]
  },
  {
   "cell_type": "code",
   "execution_count": null,
   "id": "5a8df941",
   "metadata": {},
   "outputs": [],
   "source": [
    "# plot again with cross validated model\n",
    "model.plot_flux_committor()"
   ]
  },
  {
   "cell_type": "code",
   "execution_count": 8,
   "id": "e8a2d8eb",
   "metadata": {},
   "outputs": [],
   "source": [
    "# For loading the clustered model data\n",
    "from pickle import load\n",
    "with open(f'{model_name}_{first_iter}-{last_iter}_4Dmap_postblockvalidation.pickle', 'rb') as f:\n",
    "    model = load(f)"
   ]
  },
  {
   "cell_type": "code",
   "execution_count": null,
   "id": "07328c29",
   "metadata": {},
   "outputs": [],
   "source": [
    "# For saving the clustered model data\n",
    "from pickle import dump\n",
    "with open(f'{model_name}_{first_iter}-{last_iter}_4Dmap_postblockvalidation.pickle', 'wb') as f:\n",
    "    dump(model, f)"
   ]
  },
  {
   "cell_type": "markdown",
   "id": "bb1cb209",
   "metadata": {},
   "source": [
    "#### Block validation rates"
   ]
  },
  {
   "cell_type": "code",
   "execution_count": null,
   "id": "99d0ea31",
   "metadata": {},
   "outputs": [],
   "source": [
    "for i in range(len(model.validation_models)):\n",
    "    model.validation_models[i].get_steady_state_target_flux()\n",
    "\n",
    "    print(f'Steady-state target rate is {model.validation_models[i].JtargetSS:.2e} for model {i}')"
   ]
  },
  {
   "cell_type": "code",
   "execution_count": null,
   "id": "6458dc08",
   "metadata": {
    "scrolled": true
   },
   "outputs": [],
   "source": [
    "list_of_rates = [model.JtargetSS, model.validation_models[0].JtargetSS, model.validation_models[1].JtargetSS]\n",
    "print(np.std(list_of_rates))\n",
    "print(np.average(list_of_rates))"
   ]
  },
  {
   "cell_type": "markdown",
   "id": "164be078",
   "metadata": {},
   "source": [
    "#### Quick aside: looking at the theory and code behind $k_{AB}$ calculation"
   ]
  },
  {
   "cell_type": "markdown",
   "id": "0482ca6d",
   "metadata": {},
   "source": [
    "Normalizing `model.fluxMatrix` to get transition matrix, output `model.Tmatrix`.\n",
    "* row-normalize the flux matrix\n",
    "* set any states with 0 flux (i.e. sinks) to have 1.0\n",
    "* set target bins to uniformly recycle into basis bins"
   ]
  },
  {
   "cell_type": "code",
   "execution_count": 11,
   "id": "03d230d0",
   "metadata": {},
   "outputs": [],
   "source": [
    "model.get_Tmatrix()"
   ]
  },
  {
   "cell_type": "markdown",
   "id": "aaf9b34b",
   "metadata": {},
   "source": [
    "First calculate SS probability of microbins based on SS solution of the transition matrix (`model.pSS`). \n",
    "\n",
    "These are calculated as the eigenvectors of the transition matrix."
   ]
  },
  {
   "cell_type": "code",
   "execution_count": 12,
   "id": "ab3a6af2",
   "metadata": {},
   "outputs": [
    {
     "data": {
      "text/html": [
       "<pre style=\"white-space:pre;overflow-x:auto;line-height:normal;font-family:Menlo,'DejaVu Sans Mono',consolas,'Courier New',monospace\"><span style=\"color: #7fbfbf; text-decoration-color: #7fbfbf\">[06/15/23 12:11:28] </span><span style=\"color: #000080; text-decoration-color: #000080\">INFO    </span> Negative elements in pSS after normalization, attempting to correct   <a href=\"file:///ihome/lchong/dty7/Apps/msm_we/msm_we/_hamsm/_analysis.py\" target=\"_blank\"><span style=\"color: #7f7f7f; text-decoration-color: #7f7f7f\">_analysis.py</span></a><span style=\"color: #7f7f7f; text-decoration-color: #7f7f7f\">:</span><a href=\"file:///ihome/lchong/dty7/Apps/msm_we/msm_we/_hamsm/_analysis.py#237\" target=\"_blank\"><span style=\"color: #7f7f7f; text-decoration-color: #7f7f7f\">237</span></a>\n",
       "<span style=\"color: #7fbfbf; text-decoration-color: #7fbfbf\">                    </span>         with matrix power method.                                             <span style=\"color: #7f7f7f; text-decoration-color: #7f7f7f\">                </span>\n",
       "</pre>\n"
      ],
      "text/plain": [
       "\u001b[2;36m[06/15/23 12:11:28]\u001b[0m\u001b[2;36m \u001b[0m\u001b[34mINFO    \u001b[0m Negative elements in pSS after normalization, attempting to correct   \u001b]8;id=623078;file:///ihome/lchong/dty7/Apps/msm_we/msm_we/_hamsm/_analysis.py\u001b\\\u001b[2m_analysis.py\u001b[0m\u001b]8;;\u001b\\\u001b[2m:\u001b[0m\u001b]8;id=966892;file:///ihome/lchong/dty7/Apps/msm_we/msm_we/_hamsm/_analysis.py#237\u001b\\\u001b[2m237\u001b[0m\u001b]8;;\u001b\\\n",
       "\u001b[2;36m                    \u001b[0m         with matrix power method.                                             \u001b[2m                \u001b[0m\n"
      ]
     },
     "metadata": {},
     "output_type": "display_data"
    },
    {
     "data": {
      "text/html": [
       "<pre style=\"white-space:pre;overflow-x:auto;line-height:normal;font-family:Menlo,'DejaVu Sans Mono',consolas,'Courier New',monospace\"><span style=\"color: #7fbfbf; text-decoration-color: #7fbfbf\">                    </span><span style=\"color: #000080; text-decoration-color: #000080\">INFO    </span> Corrected to semidefinite pSS in <span style=\"color: #008080; text-decoration-color: #008080; font-weight: bold\">176</span> iterations                       <a href=\"file:///ihome/lchong/dty7/Apps/msm_we/msm_we/_hamsm/_analysis.py\" target=\"_blank\"><span style=\"color: #7f7f7f; text-decoration-color: #7f7f7f\">_analysis.py</span></a><span style=\"color: #7f7f7f; text-decoration-color: #7f7f7f\">:</span><a href=\"file:///ihome/lchong/dty7/Apps/msm_we/msm_we/_hamsm/_analysis.py#248\" target=\"_blank\"><span style=\"color: #7f7f7f; text-decoration-color: #7f7f7f\">248</span></a>\n",
       "</pre>\n"
      ],
      "text/plain": [
       "\u001b[2;36m                   \u001b[0m\u001b[2;36m \u001b[0m\u001b[34mINFO    \u001b[0m Corrected to semidefinite pSS in \u001b[1;36m176\u001b[0m iterations                       \u001b]8;id=395661;file:///ihome/lchong/dty7/Apps/msm_we/msm_we/_hamsm/_analysis.py\u001b\\\u001b[2m_analysis.py\u001b[0m\u001b]8;;\u001b\\\u001b[2m:\u001b[0m\u001b]8;id=933098;file:///ihome/lchong/dty7/Apps/msm_we/msm_we/_hamsm/_analysis.py#248\u001b\\\u001b[2m248\u001b[0m\u001b]8;;\u001b\\\n"
      ]
     },
     "metadata": {},
     "output_type": "display_data"
    }
   ],
   "source": [
    "model.get_steady_state_algebraic()"
   ]
  },
  {
   "cell_type": "markdown",
   "id": "9dd0ebef",
   "metadata": {},
   "source": [
    "Calculate sum of target state ss flux ($k_{AB}$) via https://www.ncbi.nlm.nih.gov/pmc/articles/PMC8045600/#FD3 equation 3:\n",
    "\n",
    "$k_{AB} = Flux(A \\rightarrow B;SS) = \\sum_{i\\notin B, j\\in B} p_{i}^{\\alpha}T_{ij}^{\\alpha}$ (haMSM)\n",
    "\n",
    "Here, $p^{\\alpha}$ is given by `model.pSS` and $T^{\\alpha}$ is given by `model.Tmatrix`.\n",
    "\n",
    "Running `model.get_steady_state_target_flux()` calculates $k_{AB}$, output `model.JtargetSS`."
   ]
  },
  {
   "cell_type": "code",
   "execution_count": 13,
   "id": "60880086",
   "metadata": {},
   "outputs": [],
   "source": [
    "model.get_steady_state_target_flux()"
   ]
  },
  {
   "cell_type": "code",
   "execution_count": 14,
   "id": "845a8bed",
   "metadata": {},
   "outputs": [
    {
     "data": {
      "text/plain": [
       "1.9954185219363416e-21"
      ]
     },
     "execution_count": 14,
     "metadata": {},
     "output_type": "execute_result"
    }
   ],
   "source": [
    "model.JtargetSS"
   ]
  },
  {
   "cell_type": "markdown",
   "id": "1aa0b9ca",
   "metadata": {},
   "source": [
    "### Getting model outputs\n",
    "---"
   ]
  },
  {
   "cell_type": "markdown",
   "id": "ad369cf3",
   "metadata": {},
   "source": [
    "Block validation output"
   ]
  },
  {
   "cell_type": "code",
   "execution_count": null,
   "id": "17dab523",
   "metadata": {},
   "outputs": [],
   "source": [
    "import weight_loop\n",
    "for idx, v_model in enumerate(model.validation_models):\n",
    "    if idx == 0:\n",
    "        continue\n",
    "    weight_loop.create_reweighted_h5_global(v_model,new_name=f'west_{idx}.h5')"
   ]
  },
  {
   "cell_type": "markdown",
   "id": "11847e05",
   "metadata": {},
   "source": [
    "Use haMSM weights to create new west.h5 file, use this updated west.h5 file for running subsequent WE simulations."
   ]
  },
  {
   "cell_type": "code",
   "execution_count": null,
   "id": "ce3f1fec",
   "metadata": {},
   "outputs": [],
   "source": [
    "import weight_loop\n",
    "\n",
    "weight_loop.create_reweighted_h5_global(model, west_name='west_nocoords.h5', copy=True, \n",
    "                                        struct_filetype='ncrst', new_name=f'west_reweight.h5', \n",
    "                                        gen_sstates=True, pdb_out=False, link_out=True, \n",
    "                                        link_path=\"/ocean/projects/mcb180038p/jml230/bdpa_wsh2029_p3_r3\",)"
   ]
  },
  {
   "cell_type": "markdown",
   "id": "13e1fdb5",
   "metadata": {},
   "source": [
    "Extract transition state (pseudo-committor of a certain range)"
   ]
  },
  {
   "cell_type": "code",
   "execution_count": null,
   "id": "b6477b07",
   "metadata": {},
   "outputs": [],
   "source": []
  }
 ],
 "metadata": {
  "kernelspec": {
   "display_name": "hamsm",
   "language": "python",
   "name": "hamsm"
  },
  "language_info": {
   "codemirror_mode": {
    "name": "ipython",
    "version": 3
   },
   "file_extension": ".py",
   "mimetype": "text/x-python",
   "name": "python",
   "nbconvert_exporter": "python",
   "pygments_lexer": "ipython3",
   "version": "3.10.11"
  }
 },
 "nbformat": 4,
 "nbformat_minor": 5
}
