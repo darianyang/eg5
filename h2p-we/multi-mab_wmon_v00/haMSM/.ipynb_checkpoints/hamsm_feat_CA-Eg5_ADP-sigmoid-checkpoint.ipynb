{
 "cells": [
  {
   "cell_type": "markdown",
   "id": "f9a01327",
   "metadata": {},
   "source": [
    "## haMSM for Eg5-ADP WT Unbinding WE Simulation Data\n",
    "---\n",
    "Using pairwise distances of ADP (370) to Eg5 CA (18-364) for featurization.\n",
    "\n",
    "Here, testing out a sigmoidal distance matrix smoothing function:\n",
    "\n",
    "$f(x) = 1 - \\frac{1}{1 + \\exp\\frac{-(x-5.0)}{0.75}}$\n",
    "\n",
    "Inspired from: Widmer *et al.*, *J. Chem. Phys.* (2023), equation 3."
   ]
  },
  {
   "cell_type": "code",
   "execution_count": 1,
   "id": "44d37f80",
   "metadata": {},
   "outputs": [],
   "source": [
    "import numpy as np\n",
    "import matplotlib.pyplot as plt\n",
    "import h5py\n",
    "import tqdm.auto"
   ]
  },
  {
   "cell_type": "code",
   "execution_count": 2,
   "id": "42a5216e",
   "metadata": {},
   "outputs": [
    {
     "data": {
      "text/plain": [
       "'/ix/lchong/dty7/eg5/h2p-we/multi-mab_wmon_v00/haMSM'"
      ]
     },
     "execution_count": 2,
     "metadata": {},
     "output_type": "execute_result"
    }
   ],
   "source": [
    "pwd"
   ]
  },
  {
   "cell_type": "code",
   "execution_count": 3,
   "id": "51c1f051",
   "metadata": {},
   "outputs": [],
   "source": [
    "from msm_we import msm_we\n",
    "import mdtraj as md"
   ]
  },
  {
   "cell_type": "code",
   "execution_count": 4,
   "id": "0e26c4a2",
   "metadata": {},
   "outputs": [
    {
     "name": "stderr",
     "output_type": "stream",
     "text": [
      "2024-02-28 14:28:37,092\tINFO worker.py:1616 -- Started a local Ray instance. View the dashboard at \u001b[1m\u001b[32m127.0.0.1:8265 \u001b[39m\u001b[22m\n"
     ]
    },
    {
     "data": {
      "text/html": [
       "<div>\n",
       "    <div style=\"margin-left: 50px;display: flex;flex-direction: row;align-items: center\">\n",
       "        <h3 style=\"color: var(--jp-ui-font-color0)\">Ray</h3>\n",
       "        <svg version=\"1.1\" id=\"ray\" width=\"3em\" viewBox=\"0 0 144.5 144.6\" style=\"margin-left: 3em;margin-right: 3em\">\n",
       "            <g id=\"layer-1\">\n",
       "                <path fill=\"#00a2e9\" class=\"st0\" d=\"M97.3,77.2c-3.8-1.1-6.2,0.9-8.3,5.1c-3.5,6.8-9.9,9.9-17.4,9.6S58,88.1,54.8,81.2c-1.4-3-3-4-6.3-4.1\n",
       "                    c-5.6-0.1-9.9,0.1-13.1,6.4c-3.8,7.6-13.6,10.2-21.8,7.6C5.2,88.4-0.4,80.5,0,71.7c0.1-8.4,5.7-15.8,13.8-18.2\n",
       "                    c8.4-2.6,17.5,0.7,22.3,8c1.3,1.9,1.3,5.2,3.6,5.6c3.9,0.6,8,0.2,12,0.2c1.8,0,1.9-1.6,2.4-2.8c3.5-7.8,9.7-11.8,18-11.9\n",
       "                    c8.2-0.1,14.4,3.9,17.8,11.4c1.3,2.8,2.9,3.6,5.7,3.3c1-0.1,2,0.1,3,0c2.8-0.5,6.4,1.7,8.1-2.7s-2.3-5.5-4.1-7.5\n",
       "                    c-5.1-5.7-10.9-10.8-16.1-16.3C84,38,81.9,37.1,78,38.3C66.7,42,56.2,35.7,53,24.1C50.3,14,57.3,2.8,67.7,0.5\n",
       "                    C78.4-2,89,4.7,91.5,15.3c0.1,0.3,0.1,0.5,0.2,0.8c0.7,3.4,0.7,6.9-0.8,9.8c-1.7,3.2-0.8,5,1.5,7.2c6.7,6.5,13.3,13,19.8,19.7\n",
       "                    c1.8,1.8,3,2.1,5.5,1.2c9.1-3.4,17.9-0.6,23.4,7c4.8,6.9,4.6,16.1-0.4,22.9c-5.4,7.2-14.2,9.9-23.1,6.5c-2.3-0.9-3.5-0.6-5.1,1.1\n",
       "                    c-6.7,6.9-13.6,13.7-20.5,20.4c-1.8,1.8-2.5,3.2-1.4,5.9c3.5,8.7,0.3,18.6-7.7,23.6c-7.9,5-18.2,3.8-24.8-2.9\n",
       "                    c-6.4-6.4-7.4-16.2-2.5-24.3c4.9-7.8,14.5-11,23.1-7.8c3,1.1,4.7,0.5,6.9-1.7C91.7,98.4,98,92.3,104.2,86c1.6-1.6,4.1-2.7,2.6-6.2\n",
       "                    c-1.4-3.3-3.8-2.5-6.2-2.6C99.8,77.2,98.9,77.2,97.3,77.2z M72.1,29.7c5.5,0.1,9.9-4.3,10-9.8c0-0.1,0-0.2,0-0.3\n",
       "                    C81.8,14,77,9.8,71.5,10.2c-5,0.3-9,4.2-9.3,9.2c-0.2,5.5,4,10.1,9.5,10.3C71.8,29.7,72,29.7,72.1,29.7z M72.3,62.3\n",
       "                    c-5.4-0.1-9.9,4.2-10.1,9.7c0,0.2,0,0.3,0,0.5c0.2,5.4,4.5,9.7,9.9,10c5.1,0.1,9.9-4.7,10.1-9.8c0.2-5.5-4-10-9.5-10.3\n",
       "                    C72.6,62.3,72.4,62.3,72.3,62.3z M115,72.5c0.1,5.4,4.5,9.7,9.8,9.9c5.6-0.2,10-4.8,10-10.4c-0.2-5.4-4.6-9.7-10-9.7\n",
       "                    c-5.3-0.1-9.8,4.2-9.9,9.5C115,72.1,115,72.3,115,72.5z M19.5,62.3c-5.4,0.1-9.8,4.4-10,9.8c-0.1,5.1,5.2,10.4,10.2,10.3\n",
       "                    c5.6-0.2,10-4.9,9.8-10.5c-0.1-5.4-4.5-9.7-9.9-9.6C19.6,62.3,19.5,62.3,19.5,62.3z M71.8,134.6c5.9,0.2,10.3-3.9,10.4-9.6\n",
       "                    c0.5-5.5-3.6-10.4-9.1-10.8c-5.5-0.5-10.4,3.6-10.8,9.1c0,0.5,0,0.9,0,1.4c-0.2,5.3,4,9.8,9.3,10\n",
       "                    C71.6,134.6,71.7,134.6,71.8,134.6z\"/>\n",
       "            </g>\n",
       "        </svg>\n",
       "        <table>\n",
       "            <tr>\n",
       "                <td style=\"text-align: left\"><b>Python version:</b></td>\n",
       "                <td style=\"text-align: left\"><b>3.10.11</b></td>\n",
       "            </tr>\n",
       "            <tr>\n",
       "                <td style=\"text-align: left\"><b>Ray version:</b></td>\n",
       "                <td style=\"text-align: left\"><b> 2.4.0</b></td>\n",
       "            </tr>\n",
       "            <tr>\n",
       "    <td style=\"text-align: left\"><b>Dashboard:</b></td>\n",
       "    <td style=\"text-align: left\"><b><a href=\"http://127.0.0.1:8265\" target=\"_blank\">http://127.0.0.1:8265</a></b></td>\n",
       "</tr>\n",
       "\n",
       "        </table>\n",
       "    </div>\n",
       "</div>\n"
      ],
      "text/plain": [
       "RayContext(dashboard_url='127.0.0.1:8265', python_version='3.10.11', ray_version='2.4.0', ray_commit='4479f66d4db967d3c9dd0af2572061276ba926ba', address_info={'node_ip_address': '10.201.3.168', 'raylet_ip_address': '10.201.3.168', 'redis_address': None, 'object_store_address': '/scratch/slurm-14075516/ray/session_2024-02-28_14-28-29_995968_19195/sockets/plasma_store', 'raylet_socket_name': '/scratch/slurm-14075516/ray/session_2024-02-28_14-28-29_995968_19195/sockets/raylet', 'webui_url': '127.0.0.1:8265', 'session_dir': '/scratch/slurm-14075516/ray/session_2024-02-28_14-28-29_995968_19195', 'metrics_export_port': 65460, 'gcs_address': '10.201.3.168:60438', 'address': '10.201.3.168:60438', 'dashboard_agent_listen_port': 52365, 'node_id': 'c9085c543ca5627f39fa6d63f840e3f1e7da4f97adfb95ab6490fdde'})"
      ]
     },
     "execution_count": 4,
     "metadata": {},
     "output_type": "execute_result"
    }
   ],
   "source": [
    "import ray\n",
    "ray.init(num_cpus=8)\n",
    "#ray.init()"
   ]
  },
  {
   "cell_type": "code",
   "execution_count": 5,
   "id": "59a51e6c",
   "metadata": {},
   "outputs": [],
   "source": [
    "#ray.shutdown()"
   ]
  },
  {
   "cell_type": "markdown",
   "id": "847a6ce9",
   "metadata": {},
   "source": [
    "Model Name"
   ]
  },
  {
   "cell_type": "code",
   "execution_count": 6,
   "id": "5a1f2135",
   "metadata": {},
   "outputs": [],
   "source": [
    "model_name = 'Eg5_MON_Eg5-CA_18-364_ADP_sigmoid'"
   ]
  },
  {
   "cell_type": "code",
   "execution_count": 7,
   "id": "09a47f09",
   "metadata": {},
   "outputs": [],
   "source": [
    "import logging\n",
    "from rich.logging import RichHandler\n",
    "#logging.basicConfig(filename=\"msm_we.log\", encoding=\"utf-8\", level=logging.DEBUG)\n",
    "log = logging.getLogger()\n",
    "log.addHandler(RichHandler())\n",
    "\n",
    "msm_log = logging.getLogger(\"msm_we.msm_we\")"
   ]
  },
  {
   "cell_type": "code",
   "execution_count": 8,
   "id": "2bfdb16d",
   "metadata": {},
   "outputs": [],
   "source": [
    "def processCoordinates(self, coords):\n",
    "    log.debug(\"Processing coordinates\")\n",
    "\n",
    "    if self.dimReduceMethod == \"none\":\n",
    "        xt = md.Trajectory(xyz=coords, topology=None)\n",
    "        indCA = self.reference_structure.topology.select(\"name CA\")\n",
    "        indAlign = self.reference_structure.topology.select(\"name CA\")\n",
    "        x2 = xt.superpose(self.reference_structure,atom_indices=indAlign)\n",
    "        coords = x2._xyz.astype('float64')\n",
    "        nA = np.shape(indCA)[0]\n",
    "        nC = np.shape(coords)[0]\n",
    "        new_coords = coords[:,tuple(indCA),:]\n",
    "        #new_coords = numpy.double(new_coords)\n",
    "        #new_coords = coords[:, :923, :]\n",
    "        data = new_coords.reshape(nC, 3 * nA)\n",
    "        model.nAtoms = nA\n",
    "        return data\n",
    "\n",
    "    if self.dimReduceMethod == \"pca\" or self.dimReduceMethod == \"vamp\":\n",
    "\n",
    "        # Dimensionality reduction\n",
    "        \n",
    "        xt = md.Trajectory(xyz=coords, topology=None)\n",
    "        # ADP heavy atoms\n",
    "        indADP = self.reference_structure.topology.select(\"not type H and resid 370\")\n",
    "        # CA atoms of loop 5\n",
    "        indCA = self.reference_structure.topology.select(\"name CA and resid 116 to 133\")\n",
    "        # CA atoms of Eg5 (non-flexible termini)\n",
    "        #indCA = self.reference_structure.topology.select(\"name CA and resid 18 to 364\")\n",
    "        # calc distance matrix\n",
    "        pair1, pair2 = np.meshgrid(indADP, indCA, indexing=\"xy\")\n",
    "        \n",
    "        ### for 2D distance matrices ###\n",
    "        #pair1, pair2 = np.meshgrid(indCA, indCA, indexing=\"xy\")\n",
    "        #indUT = np.where(np.triu(pair1, k=1) > 0)\n",
    "        #pairs = np.transpose(np.array([pair1[indUT], pair2[indUT]])).astype(int)\n",
    "        #dist = md.compute_distances(xt, pairs, periodic=True, opt=True)\n",
    "        \n",
    "        ### special for 1D distance matrix of ADP-Eg5 ###\n",
    "        # make pair array\n",
    "        pairs = np.array((pair1, pair2))\n",
    "        # reduce dim to 2\n",
    "        pairs = pairs.squeeze()\n",
    "        # convert to shape (n_pairs, 2) where row items are the atom index pair vals\n",
    "        pairs = np.rot90(pairs, k=-1)\n",
    "        indUT = np.where(np.triu(pair1, k=1) > 0)\n",
    "        pairs = np.transpose(np.array([pair1[indUT], pair2[indUT]])).astype(int)\n",
    "        dist = md.compute_distances(xt, pairs, periodic=True, opt=True)\n",
    "\n",
    "        return dist\n",
    "\n",
    "# Monkey-patch, i.e. replace the placeholder processCoordinates method in msm_we.modelWE\n",
    "msm_we.modelWE.processCoordinates = processCoordinates"
   ]
  },
  {
   "cell_type": "markdown",
   "id": "bfb8f611",
   "metadata": {},
   "source": [
    "Testing different `processCoordinates` code. Needs to be adjusted to handle non-2D distance matrix type data."
   ]
  },
  {
   "cell_type": "code",
   "execution_count": 66,
   "id": "94398019",
   "metadata": {},
   "outputs": [],
   "source": [
    "xt = md.load(\"1x88_dry.pdb\", top=\"1x88_dry.pdb\")\n",
    "# xt = md.Trajectory(xyz=coords, topology=None)\n",
    "# ADP heavy atoms\n",
    "indADP = xt.topology.select(\"not type H and resid 370\")\n",
    "# CA atoms of Eg5 (non-flexible termini)\n",
    "indCA = xt.topology.select(\"name CA and resid 18 to 364\")\n",
    "\n",
    "pair1, pair2 = np.meshgrid(indADP, indCA, indexing=\"xy\")\n",
    "# pair1, pair2 = np.meshgrid(indCA, indCA, indexing=\"xy\")\n",
    "\n",
    "# make pair array\n",
    "pairs = np.array((pair1, pair2))\n",
    "# reduce dim to 2\n",
    "pairs = pairs.squeeze()\n",
    "# convert to shape (n_pairs, 2) where row items are the atom index pair vals\n",
    "pairs = np.rot90(pairs, k=-1)\n",
    "indUT = np.where(np.triu(pair1, k=1) > 0)\n",
    "pairs = np.transpose(np.array([pair1[indUT], pair2[indUT]])).astype(int)\n",
    "dist = md.compute_distances(xt, pairs, periodic=True, opt=True)"
   ]
  },
  {
   "cell_type": "markdown",
   "id": "dd2ad058",
   "metadata": {},
   "source": [
    "Applying sigmoidal transform:"
   ]
  },
  {
   "cell_type": "markdown",
   "id": "cd1f57ec",
   "metadata": {},
   "source": [
    "Trying it with 10A cutoff since using ADP to L5 distances."
   ]
  },
  {
   "cell_type": "code",
   "execution_count": 8,
   "id": "0c416ec2",
   "metadata": {},
   "outputs": [],
   "source": [
    "def sigmoidal(x, cutoff=10):\n",
    "    \"\"\"\n",
    "    $f(x) = 1 - \\frac{1}{1 + \\exp\\frac{-(x-cutoff)}{0.75}}$\n",
    "    \n",
    "    Parameters\n",
    "    ----------\n",
    "    x : input float\n",
    "    \n",
    "    Returns\n",
    "    -------\n",
    "    f(x) : sigmoidal function transformed float\n",
    "    \"\"\"\n",
    "    return 1 - (1 / (1 + np.exp(-(x - cutoff) / 0.75)))"
   ]
  },
  {
   "cell_type": "code",
   "execution_count": 9,
   "id": "5df78484",
   "metadata": {},
   "outputs": [],
   "source": [
    "# vectorize sigmoid function to apply to entire dmat\n",
    "# this should work to apply to multi-dimensional arrays\n",
    "vf = np.vectorize(sigmoidal)"
   ]
  },
  {
   "cell_type": "code",
   "execution_count": 10,
   "id": "7a8f5adc",
   "metadata": {},
   "outputs": [],
   "source": [
    "def processCoordinates(self, coords):\n",
    "    log.debug(\"Processing coordinates\")\n",
    "\n",
    "    if self.dimReduceMethod == \"none\":\n",
    "        xt = md.Trajectory(xyz=coords, topology=None)\n",
    "        indCA = self.reference_structure.topology.select(\"name CA\")\n",
    "        indAlign = self.reference_structure.topology.select(\"name CA\")\n",
    "        x2 = xt.superpose(self.reference_structure,atom_indices=indAlign)\n",
    "        coords = x2._xyz.astype('float64')\n",
    "        nA = np.shape(indCA)[0]\n",
    "        nC = np.shape(coords)[0]\n",
    "        new_coords = coords[:,tuple(indCA),:]\n",
    "        #new_coords = numpy.double(new_coords)\n",
    "        #new_coords = coords[:, :923, :]\n",
    "        data = new_coords.reshape(nC, 3 * nA)\n",
    "        model.nAtoms = nA\n",
    "        return data\n",
    "\n",
    "    if self.dimReduceMethod == \"pca\" or self.dimReduceMethod == \"vamp\":\n",
    "\n",
    "        # Dimensionality reduction\n",
    "        \n",
    "        xt = md.Trajectory(xyz=coords, topology=None)\n",
    "        # ADP heavy atoms\n",
    "        indADP = self.reference_structure.topology.select(\"not type H and resid 370\")\n",
    "        # CA atoms of loop 5\n",
    "        indCA = self.reference_structure.topology.select(\"name CA and resid 116 to 133\")\n",
    "        # CA atoms of Eg5 (non-flexible termini)\n",
    "        #indCA = self.reference_structure.topology.select(\"name CA and resid 18 to 364\")\n",
    "        # calc distance matrix\n",
    "        pair1, pair2 = np.meshgrid(indADP, indCA, indexing=\"xy\")\n",
    "        \n",
    "        ### for 2D distance matrices ###\n",
    "        #pair1, pair2 = np.meshgrid(indCA, indCA, indexing=\"xy\")\n",
    "        #indUT = np.where(np.triu(pair1, k=1) > 0)\n",
    "        #pairs = np.transpose(np.array([pair1[indUT], pair2[indUT]])).astype(int)\n",
    "        #dist = md.compute_distances(xt, pairs, periodic=True, opt=True)\n",
    "        \n",
    "        ### special for 1D distance matrix of ADP-Eg5 ###\n",
    "        # make pair array\n",
    "        pairs = np.array((pair1, pair2))\n",
    "        # reduce dim to 2\n",
    "        pairs = pairs.squeeze()\n",
    "        pairs = pairs.squeeze()\n",
    "        log.info(\"PAIRS NDIM: \", pairs.ndim)\n",
    "        log.info(\"pairs\")\n",
    "        # convert to shape (n_pairs, 2) where row items are the atom index pair vals\n",
    "        pairs = np.rot90(pairs, k=-1)\n",
    "        indUT = np.where(np.triu(pair1, k=1) > 0)\n",
    "        pairs = np.transpose(np.array([pair1[indUT], pair2[indUT]])).astype(int)\n",
    "        dist = md.compute_distances(xt, pairs, periodic=True, opt=True)\n",
    "\n",
    "        return vf(dist)\n",
    "\n",
    "# Monkey-patch, i.e. replace the placeholder processCoordinates method in msm_we.modelWE\n",
    "msm_we.modelWE.processCoordinates = processCoordinates"
   ]
  },
  {
   "cell_type": "markdown",
   "id": "3c2f05c5",
   "metadata": {},
   "source": [
    "### Building block-wise haMSM\n",
    "---"
   ]
  },
  {
   "cell_type": "code",
   "execution_count": 11,
   "id": "575f1642",
   "metadata": {},
   "outputs": [
    {
     "name": "stdout",
     "output_type": "stream",
     "text": [
      "unbound 12 1 6.1 6.1\r\n"
     ]
    }
   ],
   "source": [
    "cat ../tstate.file"
   ]
  },
  {
   "cell_type": "markdown",
   "id": "36d77cae",
   "metadata": {},
   "source": [
    "Create the model object and initialize it"
   ]
  },
  {
   "cell_type": "code",
   "execution_count": 12,
   "id": "a2e2c5d9",
   "metadata": {},
   "outputs": [],
   "source": [
    "model =  msm_we.modelWE()\n",
    "model.initialize(\n",
    "    fileSpecifier=['west.h5'], \n",
    "    refPDBfile = '1x88_dry.pdb',\n",
    "    modelName = model_name,\n",
    "    basis_pcoord_bounds  = [[0,10], [100,np.inf], [0,6], [0,6]],\n",
    "    target_pcoord_bounds = [[12,np.inf], [-np.inf,100], [6,np.inf], [6,np.inf]],\n",
    "    dim_reduce_method = 'pca',\n",
    "    tau = 50e-12,\n",
    "    pcoord_ndim = 4,\n",
    ")"
   ]
  },
  {
   "cell_type": "markdown",
   "id": "af2d5e84",
   "metadata": {},
   "source": [
    "Load all coords and pcoords up to the last iteration you want to use for analysis with"
   ]
  },
  {
   "cell_type": "code",
   "execution_count": null,
   "id": "97b5a69c",
   "metadata": {},
   "outputs": [],
   "source": [
    "model.get_iterations()\n",
    "# use up to n last_iter iterations\n",
    "model.get_coordSet(last_iter=420, streaming=True)"
   ]
  },
  {
   "cell_type": "markdown",
   "id": "ecfcebd6",
   "metadata": {},
   "source": [
    "Prepare dimensionality reduction transformer by running"
   ]
  },
  {
   "cell_type": "code",
   "execution_count": null,
   "id": "fa49a686",
   "metadata": {
    "scrolled": true
   },
   "outputs": [],
   "source": [
    "model.dimReduce()"
   ]
  },
  {
   "cell_type": "code",
   "execution_count": 9,
   "id": "e92d94a5",
   "metadata": {},
   "outputs": [],
   "source": [
    "# For loading the clustered model data\n",
    "from pickle import load\n",
    "with open(f'{model_name}_postPCA.pickle', 'rb') as f:\n",
    "    model = load(f)"
   ]
  },
  {
   "cell_type": "code",
   "execution_count": null,
   "id": "e91bf62e",
   "metadata": {},
   "outputs": [],
   "source": [
    "# For saving the clustered model data\n",
    "from pickle import dump\n",
    "with open(f'{model_name}_postPCA.pickle', 'wb') as f:\n",
    "    dump(model, f)"
   ]
  },
  {
   "cell_type": "markdown",
   "id": "587355ab",
   "metadata": {},
   "source": [
    "Get WE bin mapper for cluster stratification (using updated bins, no 35 partition in pcoord 0)"
   ]
  },
  {
   "cell_type": "code",
   "execution_count": null,
   "id": "837c22f2",
   "metadata": {},
   "outputs": [],
   "source": [
    "import westpa\n",
    "from westpa.core.binning import RectilinearBinMapper\n",
    "\n",
    "# 1) ADP-Mg RMSD\n",
    "# 2) ADP-Mg and Eg5 IntEne\n",
    "# 3) ADP and Eg5 min dist\n",
    "# 4) ADP-PO4 and Eg5 min dist\n",
    "new_mapper = RectilinearBinMapper([[0, 5, 7, 9, 11, 13, 15, \n",
    "                                    17, 19, 22, 26, 30, np.inf],\n",
    "                                   [-np.inf, -125, -75, -25, \n",
    "                                    25, 75, 125, 175, 225, 275, np.inf],\n",
    "                                   [0, 3, 6, np.inf],\n",
    "                                   [0, 6, np.inf],\n",
    "                                  ])"
   ]
  },
  {
   "cell_type": "markdown",
   "id": "b706fb43",
   "metadata": {},
   "source": [
    "Cluster and store original clustering"
   ]
  },
  {
   "cell_type": "code",
   "execution_count": null,
   "id": "42dbbf3b",
   "metadata": {
    "scrolled": true
   },
   "outputs": [],
   "source": [
    "model.cluster_coordinates(n_clusters = 10, \n",
    "                          stratified = True,\n",
    "                          tol = 1e-5, \n",
    "                          streaming = True, \n",
    "                          use_ray = True, \n",
    "                          first_cluster_iter = 100,\n",
    "                          user_bin_mapper = new_mapper, \n",
    "                          store_validation_model = True)"
   ]
  },
  {
   "cell_type": "code",
   "execution_count": 14,
   "id": "88c7785e",
   "metadata": {},
   "outputs": [],
   "source": [
    "# For loading the clustered model data\n",
    "from pickle import load\n",
    "with open(f'{model_name}_4Dmap.pickle', 'rb') as f:\n",
    "#with open('test_570-580_4Dmap.pickle', 'rb') as f:\n",
    "    model = load(f)"
   ]
  },
  {
   "cell_type": "code",
   "execution_count": null,
   "id": "9a9298b2",
   "metadata": {},
   "outputs": [],
   "source": [
    "# For saving the clustered model data\n",
    "from pickle import dump\n",
    "with open(f'{model_name}_4Dmap.pickle', 'wb') as f:\n",
    "#with open('test_570-580_4Dmap.pickle', 'wb') as f:\n",
    "    dump(model, f)"
   ]
  },
  {
   "cell_type": "code",
   "execution_count": null,
   "id": "e1764e57",
   "metadata": {},
   "outputs": [],
   "source": [
    "model.n_clusters"
   ]
  },
  {
   "cell_type": "markdown",
   "id": "f50a302a",
   "metadata": {},
   "source": [
    "Create the flux matrix with"
   ]
  },
  {
   "cell_type": "code",
   "execution_count": null,
   "id": "bbc13c86",
   "metadata": {
    "scrolled": true
   },
   "outputs": [],
   "source": [
    "model.get_fluxMatrix(n_lag=0, first_iter=100, last_iter=420, use_ray=True)"
   ]
  },
  {
   "cell_type": "code",
   "execution_count": null,
   "id": "c1d069de",
   "metadata": {},
   "outputs": [],
   "source": [
    "model.fluxMatrix"
   ]
  },
  {
   "cell_type": "code",
   "execution_count": 8,
   "id": "bdcadac1",
   "metadata": {},
   "outputs": [],
   "source": [
    "# For loading the clustered model data\n",
    "from pickle import load\n",
    "with open(f'{model_name}_4Dmap_postfluxget.pickle', 'rb') as f:\n",
    "    model = load(f)"
   ]
  },
  {
   "cell_type": "code",
   "execution_count": null,
   "id": "d6256ce8",
   "metadata": {},
   "outputs": [],
   "source": [
    "# For saving the clustered model data\n",
    "from pickle import dump\n",
    "with open(f'{model_name}_4Dmap_postfluxget.pickle', 'wb') as f:\n",
    "    dump(model, f)"
   ]
  },
  {
   "cell_type": "markdown",
   "id": "2e4760a1",
   "metadata": {},
   "source": [
    "Clean disconnected states and sort the flux matrix with"
   ]
  },
  {
   "cell_type": "code",
   "execution_count": null,
   "id": "fcfa3aaa",
   "metadata": {},
   "outputs": [],
   "source": [
    "# optionally could adjust this cluster class attribute for pcoord sorting selection (default=0)\n",
    "#model.pcoord_to_use = 0"
   ]
  },
  {
   "cell_type": "code",
   "execution_count": null,
   "id": "ec8e98f4",
   "metadata": {
    "scrolled": false
   },
   "outputs": [],
   "source": [
    "model.organize_fluxMatrix(use_ray=True)"
   ]
  },
  {
   "cell_type": "code",
   "execution_count": null,
   "id": "13234a3a",
   "metadata": {
    "scrolled": true
   },
   "outputs": [],
   "source": [
    "model.fluxMatrix"
   ]
  },
  {
   "cell_type": "code",
   "execution_count": 7,
   "id": "96549d99",
   "metadata": {},
   "outputs": [],
   "source": [
    "# For loading the clustered model data\n",
    "from pickle import load\n",
    "with open(f'{model_name}_4Dmap_postfluxorg.pickle', 'rb') as f:\n",
    "    model = load(f)"
   ]
  },
  {
   "cell_type": "code",
   "execution_count": null,
   "id": "85ac8bcc",
   "metadata": {},
   "outputs": [],
   "source": [
    "# For saving the clustered model data\n",
    "from pickle import dump\n",
    "with open(f'{model_name}_4Dmap_postfluxorg.pickle', 'wb') as f:\n",
    "    dump(model, f)"
   ]
  },
  {
   "cell_type": "markdown",
   "id": "08abeecb",
   "metadata": {},
   "source": [
    "### Begin Model Analysis\n",
    "---"
   ]
  },
  {
   "cell_type": "markdown",
   "id": "9117c861",
   "metadata": {},
   "source": [
    "Normalize the flux matrix to produce a transition matrix with"
   ]
  },
  {
   "cell_type": "code",
   "execution_count": null,
   "id": "109fbbf8",
   "metadata": {
    "scrolled": true
   },
   "outputs": [],
   "source": [
    "model.get_Tmatrix()"
   ]
  },
  {
   "cell_type": "code",
   "execution_count": null,
   "id": "c5fb64a5",
   "metadata": {},
   "outputs": [],
   "source": [
    "model.Tmatrix"
   ]
  },
  {
   "cell_type": "markdown",
   "id": "c919fbca",
   "metadata": {},
   "source": [
    "Obtain steady-state distribution with"
   ]
  },
  {
   "cell_type": "code",
   "execution_count": null,
   "id": "263b0822",
   "metadata": {},
   "outputs": [],
   "source": [
    "model.get_steady_state()"
   ]
  },
  {
   "cell_type": "code",
   "execution_count": null,
   "id": "341a5e9e",
   "metadata": {},
   "outputs": [],
   "source": [
    "model.update_cluster_structures()"
   ]
  },
  {
   "cell_type": "code",
   "execution_count": null,
   "id": "84549f2a",
   "metadata": {},
   "outputs": [],
   "source": [
    "model.get_steady_state_target_flux()\n",
    "\n",
    "print(f'Steady-state target rate is {model.JtargetSS:.2e}')"
   ]
  },
  {
   "cell_type": "code",
   "execution_count": 8,
   "id": "30c966ad",
   "metadata": {},
   "outputs": [],
   "source": [
    "# For loading the clustered model data\n",
    "from pickle import load\n",
    "with open(f'{model_name}_4Dmap_postsstflux.pickle', 'rb') as f:\n",
    "    model = load(f)"
   ]
  },
  {
   "cell_type": "code",
   "execution_count": null,
   "id": "04e4d685",
   "metadata": {},
   "outputs": [],
   "source": [
    "# For saving the clustered model data\n",
    "from pickle import dump\n",
    "with open(f'{model_name}_4Dmap_postsstflux.pickle', 'wb') as f:\n",
    "    dump(model, f)"
   ]
  },
  {
   "cell_type": "markdown",
   "id": "717f22e9",
   "metadata": {},
   "source": [
    "### Begin Model Validation\n",
    "---"
   ]
  },
  {
   "cell_type": "code",
   "execution_count": null,
   "id": "d12b2edf",
   "metadata": {},
   "outputs": [],
   "source": [
    "# shape: clusters, pcoords, min/max\n",
    "model.targetRMSD_minmax.shape"
   ]
  },
  {
   "cell_type": "code",
   "execution_count": null,
   "id": "8bd4b7d6",
   "metadata": {},
   "outputs": [],
   "source": [
    "# For checking just in case your bins are not good.\n",
    "array = model.targetRMSD_minmax[:,0,:]\n",
    "print(array[23],array[50],array[132],array[142],array[148],array[151])"
   ]
  },
  {
   "cell_type": "code",
   "execution_count": null,
   "id": "8f1f1932",
   "metadata": {
    "scrolled": true
   },
   "outputs": [],
   "source": [
    "# one issue here: each pcoord dim is the same values as pcoord 0 \n",
    "# (TODO: update code for grabbing all pcoords)\n",
    "model.targetRMSD_minmax[0]"
   ]
  },
  {
   "cell_type": "code",
   "execution_count": null,
   "id": "61e4af65",
   "metadata": {},
   "outputs": [],
   "source": [
    "model.targetRMSD_minmax[:,0,:].shape"
   ]
  },
  {
   "cell_type": "code",
   "execution_count": null,
   "id": "a9666e05",
   "metadata": {
    "scrolled": false
   },
   "outputs": [],
   "source": [
    "def plot_clusters(pcoord_to_use=0, ax=None):\n",
    "    \"\"\"\n",
    "    MSM Bin coverage plot with sorting based on specified pcoord.\n",
    "    \"\"\"\n",
    "    # sort by pcoord n\n",
    "    model.pcoord_to_use = pcoord_to_use\n",
    "    model.get_cluster_centers()\n",
    "    #model.update_sorted_cluster_centers()\n",
    "\n",
    "    # isolate pcoord min max array\n",
    "    array = model.targetRMSD_minmax[:,pcoord_to_use,:]\n",
    "\n",
    "    # set up plot objects\n",
    "    if ax is None:\n",
    "        fig, ax = plt.subplots(figsize=(10,5))\n",
    "    else:\n",
    "        fig = plt.gcf()\n",
    "    \n",
    "    # len-2 because the last two are NaN (eq simulation; target/basis states)\n",
    "    for idx in range(0,len(array)):\n",
    "        ax.errorbar(array[idx,0], idx,xerr=[[0],[array[idx,1]-array[idx,0]]])\n",
    "        #ax.plot(idx, array[idx,1], 'ro')\n",
    "    ax.set_ylabel('cluster number')\n",
    "    ax.set_xlabel(f'Pcoord {pcoord_to_use}')\n",
    "    ax.set_title('MSM Bins Coverage')"
   ]
  },
  {
   "cell_type": "code",
   "execution_count": null,
   "id": "4f8d85ec",
   "metadata": {},
   "outputs": [],
   "source": [
    "plot_clusters(0)"
   ]
  },
  {
   "cell_type": "code",
   "execution_count": null,
   "id": "40187b08",
   "metadata": {
    "scrolled": true
   },
   "outputs": [],
   "source": [
    "# making a 4 panel plot for each pcoord dim\n",
    "fig, ax = plt.subplots(nrows=2, ncols=2, sharey=True, figsize=(10,5))\n",
    "for i, panel in enumerate(ax.reshape(-1)):\n",
    "    plot_clusters(i, panel)\n",
    "    model.draw_basis_target_boundaries(panel, i)\n",
    "ax[0,1].set_ylabel(\"\")\n",
    "ax[1,1].set_ylabel(\"\")\n",
    "ax[1,0].set_title(\"\")\n",
    "ax[1,1].set_title(\"\")\n",
    "plt.subplots_adjust(hspace=0.35)"
   ]
  },
  {
   "cell_type": "markdown",
   "id": "02b1ea07",
   "metadata": {},
   "source": [
    "Had to adjust `_plotting.py` before `plot_flux` worked:\n",
    "``` Python\n",
    "322             binCenters[_model.indTargets] = _model.target_bin_centers[pcoord_to_use]\n",
    "323             binCenters[_model.indBasis] = _model.basis_bin_centers[pcoord_to_use]\n",
    "```"
   ]
  },
  {
   "cell_type": "code",
   "execution_count": null,
   "id": "4d570a9a",
   "metadata": {
    "scrolled": false
   },
   "outputs": [],
   "source": [
    "model.plot_flux(suppress_validation=True, pcoord_to_use=1)"
   ]
  },
  {
   "cell_type": "code",
   "execution_count": null,
   "id": "9ffc3336",
   "metadata": {},
   "outputs": [],
   "source": [
    "# making a 4 panel flux vs pcoord plot for each pcoord dim\n",
    "fig, ax = plt.subplots(nrows=2, ncols=2, sharey=True, figsize=(10,5))\n",
    "for i, panel in enumerate(ax.reshape(-1)):\n",
    "    model.plot_flux(suppress_validation=True, pcoord_to_use=i, ax=panel)\n",
    "    \n",
    "plt.subplots_adjust(hspace=0.35)"
   ]
  },
  {
   "cell_type": "code",
   "execution_count": null,
   "id": "f0c84d5b",
   "metadata": {
    "scrolled": true
   },
   "outputs": [],
   "source": [
    "model.get_committor()"
   ]
  },
  {
   "cell_type": "code",
   "execution_count": null,
   "id": "1694dd6c",
   "metadata": {},
   "outputs": [],
   "source": [
    "# optionally could adjust this cluster class attribute for pcoord to use (default=0)\n",
    "model.pcoord_to_use = 0"
   ]
  },
  {
   "cell_type": "code",
   "execution_count": null,
   "id": "bf19ee50",
   "metadata": {
    "scrolled": true
   },
   "outputs": [],
   "source": [
    "model.plot_committor()"
   ]
  },
  {
   "cell_type": "code",
   "execution_count": null,
   "id": "9a07b536",
   "metadata": {},
   "outputs": [],
   "source": [
    "# making a 4 panel committor plot for each pcoord dim\n",
    "fig, ax = plt.subplots(nrows=2, ncols=2, sharey=True, figsize=(10,5))\n",
    "for i, panel in enumerate(ax.reshape(-1)):\n",
    "    panel.scatter(model.targetRMSD_centers[:,i], model.q, s=15, c='k')\n",
    "    panel.set_xlabel(f\"pcoord {i}\")\n",
    "    model.draw_basis_target_boundaries(panel, i)\n",
    "ax[0,0].set_ylabel(\"pseudocommittor to target\")\n",
    "ax[1,0].set_ylabel(\"pseudocommittor to target\")\n",
    "fig.subplots_adjust(hspace=0.35)\n",
    "#plt.yscale('log')"
   ]
  },
  {
   "cell_type": "code",
   "execution_count": null,
   "id": "0b8b7ec0",
   "metadata": {},
   "outputs": [],
   "source": [
    "# first 3 center datapoints using all pcoord dims\n",
    "model.targetRMSD_centers[:3,:]"
   ]
  },
  {
   "cell_type": "code",
   "execution_count": null,
   "id": "e33d79bc",
   "metadata": {},
   "outputs": [],
   "source": [
    "# q is committor array per cluster\n",
    "model.q.shape"
   ]
  },
  {
   "cell_type": "code",
   "execution_count": null,
   "id": "015d3aa8",
   "metadata": {},
   "outputs": [],
   "source": [
    "model.plot_flux_committor(suppress_validation=True)\n",
    "#plt.gca().set_yscale('linear')\n",
    "#plt.savefig('flux_pseudo_uneven_bin-restart34-t2-c18.png')"
   ]
  },
  {
   "cell_type": "code",
   "execution_count": null,
   "id": "3167ff62",
   "metadata": {
    "scrolled": true
   },
   "outputs": [],
   "source": [
    "# For loading the clustered model data\n",
    "from pickle import load\n",
    "with open(f'{model_name}_4Dmap_postvalidation.pickle', 'rb') as f:\n",
    "    model = load(f)"
   ]
  },
  {
   "cell_type": "code",
   "execution_count": null,
   "id": "986eddfc",
   "metadata": {},
   "outputs": [],
   "source": [
    "# For saving the clustered model data\n",
    "from pickle import dump\n",
    "with open(f'{model_name}_4Dmap_postvalidation.pickle', 'wb') as f:\n",
    "    dump(model, f)"
   ]
  },
  {
   "cell_type": "markdown",
   "id": "e78ed940",
   "metadata": {},
   "source": [
    "### Post-featurization Steps: Block Validation\n",
    "---"
   ]
  },
  {
   "cell_type": "code",
   "execution_count": null,
   "id": "bdd311e5",
   "metadata": {
    "scrolled": true
   },
   "outputs": [],
   "source": [
    "model.do_block_validation(cross_validation_groups=2, cross_validation_blocks=8, use_ray=True)"
   ]
  },
  {
   "cell_type": "code",
   "execution_count": null,
   "id": "5a8df941",
   "metadata": {},
   "outputs": [],
   "source": [
    "# plot again with cross validated model\n",
    "model.plot_flux_committor()"
   ]
  },
  {
   "cell_type": "code",
   "execution_count": 8,
   "id": "e8a2d8eb",
   "metadata": {},
   "outputs": [],
   "source": [
    "# For loading the clustered model data\n",
    "from pickle import load\n",
    "with open(f'{model_name}_4Dmap_postblockvalidation.pickle', 'rb') as f:\n",
    "    model = load(f)"
   ]
  },
  {
   "cell_type": "code",
   "execution_count": null,
   "id": "07328c29",
   "metadata": {},
   "outputs": [],
   "source": [
    "# For saving the clustered model data\n",
    "from pickle import dump\n",
    "with open(f'{model_name}_4Dmap_postblockvalidation.pickle', 'wb') as f:\n",
    "    dump(model, f)"
   ]
  },
  {
   "cell_type": "markdown",
   "id": "bb1cb209",
   "metadata": {},
   "source": [
    "#### Block validation rates"
   ]
  },
  {
   "cell_type": "code",
   "execution_count": null,
   "id": "99d0ea31",
   "metadata": {},
   "outputs": [],
   "source": [
    "for i in range(len(model.validation_models)):\n",
    "    model.validation_models[i].get_steady_state_target_flux()\n",
    "\n",
    "    print(f'Steady-state target rate is {model.validation_models[i].JtargetSS:.2e} for model {i}')"
   ]
  },
  {
   "cell_type": "code",
   "execution_count": null,
   "id": "6458dc08",
   "metadata": {
    "scrolled": true
   },
   "outputs": [],
   "source": [
    "list_of_rates = [model.JtargetSS, model.validation_models[0].JtargetSS, model.validation_models[1].JtargetSS]\n",
    "print(np.std(list_of_rates))\n",
    "print(np.average(list_of_rates))"
   ]
  },
  {
   "cell_type": "markdown",
   "id": "164be078",
   "metadata": {},
   "source": [
    "#### Quick aside: looking at the theory and code behind $k_{AB}$ calculation"
   ]
  },
  {
   "cell_type": "markdown",
   "id": "0482ca6d",
   "metadata": {},
   "source": [
    "Normalizing `model.fluxMatrix` to get transition matrix, output `model.Tmatrix`.\n",
    "* row-normalize the flux matrix\n",
    "* set any states with 0 flux (i.e. sinks) to have 1.0\n",
    "* set target bins to uniformly recycle into basis bins"
   ]
  },
  {
   "cell_type": "code",
   "execution_count": 11,
   "id": "03d230d0",
   "metadata": {},
   "outputs": [],
   "source": [
    "model.get_Tmatrix()"
   ]
  },
  {
   "cell_type": "markdown",
   "id": "aaf9b34b",
   "metadata": {},
   "source": [
    "First calculate SS probability of microbins based on SS solution of the transition matrix (`model.pSS`). \n",
    "\n",
    "These are calculated as the eigenvectors of the transition matrix."
   ]
  },
  {
   "cell_type": "code",
   "execution_count": 12,
   "id": "ab3a6af2",
   "metadata": {},
   "outputs": [
    {
     "data": {
      "text/html": [
       "<pre style=\"white-space:pre;overflow-x:auto;line-height:normal;font-family:Menlo,'DejaVu Sans Mono',consolas,'Courier New',monospace\"><span style=\"color: #7fbfbf; text-decoration-color: #7fbfbf\">[06/15/23 12:11:28] </span><span style=\"color: #000080; text-decoration-color: #000080\">INFO    </span> Negative elements in pSS after normalization, attempting to correct   <a href=\"file:///ihome/lchong/dty7/Apps/msm_we/msm_we/_hamsm/_analysis.py\" target=\"_blank\"><span style=\"color: #7f7f7f; text-decoration-color: #7f7f7f\">_analysis.py</span></a><span style=\"color: #7f7f7f; text-decoration-color: #7f7f7f\">:</span><a href=\"file:///ihome/lchong/dty7/Apps/msm_we/msm_we/_hamsm/_analysis.py#237\" target=\"_blank\"><span style=\"color: #7f7f7f; text-decoration-color: #7f7f7f\">237</span></a>\n",
       "<span style=\"color: #7fbfbf; text-decoration-color: #7fbfbf\">                    </span>         with matrix power method.                                             <span style=\"color: #7f7f7f; text-decoration-color: #7f7f7f\">                </span>\n",
       "</pre>\n"
      ],
      "text/plain": [
       "\u001b[2;36m[06/15/23 12:11:28]\u001b[0m\u001b[2;36m \u001b[0m\u001b[34mINFO    \u001b[0m Negative elements in pSS after normalization, attempting to correct   \u001b]8;id=623078;file:///ihome/lchong/dty7/Apps/msm_we/msm_we/_hamsm/_analysis.py\u001b\\\u001b[2m_analysis.py\u001b[0m\u001b]8;;\u001b\\\u001b[2m:\u001b[0m\u001b]8;id=966892;file:///ihome/lchong/dty7/Apps/msm_we/msm_we/_hamsm/_analysis.py#237\u001b\\\u001b[2m237\u001b[0m\u001b]8;;\u001b\\\n",
       "\u001b[2;36m                    \u001b[0m         with matrix power method.                                             \u001b[2m                \u001b[0m\n"
      ]
     },
     "metadata": {},
     "output_type": "display_data"
    },
    {
     "data": {
      "text/html": [
       "<pre style=\"white-space:pre;overflow-x:auto;line-height:normal;font-family:Menlo,'DejaVu Sans Mono',consolas,'Courier New',monospace\"><span style=\"color: #7fbfbf; text-decoration-color: #7fbfbf\">                    </span><span style=\"color: #000080; text-decoration-color: #000080\">INFO    </span> Corrected to semidefinite pSS in <span style=\"color: #008080; text-decoration-color: #008080; font-weight: bold\">176</span> iterations                       <a href=\"file:///ihome/lchong/dty7/Apps/msm_we/msm_we/_hamsm/_analysis.py\" target=\"_blank\"><span style=\"color: #7f7f7f; text-decoration-color: #7f7f7f\">_analysis.py</span></a><span style=\"color: #7f7f7f; text-decoration-color: #7f7f7f\">:</span><a href=\"file:///ihome/lchong/dty7/Apps/msm_we/msm_we/_hamsm/_analysis.py#248\" target=\"_blank\"><span style=\"color: #7f7f7f; text-decoration-color: #7f7f7f\">248</span></a>\n",
       "</pre>\n"
      ],
      "text/plain": [
       "\u001b[2;36m                   \u001b[0m\u001b[2;36m \u001b[0m\u001b[34mINFO    \u001b[0m Corrected to semidefinite pSS in \u001b[1;36m176\u001b[0m iterations                       \u001b]8;id=395661;file:///ihome/lchong/dty7/Apps/msm_we/msm_we/_hamsm/_analysis.py\u001b\\\u001b[2m_analysis.py\u001b[0m\u001b]8;;\u001b\\\u001b[2m:\u001b[0m\u001b]8;id=933098;file:///ihome/lchong/dty7/Apps/msm_we/msm_we/_hamsm/_analysis.py#248\u001b\\\u001b[2m248\u001b[0m\u001b]8;;\u001b\\\n"
      ]
     },
     "metadata": {},
     "output_type": "display_data"
    }
   ],
   "source": [
    "model.get_steady_state_algebraic()"
   ]
  },
  {
   "cell_type": "markdown",
   "id": "9dd0ebef",
   "metadata": {},
   "source": [
    "Calculate sum of target state ss flux ($k_{AB}$) via https://www.ncbi.nlm.nih.gov/pmc/articles/PMC8045600/#FD3 equation 3:\n",
    "\n",
    "$k_{AB} = Flux(A \\rightarrow B;SS) = \\sum_{i\\notin B, j\\in B} p_{i}^{\\alpha}T_{ij}^{\\alpha}$ (haMSM)\n",
    "\n",
    "Here, $p^{\\alpha}$ is given by `model.pSS` and $T^{\\alpha}$ is given by `model.Tmatrix`.\n",
    "\n",
    "Running `model.get_steady_state_target_flux()` calculates $k_{AB}$, output `model.JtargetSS`."
   ]
  },
  {
   "cell_type": "code",
   "execution_count": 13,
   "id": "60880086",
   "metadata": {},
   "outputs": [],
   "source": [
    "model.get_steady_state_target_flux()"
   ]
  },
  {
   "cell_type": "code",
   "execution_count": 14,
   "id": "845a8bed",
   "metadata": {},
   "outputs": [
    {
     "data": {
      "text/plain": [
       "1.9954185219363416e-21"
      ]
     },
     "execution_count": 14,
     "metadata": {},
     "output_type": "execute_result"
    }
   ],
   "source": [
    "model.JtargetSS"
   ]
  },
  {
   "cell_type": "markdown",
   "id": "1aa0b9ca",
   "metadata": {},
   "source": [
    "### Getting model outputs\n",
    "---"
   ]
  },
  {
   "cell_type": "markdown",
   "id": "ad369cf3",
   "metadata": {},
   "source": [
    "Block validation output"
   ]
  },
  {
   "cell_type": "code",
   "execution_count": null,
   "id": "17dab523",
   "metadata": {},
   "outputs": [],
   "source": [
    "import weight_loop\n",
    "for idx, v_model in enumerate(model.validation_models):\n",
    "    if idx == 0:\n",
    "        continue\n",
    "    weight_loop.create_reweighted_h5_global(v_model,new_name=f'west_{idx}.h5')"
   ]
  },
  {
   "cell_type": "markdown",
   "id": "11847e05",
   "metadata": {},
   "source": [
    "Use haMSM weights to create new west.h5 file, use this updated west.h5 file for running subsequent WE simulations."
   ]
  },
  {
   "cell_type": "code",
   "execution_count": null,
   "id": "ce3f1fec",
   "metadata": {},
   "outputs": [],
   "source": [
    "import weight_loop\n",
    "\n",
    "weight_loop.create_reweighted_h5_global(model, west_name='west_nocoords.h5', copy=True, \n",
    "                                        struct_filetype='ncrst', new_name=f'west_reweight.h5', \n",
    "                                        gen_sstates=True, pdb_out=False, link_out=True, \n",
    "                                        link_path=\"/ocean/projects/mcb180038p/jml230/bdpa_wsh2029_p3_r3\",)"
   ]
  },
  {
   "cell_type": "markdown",
   "id": "13e1fdb5",
   "metadata": {},
   "source": [
    "Extract transition state (pseudo-committor of a certain range)"
   ]
  },
  {
   "cell_type": "code",
   "execution_count": null,
   "id": "b6477b07",
   "metadata": {},
   "outputs": [],
   "source": []
  }
 ],
 "metadata": {
  "kernelspec": {
   "display_name": "hamsm",
   "language": "python",
   "name": "hamsm"
  },
  "language_info": {
   "codemirror_mode": {
    "name": "ipython",
    "version": 3
   },
   "file_extension": ".py",
   "mimetype": "text/x-python",
   "name": "python",
   "nbconvert_exporter": "python",
   "pygments_lexer": "ipython3",
   "version": "3.10.11"
  }
 },
 "nbformat": 4,
 "nbformat_minor": 5
}
